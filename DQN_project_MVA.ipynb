{
  "nbformat": 4,
  "nbformat_minor": 0,
  "metadata": {
    "colab": {
      "name": "DQN_project_MVA.ipynb",
      "version": "0.3.2",
      "provenance": [],
      "collapsed_sections": [],
      "include_colab_link": true
    },
    "kernelspec": {
      "name": "python3",
      "display_name": "Python 3"
    },
    "accelerator": "GPU"
  },
  "cells": [
    {
      "cell_type": "markdown",
      "metadata": {
        "id": "view-in-github",
        "colab_type": "text"
      },
      "source": [
        "<a href=\"https://colab.research.google.com/github/ardevr/MVA-MP3/blob/master/DQN_project_MVA.ipynb\" target=\"_parent\"><img src=\"https://colab.research.google.com/assets/colab-badge.svg\" alt=\"Open In Colab\"/></a>"
      ]
    },
    {
      "metadata": {
        "id": "CMxYpLaS7q1g",
        "colab_type": "text"
      },
      "cell_type": "markdown",
      "source": [
        "**You may need to install [OpenCV](https://pypi.python.org/pypi/opencv-python) and [scikit-video](http://www.scikit-video.org/stable/).**"
      ]
    },
    {
      "metadata": {
        "id": "muI-AlyI70UZ",
        "colab_type": "code",
        "outputId": "6b19c105-8d90-4748-c001-32faf14857c2",
        "colab": {
          "base_uri": "https://localhost:8080/",
          "height": 188
        }
      },
      "cell_type": "code",
      "source": [
        "!pip install scikit-video"
      ],
      "execution_count": 1,
      "outputs": [
        {
          "output_type": "stream",
          "text": [
            "Collecting scikit-video\n",
            "\u001b[?25l  Downloading https://files.pythonhosted.org/packages/b1/a6/c69cad508139a342810ae46e946ebb3256aa6e42f690d901bb68f50582e3/scikit_video-1.1.11-py2.py3-none-any.whl (2.3MB)\n",
            "\u001b[K    100% |████████████████████████████████| 2.3MB 13.9MB/s \n",
            "\u001b[?25hRequirement already satisfied: pillow in /usr/local/lib/python3.6/dist-packages (from scikit-video) (4.0.0)\n",
            "Requirement already satisfied: numpy in /usr/local/lib/python3.6/dist-packages (from scikit-video) (1.14.6)\n",
            "Requirement already satisfied: scipy in /usr/local/lib/python3.6/dist-packages (from scikit-video) (1.1.0)\n",
            "Requirement already satisfied: olefile in /usr/local/lib/python3.6/dist-packages (from pillow->scikit-video) (0.46)\n",
            "Installing collected packages: scikit-video\n",
            "Successfully installed scikit-video-1.1.11\n"
          ],
          "name": "stdout"
        }
      ]
    },
    {
      "metadata": {
        "id": "aL4CdAoe7q1h",
        "colab_type": "code",
        "outputId": "73d75a0d-7889-4c9d-c520-4ee744d75df5",
        "colab": {
          "base_uri": "https://localhost:8080/",
          "height": 34
        }
      },
      "cell_type": "code",
      "source": [
        "import keras\n",
        "import numpy as np\n",
        "import io\n",
        "import base64\n",
        "from IPython.display import HTML\n",
        "import skvideo.io\n",
        "import cv2\n",
        "import json\n",
        "\n",
        "\n",
        "from keras.models import Sequential,model_from_json\n",
        "from keras.layers.core import Dense\n",
        "from keras.optimizers import sgd\n",
        "from keras.layers import Conv2D, MaxPooling2D, Activation, AveragePooling2D,Reshape,BatchNormalization,Flatten"
      ],
      "execution_count": 2,
      "outputs": [
        {
          "output_type": "stream",
          "text": [
            "Using TensorFlow backend.\n"
          ],
          "name": "stderr"
        }
      ]
    },
    {
      "metadata": {
        "id": "88W-70nZ7q1k",
        "colab_type": "text"
      },
      "cell_type": "markdown",
      "source": [
        "# MiniProject #3: Deep Reinforcement Learning"
      ]
    },
    {
      "metadata": {
        "id": "t3izNgiX7q1l",
        "colab_type": "text"
      },
      "cell_type": "markdown",
      "source": [
        "__Notations__: $E_p$ is the expectation under probability $p$. Please justify each of your answer and widely comment your code."
      ]
    },
    {
      "metadata": {
        "id": "8uFHeZKs7q1l",
        "colab_type": "text"
      },
      "cell_type": "markdown",
      "source": [
        "# Context"
      ]
    },
    {
      "metadata": {
        "id": "sggSbUBV7q1m",
        "colab_type": "text"
      },
      "cell_type": "markdown",
      "source": [
        "In a reinforcement learning algorithm, we modelize each step $t$ as an action $a_t$ obtained from a state $s_t$, i.e. $\\{(a_{t},s_{t})_{t\\leq T}\\}$ having the Markov property. We consider a discount factor $\\gamma \\in [0,1]$ that ensures convergence. The goal is to find among all the policies $\\pi$, one that maximizes the expected reward:\n",
        "\n",
        "\\begin{equation*}\n",
        "R(\\pi)=\\sum_{t\\leq T}E_{p^{\\pi}}[\\gamma^t r(s_{t},a_{t})] \\> ,\n",
        "\\end{equation*}\n",
        "\n",
        "where: \n",
        "\\begin{equation*}p^{\\pi}(a_{0},a_{1},s_{1},...,a_{T},s_{T})=p(a_{0})\\prod_{t=1}^{T}\\pi(a_{t}|s_{t})p(s_{t+1}|s_{t},a_{t}) \\> .\n",
        "\\end{equation*}\n",
        "\n",
        "We note the $Q$-function:\n",
        "\n",
        "\\begin{equation*}Q^\\pi(s,a)=E_{p^{\\pi}}[\\sum_{t\\leq T}\\gamma^{t}r(s_{t},a_{t})|s_{0}=s,a_{0}=a] \\> .\n",
        "\\end{equation*}\n",
        "\n",
        "Thus, the optimal Q function is:\n",
        "\\begin{equation*}\n",
        "Q^*(s,a)=\\max_{\\pi}Q^\\pi(s,a) \\> .\n",
        "\\end{equation*}\n",
        "\n",
        "In this project, we will apply the deep reinforcement learning techniques to a simple game: an agent will have to learn from scratch a policy that will permit it maximizing a reward."
      ]
    },
    {
      "metadata": {
        "id": "hYH6-vQ17q1n",
        "colab_type": "text"
      },
      "cell_type": "markdown",
      "source": [
        "## The environment, the agent and the game"
      ]
    },
    {
      "metadata": {
        "id": "FVB3e_aP7q1n",
        "colab_type": "text"
      },
      "cell_type": "markdown",
      "source": [
        "### The environment"
      ]
    },
    {
      "metadata": {
        "id": "rlDbAaZg7q1o",
        "colab_type": "text"
      },
      "cell_type": "markdown",
      "source": [
        "```Environment``` is an abstract class that represents the states, rewards, and actions to obtain the new state."
      ]
    },
    {
      "metadata": {
        "id": "DZSb8ebA7q1o",
        "colab_type": "code",
        "colab": {}
      },
      "cell_type": "code",
      "source": [
        "class Environment(object):\n",
        "    def __init__(self):\n",
        "        pass\n",
        "\n",
        "    def act(self, act):\n",
        "        \"\"\"\n",
        "        One can act on the environment and obtain its reaction:\n",
        "        - the new state\n",
        "        - the reward of the new state\n",
        "        - should we continue the game?\n",
        "\n",
        "        :return: state, reward, game_over\n",
        "        \"\"\"\n",
        "        pass\n",
        "\n",
        "\n",
        "    def reset(self):\n",
        "        \"\"\"\n",
        "        Reinitialize the environment to a random state and returns\n",
        "        the original state\n",
        "\n",
        "        :return: state\n",
        "        \"\"\"\n",
        "        pass\n",
        "    \n",
        "    def draw(self):\n",
        "        \"\"\"\n",
        "        Visualize in the console or graphically the current state\n",
        "        \"\"\"\n",
        "        pass"
      ],
      "execution_count": 0,
      "outputs": []
    },
    {
      "metadata": {
        "id": "vNsl_WZU7q1r",
        "colab_type": "text"
      },
      "cell_type": "markdown",
      "source": [
        "The method ```act``` allows to act on the environment at a given state $s_t$ (stored internally), via action $a_t$. The method will return the new state $s_{t+1}$, the reward $r(s_{t},a_{t})$ and determines if $t\\leq T$ (*game_over*).\n",
        "\n",
        "The method ```reset``` simply reinitializes the environment to a random state $s_0$.\n",
        "\n",
        "The method ```draw``` displays the current state $s_t$ (this is useful to check the behavior of the Agent).\n",
        "\n",
        "We modelize $s_t$ as a tensor, while $a_t$ is an integer."
      ]
    },
    {
      "metadata": {
        "id": "I4DeBybq7q1r",
        "colab_type": "text"
      },
      "cell_type": "markdown",
      "source": [
        "### The Agent"
      ]
    },
    {
      "metadata": {
        "id": "1vry5QBV7q1s",
        "colab_type": "text"
      },
      "cell_type": "markdown",
      "source": [
        "The goal of the ```Agent``` is to interact with the ```Environment``` by proposing actions $a_t$ obtained from a given state $s_t$ to attempt to maximize its __reward__ $r(s_t,a_t)$. We propose the following abstract class:"
      ]
    },
    {
      "metadata": {
        "id": "_-MYkE0G7q1s",
        "colab_type": "code",
        "colab": {}
      },
      "cell_type": "code",
      "source": [
        "class Agent(object):\n",
        "    def __init__(self, epsilon=0.1, n_action=4):\n",
        "        self.epsilon = epsilon\n",
        "        self.n_action = n_action\n",
        "    \n",
        "    def set_epsilon(self,e):\n",
        "        self.epsilon = e\n",
        "\n",
        "    def act(self,s,train=True):\n",
        "        \"\"\" This function should return the next action to do:\n",
        "        an integer between 0 and 4 (not included) with a random exploration of epsilon\"\"\"\n",
        "        if train:\n",
        "            if np.random.rand() <= self.epsilon:\n",
        "                a = np.random.randint(0, self.n_action, size=1)[0]\n",
        "            else:\n",
        "                a = self.learned_act(s)\n",
        "        else: # in some cases, this can improve the performance.. remove it if poor performances\n",
        "            a = self.learned_act(s)\n",
        "\n",
        "        return a\n",
        "\n",
        "    def learned_act(self,s):\n",
        "        \"\"\" Act via the policy of the agent, from a given state s\n",
        "        it proposes an action a\"\"\"\n",
        "        pass\n",
        "\n",
        "    def reinforce(self, s, n_s, a, r, game_over_):\n",
        "        \"\"\" This function is the core of the learning algorithm. \n",
        "        It takes as an input the current state s_, the next state n_s_\n",
        "        the action a_ used to move from s_ to n_s_ and the reward r_.\n",
        "        \n",
        "        Its goal is to learn a policy.\n",
        "        \"\"\"\n",
        "        pass\n",
        "\n",
        "    def save(self):\n",
        "        \"\"\" This function returns basic stats if applicable: the\n",
        "        loss and/or the model\"\"\"\n",
        "        pass\n",
        "\n",
        "    def load(self):\n",
        "        \"\"\" This function allows to restore a model\"\"\"\n",
        "        pass"
      ],
      "execution_count": 0,
      "outputs": []
    },
    {
      "metadata": {
        "id": "OCd0DD1N7q1v",
        "colab_type": "text"
      },
      "cell_type": "markdown",
      "source": [
        "***\n",
        "__Question 1__:\n",
        "Explain the function act. Why is ```epsilon``` essential?"
      ]
    },
    {
      "metadata": {
        "id": "dBvHS36a7q1w",
        "colab_type": "text"
      },
      "cell_type": "markdown",
      "source": [
        "The act function is used to select the next action taken by the agent. However, as the rewards obtained by the agent are correlated in time, always taking the action that maximizes the total reward until now may be suboptimal. The parameter $\\varepsilon$ insures that the agent still explores possible actions throughout the training and does not simply select the action with the highest estimated reward which can be suboptimal in reality.\n",
        "\n",
        "In short, $\\varepsilon$ is essential for exploration of the action space."
      ]
    },
    {
      "metadata": {
        "id": "IojrdLb47q1w",
        "colab_type": "text"
      },
      "cell_type": "markdown",
      "source": [
        "***\n",
        "### The Game"
      ]
    },
    {
      "metadata": {
        "id": "t6sRJjVk7q1x",
        "colab_type": "text"
      },
      "cell_type": "markdown",
      "source": [
        "The ```Agent``` and the ```Environment``` work in an interlaced way as in the following (take some time to understand this code as it is the core of the project)\n",
        "\n",
        "```python\n",
        "\n",
        "epoch = 300\n",
        "env = Environment()\n",
        "agent = Agent()\n",
        "\n",
        "\n",
        "# Number of won games\n",
        "score = 0\n",
        "loss = 0\n",
        "\n",
        "\n",
        "for e in range(epoch):\n",
        "    # At each epoch, we restart to a fresh game and get the initial state\n",
        "    state = env.reset()\n",
        "    # This assumes that the games will end\n",
        "    game_over = False\n",
        "\n",
        "    win = 0\n",
        "    lose = 0\n",
        "    \n",
        "    while not game_over:\n",
        "        # The agent performs an action\n",
        "        action = agent.act(state)\n",
        "\n",
        "        # Apply an action to the environment, get the next state, the reward\n",
        "        # and if the games end\n",
        "        prev_state = state\n",
        "        state, reward, game_over = env.act(action)\n",
        "\n",
        "        # Update the counters\n",
        "        if reward > 0:\n",
        "            win = win + reward\n",
        "        if reward < 0:\n",
        "            lose = lose -reward\n",
        "\n",
        "        # Apply the reinforcement strategy\n",
        "        loss = agent.reinforce(prev_state, state,  action, reward, game_over)\n",
        "\n",
        "    # Save as a mp4\n",
        "    if e % 10 == 0:\n",
        "        env.draw(e)\n",
        "\n",
        "    # Update stats\n",
        "    score += win-lose\n",
        "\n",
        "    print(\"Epoch {:03d}/{:03d} | Loss {:.4f} | Win/lose count {}/{} ({})\"\n",
        "          .format(e, epoch, loss, win, lose, win-lose))\n",
        "    agent.save()\n",
        "```"
      ]
    },
    {
      "metadata": {
        "id": "Iy-rq2qP7q1x",
        "colab_type": "text"
      },
      "cell_type": "markdown",
      "source": [
        "# The game, *eat cheese*"
      ]
    },
    {
      "metadata": {
        "id": "j9CsZA7M7q1y",
        "colab_type": "text"
      },
      "cell_type": "markdown",
      "source": [
        "A rat runs on an island and tries to eat as much as possible. The island is subdivided into $N\\times N$ cells, in which there are cheese (+0.5) and poisonous cells (-1). The rat has a visibility of 2 cells (thus it can see $5^2$ cells). The rat is given a time $T$ to accumulate as much food as possible. It can perform 4 actions: going up, down, left, right. \n",
        "\n",
        "The goal is to code an agent to solve this task that will learn by trial and error. We propose the following environment:"
      ]
    },
    {
      "metadata": {
        "id": "Dys0Xgqc7q10",
        "colab_type": "code",
        "colab": {}
      },
      "cell_type": "code",
      "source": [
        "class Environment(object):\n",
        "  \n",
        "    def __init__(self, grid_size=10, max_time=500, temperature=0.1):\n",
        "        grid_size = grid_size+4\n",
        "        self.grid_size = grid_size\n",
        "        self.max_time = max_time\n",
        "        self.temperature = temperature\n",
        "\n",
        "        #board on which one plays\n",
        "        self.board = np.zeros((grid_size,grid_size))\n",
        "        self.position = np.zeros((grid_size,grid_size))\n",
        "\n",
        "        # coordinate of the cat\n",
        "        self.x = 0\n",
        "        self.y = 1\n",
        "\n",
        "        # self time\n",
        "        self.t = 0\n",
        "\n",
        "        self.scale=16\n",
        "\n",
        "        self.to_draw = np.zeros((max_time+2, grid_size*self.scale, grid_size*self.scale, 3))\n",
        "\n",
        "\n",
        "    def draw(self,e):\n",
        "        skvideo.io.vwrite(str(e) + '.mp4', self.to_draw)\n",
        "\n",
        "    def get_frame(self,t):\n",
        "        b = np.zeros((self.grid_size,self.grid_size,3))+128\n",
        "        b[self.board>0,0] = 256\n",
        "        b[self.board < 0, 2] = 256\n",
        "        b[self.x,self.y,:]=256\n",
        "        b[-2:,:,:]=0\n",
        "        b[:,-2:,:]=0\n",
        "        b[:2,:,:]=0\n",
        "        b[:,:2,:]=0\n",
        "        \n",
        "        b =  cv2.resize(b, None, fx=self.scale, fy=self.scale, interpolation=cv2.INTER_NEAREST)\n",
        "\n",
        "        self.to_draw[t,:,:,:]=b\n",
        "\n",
        "\n",
        "    def act(self, action):\n",
        "        \"\"\"This function returns the new state, reward and decides if the\n",
        "        game ends.\"\"\"\n",
        "\n",
        "        self.get_frame(int(self.t))\n",
        "\n",
        "        self.position = np.zeros((self.grid_size, self.grid_size))\n",
        "\n",
        "        self.position[0:2,:]= -1\n",
        "        self.position[:,0:2] = -1\n",
        "        self.position[-2:, :] = -1\n",
        "        self.position[:, -2:] = -1\n",
        "\n",
        "        self.position[self.x, self.y] = 1\n",
        "        if action == 0:\n",
        "            if self.x == self.grid_size-3:\n",
        "                self.x = self.x-1\n",
        "            else:\n",
        "                self.x = self.x + 1\n",
        "        elif action == 1:\n",
        "            if self.x == 2:\n",
        "                self.x = self.x+1\n",
        "            else:\n",
        "                self.x = self.x-1\n",
        "        elif action == 2:\n",
        "            if self.y == self.grid_size - 3:\n",
        "                self.y = self.y - 1\n",
        "            else:\n",
        "                self.y = self.y + 1\n",
        "        elif action == 3:\n",
        "            if self.y == 2:\n",
        "                self.y = self.y + 1\n",
        "            else:\n",
        "                self.y = self.y - 1\n",
        "        else:\n",
        "            RuntimeError('Error: action not recognized')\n",
        "\n",
        "        self.t = self.t + 1\n",
        "        reward = self.board[self.x, self.y]\n",
        "        self.board[self.x, self.y] = 0\n",
        "        game_over = self.t > self.max_time\n",
        "        state = np.concatenate((self.board.reshape(self.grid_size, self.grid_size,1),\n",
        "                        self.position.reshape(self.grid_size, self.grid_size,1)),axis=2)\n",
        "        state = state[self.x-2:self.x+3,self.y-2:self.y+3,:]\n",
        "\n",
        "        return state, reward, game_over\n",
        "\n",
        "    def reset(self):\n",
        "        \"\"\"This function resets the game and returns the initial state\"\"\"\n",
        "\n",
        "        self.x = np.random.randint(3, self.grid_size-3, size=1)[0]\n",
        "        self.y = np.random.randint(3, self.grid_size-3, size=1)[0]\n",
        "\n",
        "\n",
        "        bonus = 0.5*np.random.binomial(1,self.temperature,size=self.grid_size**2)\n",
        "        bonus = bonus.reshape(self.grid_size,self.grid_size)\n",
        "\n",
        "        malus = -1.0*np.random.binomial(1,self.temperature,size=self.grid_size**2)\n",
        "        malus = malus.reshape(self.grid_size, self.grid_size)\n",
        "\n",
        "        self.to_draw = np.zeros((self.max_time+2, self.grid_size*self.scale, self.grid_size*self.scale, 3))\n",
        "\n",
        "\n",
        "        malus[bonus>0]=0\n",
        "\n",
        "        self.board = bonus + malus\n",
        "\n",
        "        self.position = np.zeros((self.grid_size, self.grid_size))\n",
        "        self.position[0:2,:]= -1\n",
        "        self.position[:,0:2] = -1\n",
        "        self.position[-2:, :] = -1\n",
        "        self.position[:, -2:] = -1\n",
        "        self.board[self.x,self.y] = 0\n",
        "        self.t = 0\n",
        "\n",
        "        state = np.concatenate((\n",
        "                               self.board.reshape(self.grid_size, self.grid_size,1),\n",
        "                        self.position.reshape(self.grid_size, self.grid_size,1)),axis=2)\n",
        "\n",
        "        state = state[self.x - 2:self.x + 3, self.y - 2:self.y + 3, :]\n",
        "        return state"
      ],
      "execution_count": 0,
      "outputs": []
    },
    {
      "metadata": {
        "id": "wi5_4TcE7q11",
        "colab_type": "text"
      },
      "cell_type": "markdown",
      "source": [
        "The following elements are important because they correspond to the hyper parameters for this project:"
      ]
    },
    {
      "metadata": {
        "id": "zcgD8lsa7q12",
        "colab_type": "code",
        "colab": {}
      },
      "cell_type": "code",
      "source": [
        "# parameters\n",
        "size = 13\n",
        "T=200\n",
        "temperature=0.3\n",
        "epochs_train=100 # set small when debugging\n",
        "epochs_test=20 # set small when debugging\n",
        "\n",
        "# display videos\n",
        "def display_videos(name):\n",
        "    video = io.open(name, 'r+b').read()\n",
        "    encoded = base64.b64encode(video)\n",
        "    return '''<video alt=\"test\" controls>\n",
        "                <source src=\"data:video/mp4;base64,{0}\" type=\"video/mp4\" />\n",
        "             </video>'''.format(encoded.decode('ascii'))"
      ],
      "execution_count": 0,
      "outputs": []
    },
    {
      "metadata": {
        "id": "jUWX_o5X7q15",
        "colab_type": "text"
      },
      "cell_type": "markdown",
      "source": [
        "__Question 2__ Explain the use of the arrays ```position``` and ```board```."
      ]
    },
    {
      "metadata": {
        "id": "Uyw5Dd-R7q17",
        "colab_type": "text"
      },
      "cell_type": "markdown",
      "source": [
        "The array ```board``` represents the different malus and bonus on the discretized island. When the mouse visit a cell, it eats the bonus or malus and cell's value is set to $0$.\n",
        "\n",
        "The array  ```position```  is used to track the position of the mouse on the board, as after each action the previous position of the mouse will be marked by a $1$ and all other cells will be at $0$."
      ]
    },
    {
      "metadata": {
        "id": "IVp87lpf7q17",
        "colab_type": "text"
      },
      "cell_type": "markdown",
      "source": [
        "## Random Agent"
      ]
    },
    {
      "metadata": {
        "id": "_CoovCXz7q17",
        "colab_type": "text"
      },
      "cell_type": "markdown",
      "source": [
        "***\n",
        "__Question 3__ Implement a random Agent (only ```learned_act``` needs to be implemented):"
      ]
    },
    {
      "metadata": {
        "id": "QkbEAUou7q18",
        "colab_type": "code",
        "colab": {}
      },
      "cell_type": "code",
      "source": [
        "class RandomAgent(Agent):\n",
        "    def __init__(self):\n",
        "        super(RandomAgent, self).__init__()\n",
        "        \n",
        "\n",
        "    def learned_act(self, s):\n",
        "        return np.random.randint(0,self.n_action)"
      ],
      "execution_count": 0,
      "outputs": []
    },
    {
      "metadata": {
        "id": "aGH2CWmE7q1-",
        "colab_type": "text"
      },
      "cell_type": "markdown",
      "source": [
        "***\n",
        "***\n",
        "__Question 4__ Visualize the game moves. You need to fill in the following function for the evaluation:"
      ]
    },
    {
      "metadata": {
        "id": "9Mus6J8j7q1_",
        "colab_type": "code",
        "colab": {}
      },
      "cell_type": "code",
      "source": [
        "def test(agent,env,epochs,prefix=''):\n",
        "    # Number of won games\n",
        "    score = 0\n",
        "        \n",
        "    for e in range(epochs):\n",
        "      \n",
        "      state = env.reset()\n",
        "      game_over = False\n",
        "      win = 0\n",
        "      lose = 0\n",
        "      \n",
        "      while not game_over:\n",
        "        \n",
        "        # Play while the agent has not encountered a terminal state\n",
        "        action = agent.learned_act(state)\n",
        "        prev_state = state\n",
        "        state, reward, game_over = env.act(action)\n",
        "\n",
        "        if reward > 0:\n",
        "          win = win + reward\n",
        "        if reward < 0:\n",
        "          lose = lose - reward\n",
        "          \n",
        "      # Save as a mp4\n",
        "      env.draw(prefix+str(e))\n",
        "\n",
        "      # Update stats\n",
        "      score = score + win-lose\n",
        "\n",
        "      print(\"Win/lose count {}/{}. Average score ({})\".format(win, lose, score/(1+e)))\n",
        "    print('Final score: '+str(score/epochs))"
      ],
      "execution_count": 0,
      "outputs": []
    },
    {
      "metadata": {
        "id": "4aUpE9xH7q2B",
        "colab_type": "code",
        "outputId": "63d9eba0-d34f-4a48-c850-16daac8fc7d4",
        "colab": {
          "base_uri": "https://localhost:8080/",
          "height": 524
        }
      },
      "cell_type": "code",
      "source": [
        "# Initialize the game\n",
        "env = Environment(grid_size=size, max_time=T,temperature=temperature)\n",
        "\n",
        "# Initialize the agent!\n",
        "agent = RandomAgent()\n",
        "\n",
        "test(agent,env,epochs_test,prefix='random')\n",
        "HTML(display_videos('random19.mp4'))"
      ],
      "execution_count": 11,
      "outputs": [
        {
          "output_type": "stream",
          "text": [
            "Win/lose count 9.0/11.0. Average score (-2.0)\n",
            "Win/lose count 14.5/15.0. Average score (-1.25)\n",
            "Win/lose count 12.0/16.0. Average score (-2.1666666666666665)\n",
            "Win/lose count 14.0/11.0. Average score (-0.875)\n",
            "Win/lose count 8.5/9.0. Average score (-0.8)\n",
            "Win/lose count 8.5/12.0. Average score (-1.25)\n",
            "Win/lose count 9.5/18.0. Average score (-2.2857142857142856)\n",
            "Win/lose count 11.0/15.0. Average score (-2.5)\n",
            "Win/lose count 11.5/18.0. Average score (-2.9444444444444446)\n",
            "Win/lose count 9.0/10.0. Average score (-2.75)\n",
            "Win/lose count 5.5/5.0. Average score (-2.4545454545454546)\n",
            "Win/lose count 10.0/11.0. Average score (-2.3333333333333335)\n",
            "Win/lose count 7.5/17.0. Average score (-2.8846153846153846)\n",
            "Win/lose count 9.0/11.0. Average score (-2.8214285714285716)\n",
            "Win/lose count 12.0/18.0. Average score (-3.033333333333333)\n",
            "Win/lose count 10.0/12.0. Average score (-2.96875)\n",
            "Win/lose count 7.0/11.0. Average score (-3.0294117647058822)\n",
            "Win/lose count 10.0/16.0. Average score (-3.1944444444444446)\n",
            "Win/lose count 9.0/11.0. Average score (-3.1315789473684212)\n",
            "Win/lose count 9.0/18.0. Average score (-3.425)\n",
            "Final score: -3.425\n"
          ],
          "name": "stdout"
        },
        {
          "output_type": "execute_result",
          "data": {
            "text/html": [
              "<video alt=\"test\" controls>\n",
              "                <source src=\"data:video/mp4;base64,AAAAIGZ0eXBpc29tAAACAGlzb21pc28yYXZjMW1wNDEAAAAIZnJlZQAAGRRtZGF0AAACrQYF//+p3EXpvebZSLeWLNgg2SPu73gyNjQgLSBjb3JlIDE1MiByMjg1NCBlOWE1OTAzIC0gSC4yNjQvTVBFRy00IEFWQyBjb2RlYyAtIENvcHlsZWZ0IDIwMDMtMjAxNyAtIGh0dHA6Ly93d3cudmlkZW9sYW4ub3JnL3gyNjQuaHRtbCAtIG9wdGlvbnM6IGNhYmFjPTEgcmVmPTMgZGVibG9jaz0xOjA6MCBhbmFseXNlPTB4MToweDExMSBtZT1oZXggc3VibWU9NyBwc3k9MSBwc3lfcmQ9MS4wMDowLjAwIG1peGVkX3JlZj0xIG1lX3JhbmdlPTE2IGNocm9tYV9tZT0xIHRyZWxsaXM9MSA4eDhkY3Q9MCBjcW09MCBkZWFkem9uZT0yMSwxMSBmYXN0X3Bza2lwPTEgY2hyb21hX3FwX29mZnNldD00IHRocmVhZHM9MyBsb29rYWhlYWRfdGhyZWFkcz0xIHNsaWNlZF90aHJlYWRzPTAgbnI9MCBkZWNpbWF0ZT0xIGludGVybGFjZWQ9MCBibHVyYXlfY29tcGF0PTAgY29uc3RyYWluZWRfaW50cmE9MCBiZnJhbWVzPTMgYl9weXJhbWlkPTIgYl9hZGFwdD0xIGJfYmlhcz0wIGRpcmVjdD0xIHdlaWdodGI9MSBvcGVuX2dvcD0wIHdlaWdodHA9MiBrZXlpbnQ9MjUwIGtleWludF9taW49MjUgc2NlbmVjdXQ9NDAgaW50cmFfcmVmcmVzaD0wIHJjX2xvb2thaGVhZD00MCByYz1jcmYgbWJ0cmVlPTEgY3JmPTIzLjAgcWNvbXA9MC42MCBxcG1pbj0wIHFwbWF4PTY5IHFwc3RlcD00IGlwX3JhdGlvPTEuNDAgYXE9MToxLjAwAIAAAAMyZYiEADP//vaG+BTYUyP+T7/8I/+5H7cfWfrixkIJvrVeQ9GAMl8a/5lGYaXpyc8t7R+vTNAEZz8ZS8pZp9o/ApmtrL5lb/cBMbKtQAljameJRa5vwB1TXNjMz/ilpsIQC3d2uBVVVcCogcIfUfaJQRzaq+mBI8Fk3VPKC4MvV4Q92UU2D0g9RQIxvv/ILNZhCAnxo++IHN/gz8AMNAcpoFlVBlqtz71O/sqGX9G1MTcP0VaELLbzGYf6fTWaTMU7640UL3Cl8aqu8HtJaWYfV2UQUcgCNpCUrG2XwiHyzU48sZ0F/MILCwv3D/UzCV3Fxb/psMObCGnxJm/zgvEnSUpD4okEA7vAqfDuPsl1jZUezaw/s9R/HmDtWMIMtB1e9M1jcBczZY8BnpKCEiyz4n0HEbVm4I8BniHxBTFYFErEGVRWEJjCj75gooZgRQ1tgVxOWLiFjl0i30w9enGe+S8vU83GVdbi7XBbHSEoujdLrbmET8zTPT8QCI9dgQasI7Lt1DfqGWFZmyXeLawRaV6LSeMShlqhwtuEp14npO40ET0AlzxXHGJjBU4fRcsLNu6SgMsNTy073lYpsgjU41jaZLVnxd+LKTdNwhZzIwSkWLJJjpf3c7acCuNwHR9URpEqahUoPyKuC3lAeYWiEsCuyMhiRs+RwmgyF+USi6yOTyhroUEnRSVcvN6+GJqZXlpd+9E8o4U5HvO3KRbYpDA9E9BX5aCUfNVSS4YCW8cyY2EHcEwlMFtpSy7CFyBz9EhhYN/qX+25C05Uu61dgnnuY8/mnIQmxTSsH0jMgBxAY2LMPnyLZKu0nsIWs2KazktNBvjJIy5VIH/xou4AP8SZIc7ccGYRuvNAEQbWnCsqbT8U2PgWzpSrEYlraMtanJF+RQSBJ8HOFV9Ek4Nx+YfCmtDM6Ckxs/4GubZpWNl/WA0A0ESUBAMqQOz3Q/hAggE6jEn9gJeL9cjQeFxVxkZQtJod5Jh2qyhKoVeG+40xaVAop5VlcJLXuJgJUA+R4k3GGKDcODTGe5VFTd+dHi9t9K8fl1z+5po3ikt5oKlG17aCFQAA1401ADKZBDoACpkAAAAiQZohbEM//p4QBkfPk5eZZXPePmWJYL5lk2BmykbFWctRcAAAABdBmkI8IZMphDf//qeEBJRBZtVAHIiRWwAAABdBmmNJ4Q8mUwIb//6nhASVQO+GAM+GVAAAACBBmoVJ4Q8mUwURPDf//qeEBEuzH1r8Ca/htkC455jFgQAAABABnqRqQr8B3rL9UfMfi2NBAAAAGEGaqUnhDyZTAhn//p4QD2hG796C+SJqQQAAABBBnsdFETwv/wFlVdbwQFxxAAAADwGe5nRCvwEutCAyS5SbgAAAABABnuhqQr8B3x4PJga/Za2AAAAAGUGa6kmoQWiZTAhv//6nhASSMx5IMfmR4pMAAAAXQZsLSeEKUmUwIb/+p4QElUc0a5Diaj4AAAAdQZstSeEOiZTBTRMN//6nhAGh7qfsL5tQxkZAZxwAAAAQAZ9MakK/AT9tyKvAE/lfgQAAAB9Bm1FJ4Q8mUwIb//6nhACoe6n3ebUCcAUM1TW5lmmBAAAAEUGfb0URPC//AGSD6rndH9dvAAAADgGfjnRCvwCG7jvPOLUnAAAAEAGfkGpCvwCCyfOdaGF4w4AAAAAaQZuSSahBaJlMCG///qeEAJ6gCzbEAaQ05UEAAAAbQZu2SeEKUmUwIZ/+nhACbfOb4q5GSVbrK24gAAAAEEGf1EU0TC//AF+Dz6VtJuAAAAAQAZ/zdEK/AH74YDJDybuNgQAAAA8Bn/VqQr8AfDnDYHKbf4AAAAAZQZv3SahBaJlMCG///qeEAJqPmPIxP8ttQwAAABlBmhhJ4QpSZTAhv/6nhADsHGf6rfMfiDehAAAAHUGaOknhDomUwU0TDf/+p4QA9wPt51nT3ebs/yvYAAAAEAGeWWpCvwDNuqeS5nyStIEAAAAcQZpcSeEPJlMFPDv//qmWAH19pf2LAdEC3GL64gAAABABnntqQr8A0rNzXHiraPVhAAAAEUGaYEnhDyZTAhv//qeEAAEnAAAAE0GenkURPC//AJ8mzkzbhwS5j8wAAAAPAZ69dEK/ANfJZuDZLxlxAAAAEAGev2pCvwDXkdudaGF4kkEAAAAZQZqjSahBaJlMCG///qeEAKh7qcf4fVttKwAAAA9BnsFFESwr/wCGybhrd0EAAAAPAZ7iakK/AM2lbGFZtR5AAAAAE0Ga5UmoQWyZTBRMN//+p4QAAScAAAAPAZ8EakK/AIEqRus9WepfAAAAHEGbB0nhClJlMFLDP/6eEAJ98Q/xRLznTYqA2zEAAAAQAZ8makK/AILJ851oYXjDgQAAABlBmyhJ4Q6JlMCG//6nhABnfYP8JwW6Em9AAAAAGUGbSUnhDyZTAhv//qeEAEG+On1HGhIcZUAAAAAbQZtsSeEPJlMCG//+p4QAK17wwE1/hOC3QmDhAAAAEUGfikURPCv/ACO5o3mm96mPAAAADgGfq2pCvwAjsox6Irp8AAAAEkGbsEmoQWiZTAhn//6eEAAEfQAAAAxBn85FESwv/wAAsoEAAAAQAZ/tdEK/ACLCAOhYxOLuYQAAABABn+9qQr8AIra13eSUmNzAAAAAGUGb8UmoQWyZTAhn//6eEABuV9xoXTfdcOYAAAAZQZoSSeEKUmUwIb/+p4QALD6J/qR0ci17QQAAABhBmjNJ4Q6JlMCG//6nhAAtWK0ghE/y3BMAAAApQZpWSeEPJlMCG//+p4QASb4c+ZZXjDPwKZbOz4FCkjkFms+biyvampIAAAATQZ50RRE8K/8AO2zws5wbXTN7gQAAABABnpVqQr8AO2zwh40NY6aAAAAAGkGal0moQWiZTAhv//6nhABxDjP9VvmPxDphAAAAG0GauEnhClJlMCHf/qmWADpDp+U0qgx/7YB1wQAAAB1BmtxJ4Q6JlMCHf/6plgBdtLMWmZ97ImMwUfWvQQAAABVBnvpFETwv/wBulWpNlR46dcnhy4EAAAAQAZ8ZdEK/AF+AUzyvyU2g8AAAABABnxtqQr8Aluzxyv7cPqfBAAAAH0GbAEmoQWiZTAhv//6nhAC+/H6Dt/Mw+oHhxZCnPccAAAAQQZ8+RREsL/8AcT7zurwfHgAAAA4Bn110Qr8Amu47zzi0/wAAABABn19qQr8AmtrXb2sMkgyhAAAAHEGbREmoQWyZTAhv//6nhADCurVMf6t2+wfrfvQAAAAQQZ9iRRUsL/8AdBOnf5u/CQAAAA8Bn4F0Qr8AmwgDoTkvBsAAAAAPAZ+DakK/AJ9YR5MD17b/AAAAGkGbhUmoQWyZTAhv//6nhADHurSCET/LbPWBAAAAHkGbp0nhClJlMFFSw3/+p4QCYdGQ9PsjO554P5w3oQAAABABn8ZqQr8BiXajlf24fNBBAAAAEUGby0nhDomUwIZ//p4QAAR8AAAADEGf6UUVPC//AACygAAAABABngh0Qr8CkkAdCHDduyRhAAAAEAGeCmpCvwGEzk72ePt0poAAAAAaQZoMSahBaJlMCG///qeEAojro8jE/wD46YAAAAAfQZouSeEKUmUwURLDf/6nhAKIofwTyco3/IkjFSfO6QAAAA8Bnk1qQr8BkyWlSKBKog8AAAAYQZpPSeEOiZTAhv/+p4QBNfjpj/D6ttlDAAAAIEGacUnhDyZTBRU8N//+p4QCSd4YHN17NU1m2WMX2kScAAAAEAGekGpCvwF/BY17zSs2VsAAAAAcQZqTSeEPJlMFPDv//qmWBRtUC0SbNRejHoTOOQAAABABnrJqQr8CdjweTAm7nO6AAAAAHEGatUnhDyZTBTw7//6plgVLZj8jm1AtFMOUEfAAAAAQAZ7UakK/ApE0bzS61k1swQAAABhBmtlJ4Q8mUwId//6plgUfuck6Mfl7GhAAAAAQQZ73RRE8L/8B1p0R9gXt+QAAAA8BnxZ0Qr8Bk3k3nnFoyoEAAAAQAZ8YakK/AnY/bpUOSCsM+AAAABtBmx1JqEFomUwId//+qZYFS2qgcP8jrOhFFbEAAAAQQZ87RREsL/8B1p0R9gXt+AAAAA4Bn1p0Qr8Cdc6AySvA/wAAABABn1xqQr8CdW2oPoCQVhnxAAAAGkGbQEmoQWyZTAh3//6plgE376vp8YdIATegAAAAEkGffkUVLCv/ApGnXduqo8HqgAAAAA4Bn59qQr8CkFbAAKuPVQAAABpBm4NJqEFsmUwId//+qZYAnPx5+/ZBuKffMAAAAA9Bn6FFFSwr/wD4A/5pc+EAAAANAZ/CakK/APhYFA0oZgAAABtBm8dJqEFsmUwIb//+p4QBPFmj+heb3U+LV3EAAAAQQZ/lRRUsL/8AvtAgpQwdSQAAAA8BngR0Qr8Ao8YxcB+WmqEAAAAPAZ4GakK/AP7YjyYHr21BAAAAGkGaCEmoQWyZTAh3//6plgCh+0vC1BP6UFbAAAAAGkGaLEnhClJlMCG//qeEATX46fcyVWk9o5xwAAAAEEGeSkU0TC//ALoywT43AMEAAAAQAZ5pdEK/APfwwGSW/1tSQAAAAA8BnmtqQr8A8pqHQtG1DsAAAAAZQZpwSahBaJlMCG///qeEATRbS5m91Pi1gQAAABBBno5FESwv/wC6UCClDB2ZAAAADwGerXRCvwCfRhAZJcqTgQAAABABnq9qQr8A+DPCHjQ1jJ2AAAAAGUGasUmoQWyZTAhv//6nhAE1+OmP8Pq22UMAAAAfQZrTSeEKUmUwUVLDf/6nhAIhjNU1m2keOnwhnKcsqQAAABABnvJqQr8BdbIhNxn16ai4AAAAHUGa9UnhDomUwUTDf/6nhAIp46e+GeUNZqmtzj2DAAAAEAGfFGpCvwF1a+c60MLw4EEAAAAYQZsYSeEPJlMCG//+p4QBJB8x5GJ/ltlVAAAAEkGfNkURPCv/AO0zF7CwX5Z1wQAAAA4Bn1dqQr8A7TNY84IDrwAAABxBm1pJqEFomUwU8N/+p4QBJfjp91pZmpt0Ws34AAAAEAGfeWpCvwDyq4NceKto7iEAAAAZQZt9SeEKUmUwIb/+p4QAw/sH+E4LdCR0wAAAAA9Bn5tFNEwr/wCfNuBJkkEAAAAPAZ+8akK/AGmBY2Bym5uBAAAAEkGbv0moQWiZTBTw3/6nhAABJwAAAA8Bn95qQr8AaYFjRK55dYEAAAAZQZvASeEKUmUwId/+qZYAQAo51oer75DNwQAAABhBm+RJ4Q6JlMCHf/6plgBCfkdBDP5Ix8AAAAAOQZ4CRRE8L/8AT6gIG9EAAAAQAZ4hdEK/AGhzk78AH27MwAAAAA8BniNqQr8AbAFjRK55dXcAAAASQZooSahBaJlMCG///qeEAAEnAAAADEGeRkURLC//AACygQAAABABnmV0Qr8AbB5N0dt8KtmBAAAADwGeZ2pCvwBsAWNErnl1dwAAAB1BmmpJqEFsmUwUTDf//qeEAMy6tUx/q3b7B+t+pAAAABABnolqQr8AqFjy3DZtTOqBAAAAGUGajUnhClJlMCG//qeEATxAFm2xGF8zR8AAAAAPQZ6rRTRMK/8A/pXAkuVAAAAADwGezGpCvwD/DQPJgiz5gQAAABtBmtFJqEFomUwIb//+p4QBPfjp9vJY0haLV3EAAAAVQZ7vRREsL/8BHsePosV2818eQaVNAAAAEAGfDnRCvwGTsq7kNlSj4eAAAAAQAZ8QakK/AYkltOvAE/k4gAAAAB1BmxNJqEFsmUwUTDP//p4QBJBDnTYL0R19/S9EwQAAABABnzJqQr8A8rPmN0OSDif4AAAAGEGbNEnhClJlMCG//qeEAS346Y/w+rbZTQAAABhBm1dJ4Q6JlMCGf/6eEAR34h51ugZIZVUAAAAPQZ91RRE8K/8A7QK4a0PAAAAADQGflmpCvwDtV+MKWh8AAAAZQZuYSahBaJlMCGf//p4QBFfiH9shj6whiwAAABlBm7lJ4QpSZTAhv/6nhAC6e6n6jjQkOEfAAAAAGUGb2knhDomUwIb//qeEAHc9g/wnBboSYEEAAAAbQZv9SeEPJlMCG//+p4QAUj3U4/wp0aXgIIjAAAAAEEGeG0URPCv/AEF2KtZPBMEAAAAPAZ48akK/AEFeaILUeXZfAAAAGkGaPkmoQWiZTAhv//6nhAB5TjP9VvmPxDZgAAAAGUGaX0nhClJlMCHf/qmWAGAqQZoA9JfX+fAAAAAbQZpjSeEOiZTAh3/+qZYAmBR0QLNAd30Y9b4/AAAAEEGegUURPC//ALWywT43AsAAAAAQAZ6gdEK/APLFWq8CK7apgQAAAA8BnqJqQr8A8tfNDrRU24AAAAAaQZqmSahBaJlMCHf//qmWASPyDM/O5j7uOOEAAAASQZ7ERREsK/8Bf3bhdhvpeah5AAAAEAGe5WpCvwGJBY17zSs2VMEAAAATQZrqSahBbJlMCHf//qmWAACVgQAAAAxBnwhFFSwv/wAAsoAAAAAQAZ8ndEK/AnbSsXo0DjeVgAAAAA8BnylqQr8BiQWNErnl0Z8AAAAcQZsuSahBbJlMCG///qeEC0PwPBm1T96J+SU+YAAAABVBn0xFFSwv/wHqnQfbMvUdO1iua7gAAAAQAZ9rdEK/AYl5N5Wyh6NywQAAABABn21qQr8CkWdAA/H8NLKBAAAAEkGbckmoQWyZTAhv//6nhAABJwAAABBBn5BFFSwv/wHrEsn297Y+AAAAEAGfr3RCvwKP1aMkqdGS6YAAAAAPAZ+xakK/ApFnR+GzaPIHAAAAGEGbs0moQWyZTAhv//6nhAtOWJHFCd3jegAAABdBm9ZJ4QpSZTAhn/6eEAkndNmNTfsTcAAAABJBn/RFNEwr/wGJI9EApgHHxcEAAAAOAZ4VakK/AYmxKup02VMAAAAcQZoYSahBaJlMFPDP/p4QCKeIf3hCW64j6ZpIwQAAABABnjdqQr8BfyO3OtDC8N3BAAAAGEGaOUnhClJlMCGf/p4QBHfiH9shj6whgQAAABhBmlpJ4Q6JlMCGf/6eEALp7psZcmyrbL0AAAAZQZp7SeEPJlMCG//+p4QBHEAWbbZ9nzRQQAAAAB1Bmp1J4Q8mUwURPDf//qeEAeu/CjWbal46fZgd0QAAABABnrxqQr8BbFGiZE0rNltBAAAAG0GavknhDyZTAhv//qeEBugCzauo/QJ3+hp+QAAAABtBmsJJ4Q8mUwIZ//6eEBx85vjru+JJG2f7Qg4AAAAUQZ7gRRE8L/8BshbbkKOAa7+HKmEAAAAQAZ8fdEK/AkjYGtpg4K+HgAAAAA8BnwFqQr8BbGspm2ZGsekAAAAbQZsDSahBaJlMCGf//p4QBxvB8BTOdboGGeLyAAAAGkGbJEnhClJlMCGf/p4QFCgxz8inxAUz8lmpAAAAHUGbRknhDomUwU0TDP/+nhAYl1NUCb3vjnSCCLKBAAAADwGfZWpCvwIy6p5Lme7o/wAAABhBm2dJ4Q8mUwIZ//6eEBld/fvylZroJjUAAAAbQZuJS+EIQ8kRggoB/IB/YeAURPCv/jhAABFwAAAAJAGfqGpCvwKvY+1BxN2qw0km5T8/bg2eMCT7Yb4bNbpvS/KJMAAAC7Btb292AAAAbG12aGQAAAAAAAAAAAAAAAAAAAPoAAAfkAABAAABAAAAAAAAAAAAAAAAAQAAAAAAAAAAAAAAAAAAAAEAAAAAAAAAAAAAAAAAAEAAAAAAAAAAAAAAAAAAAAAAAAAAAAAAAAAAAAAAAAACAAAK2nRyYWsAAABcdGtoZAAAAAMAAAAAAAAAAAAAAAEAAAAAAAAfkAAAAAAAAAAAAAAAAAAAAAAAAQAAAAAAAAAAAAAAAAAAAAEAAAAAAAAAAAAAAAAAAEAAAAABEAAAARAAAAAAACRlZHRzAAAAHGVsc3QAAAAAAAAAAQAAH5AAAAQAAAEAAAAAClJtZGlhAAAAIG1kaGQAAAAAAAAAAAAAAAAAADIAAAGUAFXEAAAAAAAtaGRscgAAAAAAAAAAdmlkZQAAAAAAAAAAAAAAAFZpZGVvSGFuZGxlcgAAAAn9bWluZgAAABR2bWhkAAAAAQAAAAAAAAAAAAAAJGRpbmYAAAAcZHJlZgAAAAAAAAABAAAADHVybCAAAAABAAAJvXN0YmwAAACVc3RzZAAAAAAAAAABAAAAhWF2YzEAAAAAAAAAAQAAAAAAAAAAAAAAAAAAAAABEAEQAEgAAABIAAAAAAAAAAEAAAAAAAAAAAAAAAAAAAAAAAAAAAAAAAAAAAAAAAAAAAAY//8AAAAvYXZjQwH0AA3/4QAXZ/QADZGbKCIR0IAAAAMAgAAAGQeKFMsBAAVo6+PESAAAABhzdHRzAAAAAAAAAAEAAADKAAACAAAAABRzdHNzAAAAAAAAAAEAAAABAAAFiGN0dHMAAAAAAAAArwAAAAQAAAQAAAAAAQAABgAAAAABAAACAAAAAAEAAAoAAAAAAQAABAAAAAABAAAAAAAAAAEAAAIAAAAAAgAABAAAAAABAAAGAAAAAAEAAAIAAAAAAQAACgAAAAABAAAEAAAAAAEAAAAAAAAAAQAAAgAAAAABAAAEAAAAAAEAAAoAAAAAAQAABAAAAAABAAAAAAAAAAEAAAIAAAAAAgAABAAAAAABAAAGAAAAAAEAAAIAAAAAAQAABgAAAAABAAACAAAAAAEAAAoAAAAAAQAABAAAAAABAAAAAAAAAAEAAAIAAAAAAQAACAAAAAACAAACAAAAAAEAAAYAAAAAAQAAAgAAAAABAAAGAAAAAAEAAAIAAAAAAgAABAAAAAABAAAIAAAAAAIAAAIAAAAAAQAACgAAAAABAAAEAAAAAAEAAAAAAAAAAQAAAgAAAAADAAAEAAAAAAEAAAgAAAAAAgAAAgAAAAACAAAEAAAAAAEAAAoAAAAAAQAABAAAAAABAAAAAAAAAAEAAAIAAAAAAQAACgAAAAABAAAEAAAAAAEAAAAAAAAAAQAAAgAAAAABAAAKAAAAAAEAAAQAAAAAAQAAAAAAAAABAAACAAAAAAEAAAQAAAAAAQAABgAAAAABAAACAAAAAAEAAAoAAAAAAQAABAAAAAABAAAAAAAAAAEAAAIAAAAAAQAABAAAAAABAAAGAAAAAAEAAAIAAAAAAQAABAAAAAABAAAGAAAAAAEAAAIAAAAAAQAABgAAAAABAAACAAAAAAEAAAYAAAAAAQAAAgAAAAABAAAKAAAAAAEAAAQAAAAAAQAAAAAAAAABAAACAAAAAAEAAAoAAAAAAQAABAAAAAABAAAAAAAAAAEAAAIAAAAAAQAACAAAAAACAAACAAAAAAEAAAgAAAAAAgAAAgAAAAABAAAKAAAAAAEAAAQAAAAAAQAAAAAAAAABAAACAAAAAAEAAAQAAAAAAQAACgAAAAABAAAEAAAAAAEAAAAAAAAAAQAAAgAAAAABAAAKAAAAAAEAAAQAAAAAAQAAAAAAAAABAAACAAAAAAEAAAQAAAAAAQAABgAAAAABAAACAAAAAAEAAAYAAAAAAQAAAgAAAAABAAAIAAAAAAIAAAIAAAAAAQAABgAAAAABAAACAAAAAAEAAAgAAAAAAgAAAgAAAAABAAAGAAAAAAEAAAIAAAAAAQAABAAAAAABAAAKAAAAAAEAAAQAAAAAAQAAAAAAAAABAAACAAAAAAEAAAoAAAAAAQAABAAAAAABAAAAAAAAAAEAAAIAAAAAAQAABgAAAAABAAACAAAAAAEAAAgAAAAAAgAAAgAAAAABAAAKAAAAAAEAAAQAAAAAAQAAAAAAAAABAAACAAAAAAEAAAYAAAAAAQAAAgAAAAABAAAEAAAAAAEAAAgAAAAAAgAAAgAAAAADAAAEAAAAAAEAAAgAAAAAAgAAAgAAAAACAAAEAAAAAAEAAAoAAAAAAQAABAAAAAABAAAAAAAAAAEAAAIAAAAAAQAACAAAAAACAAACAAAAAAEAAAoAAAAAAQAABAAAAAABAAAAAAAAAAEAAAIAAAAAAQAACgAAAAABAAAEAAAAAAEAAAAAAAAAAQAAAgAAAAABAAAKAAAAAAEAAAQAAAAAAQAAAAAAAAABAAACAAAAAAEAAAQAAAAAAQAACAAAAAACAAACAAAAAAEAAAYAAAAAAQAAAgAAAAADAAAEAAAAAAEAAAYAAAAAAQAAAgAAAAABAAAEAAAAAAEAAAoAAAAAAQAABAAAAAABAAAAAAAAAAEAAAIAAAAAAgAABAAAAAABAAAGAAAAAAEAAAIAAAAAAQAABAAAAAABAAAGAAAAAAEAAAIAAAAAHHN0c2MAAAAAAAAAAQAAAAEAAADKAAAAAQAAAzxzdHN6AAAAAAAAAAAAAADKAAAF5wAAACYAAAAbAAAAGwAAACQAAAAUAAAAHAAAABQAAAATAAAAFAAAAB0AAAAbAAAAIQAAABQAAAAjAAAAFQAAABIAAAAUAAAAHgAAAB8AAAAUAAAAFAAAABMAAAAdAAAAHQAAACEAAAAUAAAAIAAAABQAAAAVAAAAFwAAABMAAAAUAAAAHQAAABMAAAATAAAAFwAAABMAAAAgAAAAFAAAAB0AAAAdAAAAHwAAABUAAAASAAAAFgAAABAAAAAUAAAAFAAAAB0AAAAdAAAAHAAAAC0AAAAXAAAAFAAAAB4AAAAfAAAAIQAAABkAAAAUAAAAFAAAACMAAAAUAAAAEgAAABQAAAAgAAAAFAAAABMAAAATAAAAHgAAACIAAAAUAAAAFQAAABAAAAAUAAAAFAAAAB4AAAAjAAAAEwAAABwAAAAkAAAAFAAAACAAAAAUAAAAIAAAABQAAAAcAAAAFAAAABMAAAAUAAAAHwAAABQAAAASAAAAFAAAAB4AAAAWAAAAEgAAAB4AAAATAAAAEQAAAB8AAAAUAAAAEwAAABMAAAAeAAAAHgAAABQAAAAUAAAAEwAAAB0AAAAUAAAAEwAAABQAAAAdAAAAIwAAABQAAAAhAAAAFAAAABwAAAAWAAAAEgAAACAAAAAUAAAAHQAAABMAAAATAAAAFgAAABMAAAAdAAAAHAAAABIAAAAUAAAAEwAAABYAAAAQAAAAFAAAABMAAAAhAAAAFAAAAB0AAAATAAAAEwAAAB8AAAAZAAAAFAAAABQAAAAhAAAAFAAAABwAAAAcAAAAEwAAABEAAAAdAAAAHQAAAB0AAAAfAAAAFAAAABMAAAAeAAAAHQAAAB8AAAAUAAAAFAAAABMAAAAeAAAAFgAAABQAAAAXAAAAEAAAABQAAAATAAAAIAAAABkAAAAUAAAAFAAAABYAAAAUAAAAFAAAABMAAAAcAAAAGwAAABYAAAASAAAAIAAAABQAAAAcAAAAHAAAAB0AAAAhAAAAFAAAAB8AAAAfAAAAGAAAABQAAAATAAAAHwAAAB4AAAAhAAAAEwAAABwAAAAfAAAAKAAAABRzdGNvAAAAAAAAAAEAAAAwAAAAYnVkdGEAAABabWV0YQAAAAAAAAAhaGRscgAAAAAAAAAAbWRpcmFwcGwAAAAAAAAAAAAAAAAtaWxzdAAAACWpdG9vAAAAHWRhdGEAAAABAAAAAExhdmY1Ny44My4xMDA=\" type=\"video/mp4\" />\n",
              "             </video>"
            ],
            "text/plain": [
              "<IPython.core.display.HTML object>"
            ]
          },
          "metadata": {
            "tags": []
          },
          "execution_count": 11
        }
      ]
    },
    {
      "metadata": {
        "id": "KvXA3ea77q2E",
        "colab_type": "text"
      },
      "cell_type": "markdown",
      "source": [
        "***\n",
        "## DQN"
      ]
    },
    {
      "metadata": {
        "id": "8E7c5YLp7q2E",
        "colab_type": "text"
      },
      "cell_type": "markdown",
      "source": [
        "Let us assume here that $T=\\infty$.\n",
        "\n",
        "***\n",
        "__Question 5__ Let $\\pi$ be a policy, show that:\n",
        "\n",
        "\\begin{equation*}\n",
        "Q^{\\pi}(s,a)=E_{(s',a')\\sim p(.|s,a)}[r(s,a)+\\gamma Q^{\\pi}(s',a')]\n",
        "\\end{equation*}\n",
        "\n",
        "Then, show that for the optimal policy $\\pi^*$ (we assume its existence), the following holds: \n",
        "\n",
        "\\begin{equation*}\n",
        "Q^{*}(s,a)=E_{s'\\sim \\pi^*(.|s,a)}[r(s,a)+\\gamma\\max_{a'}Q^{*}(s',a')].\n",
        "\\end{equation*}\n",
        "Finally, deduce that a plausible objective is:\n",
        "\n",
        "\\begin{equation*}\n",
        "\\mathcal{L}(\\theta)=E_{s' \\sim \\pi^*(.|s,a)}\\Vert r+\\gamma\\max_{a'}Q(s',a',\\theta)-Q(s,a,\\theta)\\Vert^{2}.\n",
        "\\end{equation*}\n",
        "\n",
        "\n"
      ]
    },
    {
      "metadata": {
        "id": "GhuYPFHv7q2F",
        "colab_type": "text"
      },
      "cell_type": "markdown",
      "source": [
        "For a policy $\\pi$, a state $s$ and an action $a$  :\n",
        "\n",
        "\\begin{align*}\n",
        "Q^{\\pi}(s,a) &= E_{p^{\\pi}}\\left[\\sum_{t\\leq T}\\gamma^{t}r(s_{t},a_{t})|s_{0}=s,a_{0}=a\\right]  \\\\\n",
        "&= r(s,a) + \\gamma \\sum_{s'}E_{p^{\\pi}}\\left[\\sum_{t= 1}^{T}\\gamma^{t-1}r(s_{t},a_{t})\\mathbb{1}_{\\{s_{1} = s'\\}}|s_{0}=s,a_{0}=a\\right] \\\\\n",
        "&=  r(s,a) + \\gamma \\sum_{s'}\\mathbb{P}(s'|s,a)E_{p^{\\pi}}\\left[\\sum_{t= 1}^{T}\\gamma^{t-1}r(s_{t},a_{t}) | s_{1}=s'\\right] \\\\\n",
        " & = r(s,a) + \\gamma \\sum_{s',a'}\\mathbb{P}(s'|s,a)\\pi(a'|s')E_{p^{\\pi}}\\left[\\sum_{t= 1}^{T}\\gamma^{t-1}r(s_{t},a_{t}) | s_{1}=s',a_{1}=a'\\right] \\\\\n",
        "&=  r(s,a) + \\gamma \\mathbb{E}_{(s',a')\\sim (\\mathbb{P}(.|s,a),\\pi(.|s'))}(Q^{\\pi}(s',a')) \\\\\n",
        "\\end{align*}\n",
        "\n",
        "where $\\mathbb{P}(.|s,a)$ is the model probability when taking action $a$ in state $s$ and all equalities are justified by the fact that a sufficient statistics for the next state $s_{t+1}$ is the current state $s_{t}$ and the action $a_{t}$. \n",
        "\n",
        "For a policy $\\pi$, let's note $\\pi = (a_{0},\\pi')$ (i.e the first action is $a_{0}$ and then the action are distributed according to $\\pi'$) then the optimal $Q$-function satisifes :\n",
        "\n",
        "\\begin{align*}\n",
        "Q^{\\star}(s,a) &= \\max_{\\pi} Q^{\\pi}(s,a) \\\\\n",
        "&= r(s,a)  + \\gamma\\max_{a_{0},\\pi'} \\mathbb{E}_{(s',a')\\sim (\\mathbb{P}(.|s,a),\\pi(.|s'))}(Q^{\\pi}(s',a')) \\\\\n",
        "&= r(s,a)  + \\gamma\\max_{a_{0}} \\mathbb{E}_{s'\\sim \\mathbb{P}(.|s,a)}(Q^{\\star}(s',a_{0})) \\\\\n",
        "&= r(s,a)  + \\gamma\\mathbb{E}_{s'\\sim \\mathbb{P}(.|s,a)}(\\max_{a_{0}} Q^{\\star}(s',a_{0})) \\\\\n",
        "\\end{align*}\n",
        "\n",
        "In that case the model state distribution is deterministic so the objective $\\mathcal{L}$ is such that $\\mathcal{L}(\\theta) = || r(s,a) + \\gamma \\max_{a'} Q(s',a',\\theta) - Q(s,a,\\theta)||^{2} $\n",
        "where $s'$ is the state of the agent after taking action $a$ in state $s$. It is a sensible objective because it means we are fitting a network to represent a function that satisfy the equality characterising the optimal $Q$-function. Thus, as there is a unique function that satisfy this equality (as this can be seen as a fix point of a contraction operator) is the network converges it will be toward the optimal $Q$-function. Finally, extracting the optimal policy is not diffuclt as $\\pi^{\\star}(.|s) = \\arg\\max_{a} Q^{\\star}(s,a)$.\n",
        "\n",
        "\n"
      ]
    },
    {
      "metadata": {
        "id": "c8myFNjP7q2F",
        "colab_type": "text"
      },
      "cell_type": "markdown",
      "source": [
        "***\n",
        "The DQN-learning algorithm relies on these derivations to train the parameters $\\theta$ of a Deep Neural Network:\n",
        "\n",
        "1. At the state $s_t$, select the action $a_t$ with best reward using $Q_t$ and store the results;\n",
        "\n",
        "2. Obtain the new state $s_{t+1}$ from the environment $p$;\n",
        "\n",
        "3. Store $(s_t,a_t,s_{t+1})$;\n",
        "\n",
        "4. Obtain $Q_{t+1}$ by minimizing  $\\mathcal{L}$ from a recovered batch from the previously stored results.\n",
        "\n",
        "***\n",
        "__Question 6__ Implement the class ```Memory``` that stores moves (in a replay buffer) via ```remember``` and provides a ```random_access``` to these. Specify a maximum memory size to avoid side effects. You can for example use a ```list()``` and set by default ```max_memory=100```."
      ]
    },
    {
      "metadata": {
        "id": "sNAYDkJn7q2G",
        "colab_type": "code",
        "colab": {}
      },
      "cell_type": "code",
      "source": [
        "class Memory(object):\n",
        "    def __init__(self, max_memory=100):\n",
        "      self.max_memory = max_memory\n",
        "      self.memory = list()\n",
        "\n",
        "    def remember(self, m):\n",
        "      len_memory = len(self.memory)\n",
        "      #Check is the buffer is full\n",
        "      if len_memory >= self.max_memory :\n",
        "        #if full delete the first element\n",
        "        self.memory = self.memory[1::]\n",
        "      self.memory.append(m)\n",
        "        \n",
        "    def random_access(self):\n",
        "      #Draws a uniform random index of the memory list\n",
        "      random_index = np.random.randint(0,len(self.memory))\n",
        "      return self.memory[random_index]"
      ],
      "execution_count": 0,
      "outputs": []
    },
    {
      "metadata": {
        "id": "KwWey-cG7q2J",
        "colab_type": "text"
      },
      "cell_type": "markdown",
      "source": [
        "***\n",
        "The pipeline we will use for training is given below:"
      ]
    },
    {
      "metadata": {
        "id": "EdJYkRD87q2K",
        "colab_type": "code",
        "colab": {}
      },
      "cell_type": "code",
      "source": [
        "def train(agent,env,epoch,prefix=''):\n",
        "    # Number of won games\n",
        "    score = 0\n",
        "    loss = 0\n",
        "\n",
        "    for e in range(epoch):\n",
        "        # At each epoch, we restart to a fresh game and get the initial state\n",
        "        state = env.reset()\n",
        "        # This assumes that the games will terminate\n",
        "        game_over = False\n",
        "\n",
        "        win = 0\n",
        "        lose = 0\n",
        "\n",
        "        while not game_over:\n",
        "            # The agent performs an action\n",
        "            action = agent.act(state)\n",
        "\n",
        "            # Apply an action to the environment, get the next state, the reward\n",
        "            # and if the games end\n",
        "            prev_state = state\n",
        "            state, reward, game_over = env.act(action)\n",
        "\n",
        "            # Update the counters\n",
        "            if reward > 0:\n",
        "                win = win + reward\n",
        "            if reward < 0:\n",
        "                lose = lose -reward\n",
        "\n",
        "            # Apply the reinforcement strategy\n",
        "            loss = agent.reinforce(prev_state, state,  action, reward, game_over)\n",
        "\n",
        "        # Save as a mp4\n",
        "        if e % 1 == 0:\n",
        "            env.draw(prefix+str(e+1))\n",
        "\n",
        "        # Update stats\n",
        "        score += win-lose\n",
        "\n",
        "        print(\"Epoch {:03d}/{:03d} | Loss {:.4f} | Win/lose count {:.2f}/{:.2f} ({:.2f})\"\n",
        "              .format(e+1, epoch, loss, win, lose, win-lose))\n",
        "        agent.save(name_weights=prefix+'model.h5',name_model=prefix+'model.json')"
      ],
      "execution_count": 0,
      "outputs": []
    },
    {
      "metadata": {
        "id": "rWGrCHtC7q2O",
        "colab_type": "text"
      },
      "cell_type": "markdown",
      "source": [
        "***\n",
        "__Question 7__ Implement the DQN training algorithm using a cascade of fully connected layers. You can use different learning rate, batch size or memory size parameters. In particular, the loss might oscillate while the player will start to win the games. You have to find a good criterium."
      ]
    },
    {
      "metadata": {
        "id": "weFNuzrt7q2O",
        "colab_type": "code",
        "colab": {}
      },
      "cell_type": "code",
      "source": [
        "class DQN(Agent):\n",
        "    def __init__(self, grid_size,  epsilon = 0.1, memory_size=100, batch_size = 16,n_state=2):\n",
        "        super(DQN, self).__init__(epsilon = epsilon)\n",
        "\n",
        "        # Discount for Q learning\n",
        "        self.discount = 0.99\n",
        "        \n",
        "        self.grid_size = grid_size\n",
        "        \n",
        "        # number of state\n",
        "        self.n_state = n_state\n",
        "\n",
        "        # Memory\n",
        "        self.memory = Memory(memory_size)\n",
        "        \n",
        "        # Batch size when learning\n",
        "        self.batch_size = batch_size\n",
        "\n",
        "    def learned_act(self, s):\n",
        "      #Returns an action based on the greedy policy with respect to the learned Q-function\n",
        "        predicted_q = (self.model.predict(s[None,:]))[0]\n",
        "        max_action = np.argmax(predicted_q)\n",
        "        return max_action\n",
        "\n",
        "    def reinforce(self, s_, n_s_, a_, r_, game_over_):\n",
        "        # Two steps: first memorize the states, second learn from the pool\n",
        "        \n",
        "        self.memory.remember([s_, n_s_, a_, r_, game_over_])\n",
        "        \n",
        "        input_states = np.zeros((self.batch_size, 5,5,self.n_state))\n",
        "        target_q = np.zeros((self.batch_size, 4))\n",
        "        \n",
        "        for i in range(self.batch_size):\n",
        "            \n",
        "            s, n_s, a, r, game_over = self.memory.random_access()\n",
        "            target_q[i] = self.model.predict(s[None,:])\n",
        "            predicted_q = self.model.predict(n_s[None,:])[0]\n",
        "            \n",
        "            # Replace the value of the q-function only for the action played\n",
        "            # and set the value of the other actions to the value predicted by the network at the previous\n",
        "          \n",
        "            if game_over:\n",
        "                \n",
        "                target_q[i][a] = r\n",
        "                \n",
        "            else:\n",
        "                \n",
        "                target_q[i][a] = r + self.discount*max(predicted_q)\n",
        "            \n",
        "            \n",
        "            input_states[i,:] = s \n",
        "                \n",
        "        \n",
        "        # HINT: Clip the target to avoid exploiding gradients.. -- clipping is a bit tighter\n",
        "        target_q = np.clip(target_q, -2, 2)\n",
        "\n",
        "        l = self.model.train_on_batch(input_states, target_q)\n",
        "\n",
        "        return l\n",
        "\n",
        "    def save(self,name_weights='model.h5',name_model='model.json'):\n",
        "        self.model.save_weights(name_weights, overwrite=True)\n",
        "        with open(name_model, \"w\") as outfile:\n",
        "            json.dump(self.model.to_json(), outfile)\n",
        "            \n",
        "    def load(self,name_weights='model.h5',name_model='model.json'):\n",
        "        with open(name_model, \"r\") as jfile:\n",
        "            model = model_from_json(json.load(jfile))\n",
        "        model.load_weights(name_weights)\n",
        "        model.compile(\"sgd\", \"mse\")\n",
        "        self.model = model\n",
        "\n",
        "            \n",
        "class DQN_FC(DQN):\n",
        "    def __init__(self, *args, lr=0.1,**kwargs):\n",
        "        super(DQN_FC, self).__init__( *args,**kwargs)\n",
        "                \n",
        "        # NN Model\n",
        "       \n",
        "        model = Sequential()\n",
        "        model.add(Flatten(input_shape = (5,5,self.n_state)))\n",
        "        model.add(Dense(32,activation  = 'relu'))\n",
        "        model.add(Dense(4,activation = 'linear'))\n",
        "        \n",
        "        model.compile(sgd(lr=lr, decay=1e-7, momentum=0), \"mse\")\n",
        "        self.model = model\n",
        "        "
      ],
      "execution_count": 0,
      "outputs": []
    },
    {
      "metadata": {
        "id": "IIrDWKgw7q2Q",
        "colab_type": "code",
        "outputId": "d9c576de-987c-4859-a39c-526023ac2e05",
        "colab": {
          "base_uri": "https://localhost:8080/",
          "height": 1955
        }
      },
      "cell_type": "code",
      "source": [
        "env = Environment(grid_size=size, max_time=T, temperature=0.3)\n",
        "agent = DQN_FC(size, lr=.11, epsilon = 0.1, memory_size=200, batch_size = 32)\n",
        "train(agent, env, epochs_train, prefix='fc_train')\n",
        "HTML(display_videos('fc_train90.mp4'))"
      ],
      "execution_count": 15,
      "outputs": [
        {
          "output_type": "stream",
          "text": [
            "WARNING:tensorflow:From /usr/local/lib/python3.6/dist-packages/tensorflow/python/framework/op_def_library.py:263: colocate_with (from tensorflow.python.framework.ops) is deprecated and will be removed in a future version.\n",
            "Instructions for updating:\n",
            "Colocations handled automatically by placer.\n",
            "WARNING:tensorflow:From /usr/local/lib/python3.6/dist-packages/tensorflow/python/ops/math_ops.py:3066: to_int32 (from tensorflow.python.ops.math_ops) is deprecated and will be removed in a future version.\n",
            "Instructions for updating:\n",
            "Use tf.cast instead.\n",
            "Epoch 001/100 | Loss 0.0269 | Win/lose count 2.00/4.00 (-2.00)\n",
            "Epoch 002/100 | Loss 0.0163 | Win/lose count 3.00/1.00 (2.00)\n",
            "Epoch 003/100 | Loss 0.0035 | Win/lose count 7.50/8.00 (-0.50)\n",
            "Epoch 004/100 | Loss 0.0121 | Win/lose count 4.00/3.00 (1.00)\n",
            "Epoch 005/100 | Loss 0.0007 | Win/lose count 2.50/2.00 (0.50)\n",
            "Epoch 006/100 | Loss 0.0038 | Win/lose count 6.00/9.00 (-3.00)\n",
            "Epoch 007/100 | Loss 0.0076 | Win/lose count 3.50/6.00 (-2.50)\n",
            "Epoch 008/100 | Loss 0.0047 | Win/lose count 5.50/6.00 (-0.50)\n",
            "Epoch 009/100 | Loss 0.0042 | Win/lose count 4.00/3.00 (1.00)\n",
            "Epoch 010/100 | Loss 0.0011 | Win/lose count 2.00/1.00 (1.00)\n",
            "Epoch 011/100 | Loss 0.0033 | Win/lose count 13.00/4.00 (9.00)\n",
            "Epoch 012/100 | Loss 0.0003 | Win/lose count 3.50/0.00 (3.50)\n",
            "Epoch 013/100 | Loss 0.0047 | Win/lose count 4.50/2.00 (2.50)\n",
            "Epoch 014/100 | Loss 0.0132 | Win/lose count 4.00/4.00 (0.00)\n",
            "Epoch 015/100 | Loss 0.0067 | Win/lose count 2.50/3.00 (-0.50)\n",
            "Epoch 016/100 | Loss 0.0015 | Win/lose count 2.50/5.00 (-2.50)\n",
            "Epoch 017/100 | Loss 0.0032 | Win/lose count 2.00/1.00 (1.00)\n",
            "Epoch 018/100 | Loss 0.0029 | Win/lose count 6.50/3.00 (3.50)\n",
            "Epoch 019/100 | Loss 0.0062 | Win/lose count 6.00/2.00 (4.00)\n",
            "Epoch 020/100 | Loss 0.0025 | Win/lose count 9.50/6.00 (3.50)\n",
            "Epoch 021/100 | Loss 0.0006 | Win/lose count 1.50/1.00 (0.50)\n",
            "Epoch 022/100 | Loss 0.0022 | Win/lose count 5.50/5.00 (0.50)\n",
            "Epoch 023/100 | Loss 0.0241 | Win/lose count 9.50/3.00 (6.50)\n",
            "Epoch 024/100 | Loss 0.0015 | Win/lose count 5.50/3.00 (2.50)\n",
            "Epoch 025/100 | Loss 0.0031 | Win/lose count 7.00/4.00 (3.00)\n",
            "Epoch 026/100 | Loss 0.0029 | Win/lose count 6.00/1.00 (5.00)\n",
            "Epoch 027/100 | Loss 0.0027 | Win/lose count 2.00/2.00 (0.00)\n",
            "Epoch 028/100 | Loss 0.0047 | Win/lose count 6.00/2.00 (4.00)\n",
            "Epoch 029/100 | Loss 0.0004 | Win/lose count 6.00/0.00 (6.00)\n",
            "Epoch 030/100 | Loss 0.0030 | Win/lose count 6.00/2.00 (4.00)\n",
            "Epoch 031/100 | Loss 0.0047 | Win/lose count 3.00/1.00 (2.00)\n",
            "Epoch 032/100 | Loss 0.0304 | Win/lose count 8.00/1.00 (7.00)\n",
            "Epoch 033/100 | Loss 0.0010 | Win/lose count 4.50/1.00 (3.50)\n",
            "Epoch 034/100 | Loss 0.0012 | Win/lose count 3.50/0.00 (3.50)\n",
            "Epoch 035/100 | Loss 0.0490 | Win/lose count 11.50/2.00 (9.50)\n",
            "Epoch 036/100 | Loss 0.0011 | Win/lose count 9.50/2.00 (7.50)\n",
            "Epoch 037/100 | Loss 0.0246 | Win/lose count 12.00/6.00 (6.00)\n",
            "Epoch 038/100 | Loss 0.0018 | Win/lose count 3.50/3.00 (0.50)\n",
            "Epoch 039/100 | Loss 0.0031 | Win/lose count 19.50/6.00 (13.50)\n",
            "Epoch 040/100 | Loss 0.0012 | Win/lose count 11.00/2.00 (9.00)\n",
            "Epoch 041/100 | Loss 0.0028 | Win/lose count 4.50/4.00 (0.50)\n",
            "Epoch 042/100 | Loss 0.0010 | Win/lose count 9.50/1.00 (8.50)\n",
            "Epoch 043/100 | Loss 0.0016 | Win/lose count 3.50/2.00 (1.50)\n",
            "Epoch 044/100 | Loss 0.0013 | Win/lose count 4.00/2.00 (2.00)\n",
            "Epoch 045/100 | Loss 0.0028 | Win/lose count 7.00/1.00 (6.00)\n",
            "Epoch 046/100 | Loss 0.0007 | Win/lose count 6.00/1.00 (5.00)\n",
            "Epoch 047/100 | Loss 0.0028 | Win/lose count 7.50/1.00 (6.50)\n",
            "Epoch 048/100 | Loss 0.0081 | Win/lose count 12.00/5.00 (7.00)\n",
            "Epoch 049/100 | Loss 0.0273 | Win/lose count 19.00/3.00 (16.00)\n",
            "Epoch 050/100 | Loss 0.0008 | Win/lose count 6.00/8.00 (-2.00)\n",
            "Epoch 051/100 | Loss 0.0049 | Win/lose count 13.00/7.00 (6.00)\n",
            "Epoch 052/100 | Loss 0.0023 | Win/lose count 6.00/3.00 (3.00)\n",
            "Epoch 053/100 | Loss 0.0047 | Win/lose count 5.00/4.00 (1.00)\n",
            "Epoch 054/100 | Loss 0.0023 | Win/lose count 9.50/2.00 (7.50)\n",
            "Epoch 055/100 | Loss 0.0027 | Win/lose count 13.50/4.00 (9.50)\n",
            "Epoch 056/100 | Loss 0.0003 | Win/lose count 3.00/2.00 (1.00)\n",
            "Epoch 057/100 | Loss 0.0025 | Win/lose count 5.00/5.00 (0.00)\n",
            "Epoch 058/100 | Loss 0.0059 | Win/lose count 5.00/6.00 (-1.00)\n",
            "Epoch 059/100 | Loss 0.0031 | Win/lose count 10.00/2.00 (8.00)\n",
            "Epoch 060/100 | Loss 0.0033 | Win/lose count 16.50/3.00 (13.50)\n",
            "Epoch 061/100 | Loss 0.0026 | Win/lose count 9.00/3.00 (6.00)\n",
            "Epoch 062/100 | Loss 0.0033 | Win/lose count 20.00/4.00 (16.00)\n",
            "Epoch 063/100 | Loss 0.0027 | Win/lose count 10.50/3.00 (7.50)\n",
            "Epoch 064/100 | Loss 0.0281 | Win/lose count 5.50/2.00 (3.50)\n",
            "Epoch 065/100 | Loss 0.0016 | Win/lose count 8.00/4.00 (4.00)\n",
            "Epoch 066/100 | Loss 0.0045 | Win/lose count 10.00/6.00 (4.00)\n",
            "Epoch 067/100 | Loss 0.0253 | Win/lose count 10.50/0.00 (10.50)\n",
            "Epoch 068/100 | Loss 0.0232 | Win/lose count 11.00/5.00 (6.00)\n",
            "Epoch 069/100 | Loss 0.0014 | Win/lose count 5.00/4.00 (1.00)\n",
            "Epoch 070/100 | Loss 0.0012 | Win/lose count 10.00/1.00 (9.00)\n",
            "Epoch 071/100 | Loss 0.0032 | Win/lose count 16.00/4.00 (12.00)\n",
            "Epoch 072/100 | Loss 0.0010 | Win/lose count 10.00/1.00 (9.00)\n",
            "Epoch 073/100 | Loss 0.0006 | Win/lose count 9.50/0.00 (9.50)\n",
            "Epoch 074/100 | Loss 0.0026 | Win/lose count 15.00/0.00 (15.00)\n",
            "Epoch 075/100 | Loss 0.0023 | Win/lose count 8.50/4.00 (4.50)\n",
            "Epoch 076/100 | Loss 0.0003 | Win/lose count 5.00/1.00 (4.00)\n",
            "Epoch 077/100 | Loss 0.0005 | Win/lose count 6.50/2.00 (4.50)\n",
            "Epoch 078/100 | Loss 0.0009 | Win/lose count 10.50/1.00 (9.50)\n",
            "Epoch 079/100 | Loss 0.0013 | Win/lose count 7.50/3.00 (4.50)\n",
            "Epoch 080/100 | Loss 0.0025 | Win/lose count 2.00/1.00 (1.00)\n",
            "Epoch 081/100 | Loss 0.0033 | Win/lose count 7.50/7.00 (0.50)\n",
            "Epoch 082/100 | Loss 0.0055 | Win/lose count 7.50/4.00 (3.50)\n",
            "Epoch 083/100 | Loss 0.0042 | Win/lose count 1.00/5.00 (-4.00)\n",
            "Epoch 084/100 | Loss 0.0057 | Win/lose count 13.00/4.00 (9.00)\n",
            "Epoch 085/100 | Loss 0.0207 | Win/lose count 5.50/4.00 (1.50)\n",
            "Epoch 086/100 | Loss 0.0018 | Win/lose count 19.00/3.00 (16.00)\n",
            "Epoch 087/100 | Loss 0.0025 | Win/lose count 13.00/1.00 (12.00)\n",
            "Epoch 088/100 | Loss 0.0019 | Win/lose count 5.00/3.00 (2.00)\n",
            "Epoch 089/100 | Loss 0.0012 | Win/lose count 7.00/2.00 (5.00)\n",
            "Epoch 090/100 | Loss 0.0049 | Win/lose count 7.00/3.00 (4.00)\n",
            "Epoch 091/100 | Loss 0.0003 | Win/lose count 11.00/2.00 (9.00)\n",
            "Epoch 092/100 | Loss 0.0198 | Win/lose count 16.00/2.00 (14.00)\n",
            "Epoch 093/100 | Loss 0.0041 | Win/lose count 12.50/3.00 (9.50)\n",
            "Epoch 095/100 | Loss 0.0015 | Win/lose count 15.50/2.00 (13.50)\n",
            "Epoch 096/100 | Loss 0.0009 | Win/lose count 15.00/3.00 (12.00)\n",
            "Epoch 097/100 | Loss 0.0014 | Win/lose count 16.00/2.00 (14.00)\n",
            "Epoch 098/100 | Loss 0.0009 | Win/lose count 16.00/2.00 (14.00)\n",
            "Epoch 099/100 | Loss 0.0010 | Win/lose count 7.00/2.00 (5.00)\n",
            "Epoch 100/100 | Loss 0.0020 | Win/lose count 3.00/0.00 (3.00)\n"
          ],
          "name": "stdout"
        },
        {
          "output_type": "execute_result",
          "data": {
            "text/html": [
              "<video alt=\"test\" controls>\n",
              "                <source src=\"data:video/mp4;base64,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\" type=\"video/mp4\" />\n",
              "             </video>"
            ],
            "text/plain": [
              "<IPython.core.display.HTML object>"
            ]
          },
          "metadata": {
            "tags": []
          },
          "execution_count": 15
        }
      ]
    },
    {
      "metadata": {
        "id": "NeDG_2JJ7q2S",
        "colab_type": "text"
      },
      "cell_type": "markdown",
      "source": [
        "***\n",
        "***\n",
        "__Question 8__ Implement the DQN training algorithm using a CNN (for example, 2 convolutional layers and one final fully connected layer)."
      ]
    },
    {
      "metadata": {
        "id": "8ivZibSL7q2S",
        "colab_type": "code",
        "colab": {}
      },
      "cell_type": "code",
      "source": [
        "class DQN_CNN(DQN):\n",
        "    def __init__(self, *args,lr=0.1,**kwargs):\n",
        "        super(DQN_CNN, self).__init__(*args,**kwargs)\n",
        "        \n",
        "        model = Sequential()\n",
        "        model.add(Conv2D(32,kernel_size = (2,2), activation = 'relu',input_shape = (5,5,self.n_state)))\n",
        "        model.add(Conv2D(16,kernel_size = (2,2), activation = 'relu'))\n",
        "        model.add(Flatten())\n",
        "        model.add(Dense(4,activation = 'linear'))\n",
        "        \n",
        "        model.compile(sgd(lr=lr, decay=1e-7, momentum=0), \"mse\")\n",
        "        self.model = model"
      ],
      "execution_count": 0,
      "outputs": []
    },
    {
      "metadata": {
        "id": "U6tw18CB7q2U",
        "colab_type": "code",
        "outputId": "4bec227e-106d-4056-ff48-8d828a249f9b",
        "colab": {
          "base_uri": "https://localhost:8080/",
          "height": 1851
        }
      },
      "cell_type": "code",
      "source": [
        "env = Environment(grid_size=size, max_time=T, temperature=0.3)\n",
        "agent = DQN_CNN(size, lr=.11, epsilon = 0.1, memory_size=30, batch_size = 32)\n",
        "train(agent,env,epochs_train,prefix='cnn_train')\n",
        "HTML(display_videos('cnn_train99.mp4'))"
      ],
      "execution_count": 17,
      "outputs": [
        {
          "output_type": "stream",
          "text": [
            "Epoch 001/100 | Loss 0.0005 | Win/lose count 2.00/1.00 (1.00)\n",
            "Epoch 002/100 | Loss 0.0038 | Win/lose count 7.50/9.00 (-1.50)\n",
            "Epoch 003/100 | Loss 0.0026 | Win/lose count 3.50/3.00 (0.50)\n",
            "Epoch 004/100 | Loss 0.0033 | Win/lose count 3.50/1.00 (2.50)\n",
            "Epoch 005/100 | Loss 0.0164 | Win/lose count 3.00/3.00 (0.00)\n",
            "Epoch 006/100 | Loss 0.0172 | Win/lose count 5.00/3.00 (2.00)\n",
            "Epoch 007/100 | Loss 0.0000 | Win/lose count 1.50/2.00 (-0.50)\n",
            "Epoch 008/100 | Loss 0.0215 | Win/lose count 2.50/2.00 (0.50)\n",
            "Epoch 009/100 | Loss 0.0245 | Win/lose count 7.00/3.00 (4.00)\n",
            "Epoch 010/100 | Loss 0.0018 | Win/lose count 7.00/5.00 (2.00)\n",
            "Epoch 011/100 | Loss 0.0482 | Win/lose count 12.00/3.00 (9.00)\n",
            "Epoch 012/100 | Loss 0.0234 | Win/lose count 8.00/4.00 (4.00)\n",
            "Epoch 013/100 | Loss 0.0027 | Win/lose count 5.50/3.00 (2.50)\n",
            "Epoch 014/100 | Loss 0.0259 | Win/lose count 8.00/2.00 (6.00)\n",
            "Epoch 015/100 | Loss 0.0454 | Win/lose count 15.00/4.00 (11.00)\n",
            "Epoch 016/100 | Loss 0.0005 | Win/lose count 1.00/2.00 (-1.00)\n",
            "Epoch 017/100 | Loss 0.1192 | Win/lose count 4.50/1.00 (3.50)\n",
            "Epoch 018/100 | Loss 0.0036 | Win/lose count 14.50/5.00 (9.50)\n",
            "Epoch 019/100 | Loss 0.0564 | Win/lose count 14.50/1.00 (13.50)\n",
            "Epoch 020/100 | Loss 0.0299 | Win/lose count 9.50/4.00 (5.50)\n",
            "Epoch 021/100 | Loss 0.0240 | Win/lose count 7.00/2.00 (5.00)\n",
            "Epoch 022/100 | Loss 0.0437 | Win/lose count 9.50/4.00 (5.50)\n",
            "Epoch 023/100 | Loss 0.0296 | Win/lose count 10.00/4.00 (6.00)\n",
            "Epoch 024/100 | Loss 0.0239 | Win/lose count 8.00/3.00 (5.00)\n",
            "Epoch 025/100 | Loss 0.0542 | Win/lose count 14.50/2.00 (12.50)\n",
            "Epoch 026/100 | Loss 0.0001 | Win/lose count 7.00/3.00 (4.00)\n",
            "Epoch 027/100 | Loss 0.0248 | Win/lose count 11.00/1.00 (10.00)\n",
            "Epoch 028/100 | Loss 0.0180 | Win/lose count 10.50/1.00 (9.50)\n",
            "Epoch 029/100 | Loss 0.0293 | Win/lose count 16.00/2.00 (14.00)\n",
            "Epoch 030/100 | Loss 0.0199 | Win/lose count 4.50/1.00 (3.50)\n",
            "Epoch 031/100 | Loss 0.0190 | Win/lose count 3.50/3.00 (0.50)\n",
            "Epoch 032/100 | Loss 0.0329 | Win/lose count 8.50/3.00 (5.50)\n",
            "Epoch 033/100 | Loss 0.0009 | Win/lose count 4.00/1.00 (3.00)\n",
            "Epoch 034/100 | Loss 0.0380 | Win/lose count 21.00/4.00 (17.00)\n",
            "Epoch 035/100 | Loss 0.0005 | Win/lose count 10.50/4.00 (6.50)\n",
            "Epoch 036/100 | Loss 0.0006 | Win/lose count 8.50/5.00 (3.50)\n",
            "Epoch 037/100 | Loss 0.0400 | Win/lose count 9.00/2.00 (7.00)\n",
            "Epoch 038/100 | Loss 0.0002 | Win/lose count 9.00/1.00 (8.00)\n",
            "Epoch 039/100 | Loss 0.0004 | Win/lose count 4.50/1.00 (3.50)\n",
            "Epoch 040/100 | Loss 0.0287 | Win/lose count 5.50/3.00 (2.50)\n",
            "Epoch 041/100 | Loss 0.0259 | Win/lose count 16.50/1.00 (15.50)\n",
            "Epoch 042/100 | Loss 0.0255 | Win/lose count 12.50/3.00 (9.50)\n",
            "Epoch 043/100 | Loss 0.0239 | Win/lose count 11.00/2.00 (9.00)\n",
            "Epoch 044/100 | Loss 0.0203 | Win/lose count 10.50/3.00 (7.50)\n",
            "Epoch 045/100 | Loss 0.0013 | Win/lose count 19.50/1.00 (18.50)\n",
            "Epoch 046/100 | Loss 0.0236 | Win/lose count 9.00/3.00 (6.00)\n",
            "Epoch 047/100 | Loss 0.1158 | Win/lose count 16.00/2.00 (14.00)\n",
            "Epoch 048/100 | Loss 0.0018 | Win/lose count 10.00/3.00 (7.00)\n",
            "Epoch 049/100 | Loss 0.0406 | Win/lose count 15.50/2.00 (13.50)\n",
            "Epoch 050/100 | Loss 0.0176 | Win/lose count 5.50/3.00 (2.50)\n",
            "Epoch 051/100 | Loss 0.0347 | Win/lose count 12.50/4.00 (8.50)\n",
            "Epoch 052/100 | Loss 0.0001 | Win/lose count 13.00/4.00 (9.00)\n",
            "Epoch 053/100 | Loss 0.0528 | Win/lose count 15.50/3.00 (12.50)\n",
            "Epoch 054/100 | Loss 0.0277 | Win/lose count 2.50/0.00 (2.50)\n",
            "Epoch 055/100 | Loss 0.0007 | Win/lose count 14.50/5.00 (9.50)\n",
            "Epoch 056/100 | Loss 0.0253 | Win/lose count 14.00/3.00 (11.00)\n",
            "Epoch 057/100 | Loss 0.0518 | Win/lose count 10.50/3.00 (7.50)\n",
            "Epoch 058/100 | Loss 0.0492 | Win/lose count 15.50/3.00 (12.50)\n",
            "Epoch 059/100 | Loss 0.0015 | Win/lose count 7.50/2.00 (5.50)\n",
            "Epoch 060/100 | Loss 0.0320 | Win/lose count 8.00/4.00 (4.00)\n",
            "Epoch 061/100 | Loss 0.0210 | Win/lose count 10.50/4.00 (6.50)\n",
            "Epoch 062/100 | Loss 0.0205 | Win/lose count 10.00/2.00 (8.00)\n",
            "Epoch 063/100 | Loss 0.0464 | Win/lose count 15.00/6.00 (9.00)\n",
            "Epoch 064/100 | Loss 0.0166 | Win/lose count 7.00/0.00 (7.00)\n",
            "Epoch 065/100 | Loss 0.0323 | Win/lose count 17.50/4.00 (13.50)\n",
            "Epoch 066/100 | Loss 0.0689 | Win/lose count 9.00/2.00 (7.00)\n",
            "Epoch 067/100 | Loss 0.0013 | Win/lose count 10.00/0.00 (10.00)\n",
            "Epoch 068/100 | Loss 0.0300 | Win/lose count 14.00/6.00 (8.00)\n",
            "Epoch 069/100 | Loss 0.0240 | Win/lose count 5.50/0.00 (5.50)\n",
            "Epoch 070/100 | Loss 0.0013 | Win/lose count 11.50/0.00 (11.50)\n",
            "Epoch 071/100 | Loss 0.0008 | Win/lose count 8.50/3.00 (5.50)\n",
            "Epoch 072/100 | Loss 0.0537 | Win/lose count 12.00/1.00 (11.00)\n",
            "Epoch 073/100 | Loss 0.0186 | Win/lose count 7.00/0.00 (7.00)\n",
            "Epoch 074/100 | Loss 0.0004 | Win/lose count 5.00/1.00 (4.00)\n",
            "Epoch 075/100 | Loss 0.0002 | Win/lose count 7.50/1.00 (6.50)\n",
            "Epoch 076/100 | Loss 0.0149 | Win/lose count 8.50/2.00 (6.50)\n",
            "Epoch 077/100 | Loss 0.0001 | Win/lose count 4.50/1.00 (3.50)\n",
            "Epoch 078/100 | Loss 0.0323 | Win/lose count 8.50/1.00 (7.50)\n",
            "Epoch 079/100 | Loss 0.0278 | Win/lose count 17.50/1.00 (16.50)\n",
            "Epoch 080/100 | Loss 0.0007 | Win/lose count 7.00/3.00 (4.00)\n",
            "Epoch 081/100 | Loss 0.0264 | Win/lose count 27.00/4.00 (23.00)\n",
            "Epoch 082/100 | Loss 0.0133 | Win/lose count 9.50/2.00 (7.50)\n",
            "Epoch 083/100 | Loss 0.0176 | Win/lose count 17.50/2.00 (15.50)\n",
            "Epoch 084/100 | Loss 0.0797 | Win/lose count 12.50/4.00 (8.50)\n",
            "Epoch 085/100 | Loss 0.0236 | Win/lose count 5.00/2.00 (3.00)\n",
            "Epoch 086/100 | Loss 0.0163 | Win/lose count 12.50/1.00 (11.50)\n",
            "Epoch 087/100 | Loss 0.0037 | Win/lose count 9.50/2.00 (7.50)\n",
            "Epoch 088/100 | Loss 0.0006 | Win/lose count 17.50/4.00 (13.50)\n",
            "Epoch 089/100 | Loss 0.0002 | Win/lose count 9.00/0.00 (9.00)\n",
            "Epoch 090/100 | Loss 0.0004 | Win/lose count 4.50/0.00 (4.50)\n",
            "Epoch 091/100 | Loss 0.0439 | Win/lose count 9.00/0.00 (9.00)\n",
            "Epoch 092/100 | Loss 0.0439 | Win/lose count 11.00/1.00 (10.00)\n",
            "Epoch 093/100 | Loss 0.0007 | Win/lose count 19.00/1.00 (18.00)\n",
            "Epoch 094/100 | Loss 0.0014 | Win/lose count 19.50/3.00 (16.50)\n",
            "Epoch 095/100 | Loss 0.0635 | Win/lose count 11.50/2.00 (9.50)\n",
            "Epoch 096/100 | Loss 0.0232 | Win/lose count 13.50/2.00 (11.50)\n",
            "Epoch 097/100 | Loss 0.0001 | Win/lose count 10.00/4.00 (6.00)\n",
            "Epoch 098/100 | Loss 0.0002 | Win/lose count 10.00/5.00 (5.00)\n",
            "Epoch 099/100 | Loss 0.0159 | Win/lose count 14.00/5.00 (9.00)\n",
            "Epoch 100/100 | Loss 0.0005 | Win/lose count 15.50/3.00 (12.50)\n"
          ],
          "name": "stdout"
        },
        {
          "output_type": "execute_result",
          "data": {
            "text/html": [
              "<video alt=\"test\" controls>\n",
              "                <source src=\"data:video/mp4;base64,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\" type=\"video/mp4\" />\n",
              "             </video>"
            ],
            "text/plain": [
              "<IPython.core.display.HTML object>"
            ]
          },
          "metadata": {
            "tags": []
          },
          "execution_count": 17
        }
      ]
    },
    {
      "metadata": {
        "id": "7sRveaEA7q2X",
        "colab_type": "text"
      },
      "cell_type": "markdown",
      "source": [
        "***\n",
        "***\n",
        "__Question 9__ Test both algorithms and compare their performances. Which issue(s) do you observe? Observe also different behaviors by changing the temperature."
      ]
    },
    {
      "metadata": {
        "id": "X8q_-eku7q2Y",
        "colab_type": "code",
        "outputId": "71ae5edc-cfee-4ed2-816c-df0903b0bf47",
        "colab": {
          "base_uri": "https://localhost:8080/",
          "height": 756
        }
      },
      "cell_type": "code",
      "source": [
        "env = Environment(grid_size=size, max_time=T,temperature=0.3)\n",
        "agent_cnn = DQN_CNN(size, lr=.09, epsilon = 0.1, memory_size=150, batch_size = 32)\n",
        "agent_cnn.load(name_weights='cnn_trainmodel.h5',name_model='cnn_trainmodel.json')\n",
        "\n",
        "agent_fc = DQN_FC(size, lr=.11, epsilon = 0.1, memory_size=150, batch_size = 32)\n",
        "agent_fc.load(name_weights='fc_trainmodel.h5',name_model='fc_trainmodel.json')\n",
        "print('Test of the CNN')\n",
        "test(agent_cnn,env,epochs_test,prefix='cnn_test_temp_0.3_')\n",
        "print('Test of the FC')\n",
        "test(agent_fc,env,epochs_test,prefix='fc_test_temp_0.3_')"
      ],
      "execution_count": 30,
      "outputs": [
        {
          "output_type": "stream",
          "text": [
            "Test of the CNN\n",
            "Win/lose count 9.5/0. Average score (9.5)\n",
            "Win/lose count 7.5/0. Average score (8.5)\n",
            "Win/lose count 5.5/0. Average score (7.5)\n",
            "Win/lose count 7.0/0. Average score (7.375)\n",
            "Win/lose count 15.5/0. Average score (9.0)\n",
            "Win/lose count 4.0/0. Average score (8.166666666666666)\n",
            "Win/lose count 12.5/0. Average score (8.785714285714286)\n",
            "Win/lose count 9.0/1.0. Average score (8.6875)\n",
            "Win/lose count 7.5/0. Average score (8.555555555555555)\n",
            "Win/lose count 6.0/1.0. Average score (8.2)\n",
            "Win/lose count 2.5/0. Average score (7.681818181818182)\n",
            "Win/lose count 9.5/0. Average score (7.833333333333333)\n",
            "Win/lose count 10.5/0. Average score (8.038461538461538)\n",
            "Win/lose count 10.5/0. Average score (8.214285714285714)\n",
            "Win/lose count 2.5/0. Average score (7.833333333333333)\n",
            "Win/lose count 4.5/0. Average score (7.625)\n",
            "Win/lose count 7.5/0. Average score (7.617647058823529)\n",
            "Win/lose count 5.5/0. Average score (7.5)\n",
            "Win/lose count 8.5/0. Average score (7.552631578947368)\n",
            "Win/lose count 1.5/0. Average score (7.25)\n",
            "Final score: 7.25\n",
            "Test of the FC\n",
            "Win/lose count 8.0/0. Average score (8.0)\n",
            "Win/lose count 2.5/0. Average score (5.25)\n",
            "Win/lose count 1.5/0. Average score (4.0)\n",
            "Win/lose count 3.0/0. Average score (3.75)\n",
            "Win/lose count 4.5/0. Average score (3.9)\n",
            "Win/lose count 2.5/0. Average score (3.6666666666666665)\n",
            "Win/lose count 9.5/0. Average score (4.5)\n",
            "Win/lose count 2.0/0. Average score (4.1875)\n",
            "Win/lose count 1.0/0. Average score (3.8333333333333335)\n",
            "Win/lose count 0/0. Average score (3.45)\n",
            "Win/lose count 6.5/0. Average score (3.727272727272727)\n",
            "Win/lose count 1.5/0. Average score (3.5416666666666665)\n",
            "Win/lose count 5.5/0. Average score (3.6923076923076925)\n",
            "Win/lose count 13.5/0. Average score (4.392857142857143)\n",
            "Win/lose count 9.5/1.0. Average score (4.666666666666667)\n",
            "Win/lose count 2.0/0. Average score (4.5)\n",
            "Win/lose count 3.0/0. Average score (4.411764705882353)\n",
            "Win/lose count 3.5/0. Average score (4.361111111111111)\n",
            "Win/lose count 13.0/0. Average score (4.815789473684211)\n",
            "Win/lose count 1.0/0. Average score (4.625)\n",
            "Final score: 4.625\n"
          ],
          "name": "stdout"
        }
      ]
    },
    {
      "metadata": {
        "id": "vFtxcqLX7q2a",
        "colab_type": "code",
        "outputId": "d66feef5-0f97-4c3b-bba7-613bafd7034c",
        "colab": {
          "base_uri": "https://localhost:8080/",
          "height": 293
        }
      },
      "cell_type": "code",
      "source": [
        "HTML(display_videos('cnn_test_temp_0.3_18.mp4'))"
      ],
      "execution_count": 31,
      "outputs": [
        {
          "output_type": "execute_result",
          "data": {
            "text/html": [
              "<video alt=\"test\" controls>\n",
              "                <source src=\"data:video/mp4;base64,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\" type=\"video/mp4\" />\n",
              "             </video>"
            ],
            "text/plain": [
              "<IPython.core.display.HTML object>"
            ]
          },
          "metadata": {
            "tags": []
          },
          "execution_count": 31
        }
      ]
    },
    {
      "metadata": {
        "id": "_czWcuEd7q2e",
        "colab_type": "code",
        "outputId": "93006061-92d4-4e78-bcbc-0ae98bba11b6",
        "colab": {
          "base_uri": "https://localhost:8080/",
          "height": 293
        }
      },
      "cell_type": "code",
      "source": [
        "HTML(display_videos('fc_test_temp_0.3_19.mp4'))"
      ],
      "execution_count": 32,
      "outputs": [
        {
          "output_type": "execute_result",
          "data": {
            "text/html": [
              "<video alt=\"test\" controls>\n",
              "                <source src=\"data:video/mp4;base64,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\" type=\"video/mp4\" />\n",
              "             </video>"
            ],
            "text/plain": [
              "<IPython.core.display.HTML object>"
            ]
          },
          "metadata": {
            "tags": []
          },
          "execution_count": 32
        }
      ]
    },
    {
      "metadata": {
        "id": "-lbpxjnE7q2g",
        "colab_type": "text"
      },
      "cell_type": "markdown",
      "source": [
        "The first observations is that the fully connected network overfits greatly but the convolutionnal network exhibits strong performance. However, in both cases the agent seems to be blocked in a local optima and is keep taking action with sub-optimal rewards. This may be caused by a lack of exploration in training where not enough state-action pairs are visited by the agent. \n",
        "\n",
        "When the temperature is increased the average reward goes up, as it should be because the number of states with a positive reward increase. However the exploration problem is still present."
      ]
    },
    {
      "metadata": {
        "id": "0YXvWYQ47q2h",
        "colab_type": "text"
      },
      "cell_type": "markdown",
      "source": [
        "***\n",
        "\n",
        "The algorithm tends to not explore the map which can be an issue. We propose two ideas in order to encourage exploration:\n",
        "1. Incorporating a decreasing $\\epsilon$-greedy exploration. You can use the method ```set_epsilon```\n",
        "2. Append via the environment a new state that describes if a cell has been visited or not\n",
        "\n",
        "***\n",
        "__Question 10__ Design a new ```train_explore``` function and environment class ```EnvironmentExploring``` to tackle the issue of exploration.\n",
        "\n"
      ]
    },
    {
      "metadata": {
        "id": "l9gewNvM7q2h",
        "colab_type": "code",
        "colab": {}
      },
      "cell_type": "code",
      "source": [
        "def train_explore(agent,env,epoch,prefix=''):\n",
        "    score = 0\n",
        "    loss = 0\n",
        "\n",
        "    for e in range(epoch):\n",
        "      \n",
        "        state = env.reset()\n",
        "        game_over = False\n",
        "\n",
        "        win = 0\n",
        "        lose = 0\n",
        "        t = 0 \n",
        "        \n",
        "        # epsilon decreases linearly troughout the game\n",
        "        epsilon = np.linspace(agent.epsilon/100,agent.epsilon, env.max_time+1)[::-1]\n",
        "\n",
        "        while not game_over:\n",
        "            \n",
        "            agent.set_epsilon(epsilon[t])\n",
        "            action = agent.act(state,train = True)\n",
        "            prev_state = state\n",
        "            state, reward, game_over = env.act(action,train = True)\n",
        "\n",
        "            if reward > 0:\n",
        "                win = win + reward\n",
        "            if reward < 0:\n",
        "                lose = lose -reward\n",
        "\n",
        "            loss = agent.reinforce(prev_state, state,  action, reward, game_over)\n",
        "            \n",
        "            t +=1\n",
        "            \n",
        "        if e % 1 == 0:\n",
        "            env.draw(prefix+str(e+1))\n",
        "\n",
        "        score += win-lose\n",
        "\n",
        "        print(\"Epoch {:03d}/{:03d} | Loss {:.4f} | Win/lose count {:.2f}/{:.2f} ({:.2f})\"\n",
        "              .format(e+1, epoch, loss, win, lose, win-lose))\n",
        "        agent.save(name_weights=prefix+'model.h5',name_model=prefix+'model.json')\n",
        "    print('Average Score = ', score/epoch)"
      ],
      "execution_count": 0,
      "outputs": []
    },
    {
      "metadata": {
        "id": "TOrAreDd2LKN",
        "colab_type": "code",
        "colab": {}
      },
      "cell_type": "code",
      "source": [
        "class EnvironmentExploring(object):\n",
        "    def __init__(self, grid_size=10, max_time=500, temperature=0.1):\n",
        "        grid_size = grid_size+4\n",
        "        self.grid_size = grid_size\n",
        "        self.max_time = max_time\n",
        "        self.temperature = temperature\n",
        "\n",
        "        self.board = np.zeros((grid_size,grid_size))\n",
        "        self.position = np.zeros((grid_size,grid_size))\n",
        "        self.maalus_postion = 0*self.board\n",
        "\n",
        "        self.x = 0\n",
        "        self.y = 1\n",
        "\n",
        "        self.t = 0\n",
        "\n",
        "        self.scale=16\n",
        "\n",
        "        self.to_draw = np.zeros((max_time+2, grid_size*self.scale, grid_size*self.scale, 3))\n",
        "\n",
        "\n",
        "    def draw(self,e):\n",
        "        skvideo.io.vwrite(str(e) + '.mp4', self.to_draw)\n",
        "\n",
        "    def get_frame(self,t):\n",
        "        b = np.zeros((self.grid_size,self.grid_size,3))+128\n",
        "        b[self.board>0,0] = 256\n",
        "        b[self.board < 0, 2] = 256\n",
        "        b[self.x,self.y,:]=256\n",
        "        b[-2:,:,:]=0\n",
        "        b[:,-2:,:]=0\n",
        "        b[:2,:,:]=0\n",
        "        b[:,:2,:]=0\n",
        "        \n",
        "        b =  cv2.resize(b, None, fx=self.scale, fy=self.scale, interpolation=cv2.INTER_NEAREST)\n",
        "\n",
        "        self.to_draw[t,:,:,:]=b\n",
        "\n",
        "\n",
        "    def act(self, action,train = False):\n",
        "        \"\"\"This function returns the new state, reward and decides if the\n",
        "        game ends.\"\"\"\n",
        "\n",
        "        self.get_frame(int(self.t))\n",
        "\n",
        "        self.position = np.zeros((self.grid_size, self.grid_size))\n",
        "\n",
        "        self.position[0:2,:]= -1\n",
        "        self.position[:,0:2] = -1\n",
        "        self.position[-2:, :] = -1\n",
        "        self.position[:,-2:] = -1\n",
        "\n",
        "        self.position[self.x, self.y] = 1\n",
        "        if action == 0:\n",
        "            if self.x == self.grid_size-3:\n",
        "                self.x = self.x-1\n",
        "            else:\n",
        "                self.x = self.x + 1\n",
        "        elif action == 1:\n",
        "            if self.x == 2:\n",
        "                self.x = self.x+1\n",
        "            else:\n",
        "                self.x = self.x-1\n",
        "        elif action == 2:\n",
        "            if self.y == self.grid_size - 3:\n",
        "                self.y = self.y - 1\n",
        "            else:\n",
        "                self.y = self.y + 1\n",
        "        elif action == 3:\n",
        "            if self.y == 2:\n",
        "                self.y = self.y + 1\n",
        "            else:\n",
        "                self.y = self.y - 1\n",
        "        else:\n",
        "            RuntimeError('Error: action not recognized')\n",
        "\n",
        "        self.t = self.t + 1\n",
        "        reward = 0\n",
        "        if train:\n",
        "          reward = -self.malus_position[self.x, self.y]\n",
        "        self.malus_position[self.x, self.y] = 0.1\n",
        "        reward = reward + self.board[self.x, self.y]\n",
        "        self.board[self.x, self.y] = 0\n",
        "        game_over = self.t > self.max_time\n",
        "        state = np.concatenate((self.malus_position.reshape(self.grid_size, self.grid_size,1),\n",
        "                                self.board.reshape(self.grid_size, self.grid_size,1),\n",
        "                        self.position.reshape(self.grid_size, self.grid_size,1)),axis=2)\n",
        "        state = state[self.x-2:self.x+3,self.y-2:self.y+3,:]\n",
        "\n",
        "        return state, reward, game_over\n",
        "\n",
        "    def reset(self):\n",
        "        \"\"\"This function resets the game and returns the initial state\"\"\"\n",
        "\n",
        "        self.x = np.random.randint(3, self.grid_size-3, size=1)[0]\n",
        "        self.y = np.random.randint(3, self.grid_size-3, size=1)[0]\n",
        "\n",
        "\n",
        "        bonus = 0.5*np.random.binomial(1,self.temperature,size=self.grid_size**2)\n",
        "        bonus = bonus.reshape(self.grid_size,self.grid_size)\n",
        "\n",
        "        malus = -1.0*np.random.binomial(1,self.temperature,size=self.grid_size**2)\n",
        "        malus = malus.reshape(self.grid_size, self.grid_size)\n",
        "\n",
        "        self.to_draw = np.zeros((self.max_time+2, self.grid_size*self.scale, self.grid_size*self.scale, 3))\n",
        "\n",
        "\n",
        "        malus[bonus>0]=0\n",
        "\n",
        "        self.board = bonus + malus\n",
        "        self.malus_position = 0*self.board\n",
        "\n",
        "        self.position = np.zeros((self.grid_size, self.grid_size))\n",
        "        self.position[0:2,:]= -1\n",
        "        self.position[:,0:2] = -1\n",
        "        self.position[-2:, :] = -1\n",
        "        self.position[:, -2:] = -1\n",
        "        self.board[self.x,self.y] = 0\n",
        "        self.t = 0\n",
        "\n",
        "        state = np.concatenate((self.malus_position.reshape(self.grid_size, self.grid_size,1),\n",
        "                                self.board.reshape(self.grid_size, self.grid_size,1),\n",
        "                        self.position.reshape(self.grid_size, self.grid_size,1)),axis=2)\n",
        "       \n",
        "        \n",
        "        state = state[self.x - 2:self.x + 3, self.y - 2:self.y + 3, :]\n",
        "        return state    "
      ],
      "execution_count": 0,
      "outputs": []
    },
    {
      "metadata": {
        "id": "N8W38aUY7q2k",
        "colab_type": "code",
        "outputId": "693c7a3b-257b-4f9d-e58c-ef64aefd7b4b",
        "colab": {
          "base_uri": "https://localhost:8080/",
          "height": 1990
        }
      },
      "cell_type": "code",
      "source": [
        "# Training\n",
        "env = EnvironmentExploring(grid_size=size, max_time=T, temperature=0.3)\n",
        "agent = DQN_CNN(size, lr=.09, epsilon = 1, memory_size=100, batch_size = 32,n_state=3)\n",
        "train_explore(agent, env, epochs_train, prefix='cnn_train_explore')\n",
        "HTML(display_videos('cnn_train_explore100.mp4'))"
      ],
      "execution_count": 35,
      "outputs": [
        {
          "output_type": "stream",
          "text": [
            "Epoch 001/100 | Loss 0.0114 | Win/lose count 12.00/26.90 (-14.90)\n",
            "Epoch 002/100 | Loss 0.0023 | Win/lose count 5.00/19.00 (-14.00)\n",
            "Epoch 003/100 | Loss 0.0015 | Win/lose count 6.00/20.10 (-14.10)\n",
            "Epoch 004/100 | Loss 0.0032 | Win/lose count 6.50/21.20 (-14.70)\n",
            "Epoch 005/100 | Loss 0.0092 | Win/lose count 8.00/18.40 (-10.40)\n",
            "Epoch 006/100 | Loss 0.0081 | Win/lose count 7.00/20.70 (-13.70)\n",
            "Epoch 007/100 | Loss 0.0019 | Win/lose count 14.00/17.40 (-3.40)\n",
            "Epoch 008/100 | Loss 0.0168 | Win/lose count 10.00/19.90 (-9.90)\n",
            "Epoch 009/100 | Loss 0.0049 | Win/lose count 6.50/18.20 (-11.70)\n",
            "Epoch 010/100 | Loss 0.0115 | Win/lose count 10.50/18.70 (-8.20)\n",
            "Epoch 011/100 | Loss 0.0059 | Win/lose count 17.00/13.50 (3.50)\n",
            "Epoch 012/100 | Loss 0.0018 | Win/lose count 5.50/18.00 (-12.50)\n",
            "Epoch 013/100 | Loss 0.0210 | Win/lose count 17.00/14.40 (2.60)\n",
            "Epoch 014/100 | Loss 0.0123 | Win/lose count 14.50/12.80 (1.70)\n",
            "Epoch 015/100 | Loss 0.0030 | Win/lose count 13.00/16.90 (-3.90)\n",
            "Epoch 016/100 | Loss 0.0036 | Win/lose count 15.00/12.00 (3.00)\n",
            "Epoch 017/100 | Loss 0.0150 | Win/lose count 19.00/12.40 (6.60)\n",
            "Epoch 018/100 | Loss 0.0130 | Win/lose count 19.50/15.40 (4.10)\n",
            "Epoch 019/100 | Loss 0.0063 | Win/lose count 22.50/11.30 (11.20)\n",
            "Epoch 020/100 | Loss 0.0083 | Win/lose count 25.00/13.30 (11.70)\n",
            "Epoch 021/100 | Loss 0.0018 | Win/lose count 16.00/14.40 (1.60)\n",
            "Epoch 022/100 | Loss 0.0232 | Win/lose count 16.00/15.10 (0.90)\n",
            "Epoch 023/100 | Loss 0.0023 | Win/lose count 26.50/12.90 (13.60)\n",
            "Epoch 024/100 | Loss 0.0043 | Win/lose count 20.00/13.20 (6.80)\n",
            "Epoch 025/100 | Loss 0.0031 | Win/lose count 6.50/19.40 (-12.90)\n",
            "Epoch 026/100 | Loss 0.0103 | Win/lose count 21.00/14.90 (6.10)\n",
            "Epoch 027/100 | Loss 0.0059 | Win/lose count 16.00/15.00 (1.00)\n",
            "Epoch 028/100 | Loss 0.0045 | Win/lose count 21.00/11.00 (10.00)\n",
            "Epoch 029/100 | Loss 0.0078 | Win/lose count 20.00/15.00 (5.00)\n",
            "Epoch 030/100 | Loss 0.0127 | Win/lose count 25.50/12.20 (13.30)\n",
            "Epoch 031/100 | Loss 0.0153 | Win/lose count 19.00/14.60 (4.40)\n",
            "Epoch 032/100 | Loss 0.0040 | Win/lose count 27.50/13.60 (13.90)\n",
            "Epoch 033/100 | Loss 0.0017 | Win/lose count 13.00/16.10 (-3.10)\n",
            "Epoch 034/100 | Loss 0.0109 | Win/lose count 23.00/10.80 (12.20)\n",
            "Epoch 035/100 | Loss 0.0040 | Win/lose count 22.00/15.50 (6.50)\n",
            "Epoch 036/100 | Loss 0.0042 | Win/lose count 24.00/14.60 (9.40)\n",
            "Epoch 037/100 | Loss 0.0052 | Win/lose count 19.00/13.30 (5.70)\n",
            "Epoch 038/100 | Loss 0.0071 | Win/lose count 21.50/11.90 (9.60)\n",
            "Epoch 039/100 | Loss 0.0054 | Win/lose count 23.50/15.40 (8.10)\n",
            "Epoch 040/100 | Loss 0.0115 | Win/lose count 28.00/10.30 (17.70)\n",
            "Epoch 041/100 | Loss 0.0085 | Win/lose count 24.00/13.10 (10.90)\n",
            "Epoch 042/100 | Loss 0.0062 | Win/lose count 17.50/13.90 (3.60)\n",
            "Epoch 043/100 | Loss 0.0330 | Win/lose count 16.50/15.50 (1.00)\n",
            "Epoch 044/100 | Loss 0.0082 | Win/lose count 24.00/14.60 (9.40)\n",
            "Epoch 045/100 | Loss 0.0069 | Win/lose count 23.00/13.30 (9.70)\n",
            "Epoch 046/100 | Loss 0.0097 | Win/lose count 21.50/12.00 (9.50)\n",
            "Epoch 047/100 | Loss 0.0119 | Win/lose count 23.00/11.10 (11.90)\n",
            "Epoch 048/100 | Loss 0.0071 | Win/lose count 22.50/15.50 (7.00)\n",
            "Epoch 049/100 | Loss 0.0130 | Win/lose count 26.50/12.00 (14.50)\n",
            "Epoch 050/100 | Loss 0.0022 | Win/lose count 12.50/14.90 (-2.40)\n",
            "Epoch 051/100 | Loss 0.0112 | Win/lose count 20.50/15.70 (4.80)\n",
            "Epoch 052/100 | Loss 0.0107 | Win/lose count 18.00/9.80 (8.20)\n",
            "Epoch 053/100 | Loss 0.0090 | Win/lose count 23.50/11.50 (12.00)\n",
            "Epoch 054/100 | Loss 0.0167 | Win/lose count 20.00/15.90 (4.10)\n",
            "Epoch 055/100 | Loss 0.0122 | Win/lose count 17.50/14.90 (2.60)\n",
            "Epoch 056/100 | Loss 0.0108 | Win/lose count 23.00/11.30 (11.70)\n",
            "Epoch 057/100 | Loss 0.0122 | Win/lose count 19.50/13.60 (5.90)\n",
            "Epoch 058/100 | Loss 0.0106 | Win/lose count 19.00/10.20 (8.80)\n",
            "Epoch 059/100 | Loss 0.0100 | Win/lose count 22.00/14.50 (7.50)\n",
            "Epoch 060/100 | Loss 0.0055 | Win/lose count 23.50/11.30 (12.20)\n",
            "Epoch 061/100 | Loss 0.0028 | Win/lose count 14.50/14.70 (-0.20)\n",
            "Epoch 062/100 | Loss 0.0202 | Win/lose count 21.00/12.40 (8.60)\n",
            "Epoch 063/100 | Loss 0.0202 | Win/lose count 23.50/14.00 (9.50)\n",
            "Epoch 064/100 | Loss 0.0089 | Win/lose count 25.00/11.10 (13.90)\n",
            "Epoch 065/100 | Loss 0.0111 | Win/lose count 24.00/12.20 (11.80)\n",
            "Epoch 066/100 | Loss 0.0186 | Win/lose count 24.50/10.80 (13.70)\n",
            "Epoch 067/100 | Loss 0.0051 | Win/lose count 25.00/12.30 (12.70)\n",
            "Epoch 068/100 | Loss 0.0165 | Win/lose count 21.00/11.80 (9.20)\n",
            "Epoch 069/100 | Loss 0.0061 | Win/lose count 25.00/13.20 (11.80)\n",
            "Epoch 070/100 | Loss 0.0172 | Win/lose count 26.00/12.40 (13.60)\n",
            "Epoch 071/100 | Loss 0.0016 | Win/lose count 19.00/11.20 (7.80)\n",
            "Epoch 072/100 | Loss 0.0076 | Win/lose count 20.00/16.10 (3.90)\n",
            "Epoch 073/100 | Loss 0.0120 | Win/lose count 24.00/11.80 (12.20)\n",
            "Epoch 074/100 | Loss 0.0226 | Win/lose count 20.00/15.10 (4.90)\n",
            "Epoch 075/100 | Loss 0.0166 | Win/lose count 26.50/10.00 (16.50)\n",
            "Epoch 076/100 | Loss 0.0100 | Win/lose count 20.50/15.00 (5.50)\n",
            "Epoch 077/100 | Loss 0.0089 | Win/lose count 30.00/9.80 (20.20)\n",
            "Epoch 078/100 | Loss 0.0096 | Win/lose count 19.00/12.20 (6.80)\n",
            "Epoch 079/100 | Loss 0.0046 | Win/lose count 19.50/10.30 (9.20)\n",
            "Epoch 080/100 | Loss 0.0063 | Win/lose count 16.50/10.30 (6.20)\n",
            "Epoch 081/100 | Loss 0.0063 | Win/lose count 25.00/12.90 (12.10)\n",
            "Epoch 082/100 | Loss 0.0052 | Win/lose count 19.00/11.00 (8.00)\n",
            "Epoch 083/100 | Loss 0.0130 | Win/lose count 25.50/12.50 (13.00)\n",
            "Epoch 084/100 | Loss 0.0789 | Win/lose count 15.00/18.30 (-3.30)\n",
            "Epoch 085/100 | Loss 0.0145 | Win/lose count 25.00/16.70 (8.30)\n",
            "Epoch 086/100 | Loss 0.0153 | Win/lose count 20.00/12.40 (7.60)\n",
            "Epoch 087/100 | Loss 0.0117 | Win/lose count 25.00/10.60 (14.40)\n",
            "Epoch 088/100 | Loss 0.0057 | Win/lose count 22.00/11.50 (10.50)\n",
            "Epoch 089/100 | Loss 0.0188 | Win/lose count 18.50/13.60 (4.90)\n",
            "Epoch 090/100 | Loss 0.0161 | Win/lose count 23.50/12.30 (11.20)\n",
            "Epoch 091/100 | Loss 0.0136 | Win/lose count 23.50/12.20 (11.30)\n",
            "Epoch 092/100 | Loss 0.0128 | Win/lose count 21.50/16.70 (4.80)\n",
            "Epoch 093/100 | Loss 0.0229 | Win/lose count 27.00/10.10 (16.90)\n",
            "Epoch 094/100 | Loss 0.0056 | Win/lose count 15.50/12.40 (3.10)\n",
            "Epoch 095/100 | Loss 0.0072 | Win/lose count 20.00/11.90 (8.10)\n",
            "Epoch 096/100 | Loss 0.0114 | Win/lose count 18.00/11.50 (6.50)\n",
            "Epoch 097/100 | Loss 0.0086 | Win/lose count 25.50/10.80 (14.70)\n",
            "Epoch 098/100 | Loss 0.0092 | Win/lose count 23.00/11.10 (11.90)\n",
            "Epoch 099/100 | Loss 0.0075 | Win/lose count 23.50/11.00 (12.50)\n",
            "Epoch 100/100 | Loss 0.0382 | Win/lose count 18.50/12.10 (6.40)\n",
            "Average Score =  5.764000000000019\n"
          ],
          "name": "stdout"
        },
        {
          "output_type": "execute_result",
          "data": {
            "text/html": [
              "<video alt=\"test\" controls>\n",
              "                <source src=\"data:video/mp4;base64,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\" type=\"video/mp4\" />\n",
              "             </video>"
            ],
            "text/plain": [
              "<IPython.core.display.HTML object>"
            ]
          },
          "metadata": {
            "tags": []
          },
          "execution_count": 35
        }
      ]
    },
    {
      "metadata": {
        "id": "G2WabZsNqmkf",
        "colab_type": "code",
        "outputId": "6308d3b8-5f8d-4a6c-c4ea-673f71cffdae",
        "colab": {
          "base_uri": "https://localhost:8080/",
          "height": 293
        }
      },
      "cell_type": "code",
      "source": [
        "HTML(display_videos('cnn_train_explore97.mp4'))"
      ],
      "execution_count": 36,
      "outputs": [
        {
          "output_type": "execute_result",
          "data": {
            "text/html": [
              "<video alt=\"test\" controls>\n",
              "                <source src=\"data:video/mp4;base64,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\" type=\"video/mp4\" />\n",
              "             </video>"
            ],
            "text/plain": [
              "<IPython.core.display.HTML object>"
            ]
          },
          "metadata": {
            "tags": []
          },
          "execution_count": 36
        }
      ]
    },
    {
      "metadata": {
        "id": "sYyd_myA7q2l",
        "colab_type": "code",
        "outputId": "eec50cd0-ac75-46f0-bd4a-872f167726a4",
        "colab": {
          "base_uri": "https://localhost:8080/",
          "height": 524
        }
      },
      "cell_type": "code",
      "source": [
        "# Evaluation\n",
        "test(agent,env,epochs_test,prefix='cnn_test_explore')\n",
        "HTML(display_videos('cnn_test_explore19.mp4'))"
      ],
      "execution_count": 37,
      "outputs": [
        {
          "output_type": "stream",
          "text": [
            "Win/lose count 27.5/5.0. Average score (22.5)\n",
            "Win/lose count 3.5/2.0. Average score (12.0)\n",
            "Win/lose count 25.0/4.0. Average score (15.0)\n",
            "Win/lose count 26.0/4.0. Average score (16.75)\n",
            "Win/lose count 22.0/5.0. Average score (16.8)\n",
            "Win/lose count 26.0/5.0. Average score (17.5)\n",
            "Win/lose count 13.0/1.0. Average score (16.714285714285715)\n",
            "Win/lose count 20.5/3.0. Average score (16.8125)\n",
            "Win/lose count 22.0/8.0. Average score (16.5)\n",
            "Win/lose count 23.5/3.0. Average score (16.9)\n",
            "Win/lose count 12.0/3.0. Average score (16.181818181818183)\n",
            "Win/lose count 21.5/1.0. Average score (16.541666666666668)\n",
            "Win/lose count 19.0/2.0. Average score (16.576923076923077)\n",
            "Win/lose count 19.0/2.0. Average score (16.607142857142858)\n",
            "Win/lose count 16.0/1.0. Average score (16.5)\n",
            "Win/lose count 15.0/3.0. Average score (16.21875)\n",
            "Win/lose count 23.5/1.0. Average score (16.58823529411765)\n",
            "Win/lose count 24.5/4.0. Average score (16.805555555555557)\n",
            "Win/lose count 18.0/0. Average score (16.86842105263158)\n",
            "Win/lose count 25.0/2.0. Average score (17.175)\n",
            "Final score: 17.175\n"
          ],
          "name": "stdout"
        },
        {
          "output_type": "execute_result",
          "data": {
            "text/html": [
              "<video alt=\"test\" controls>\n",
              "                <source src=\"data:video/mp4;base64,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\" type=\"video/mp4\" />\n",
              "             </video>"
            ],
            "text/plain": [
              "<IPython.core.display.HTML object>"
            ]
          },
          "metadata": {
            "tags": []
          },
          "execution_count": 37
        }
      ]
    },
    {
      "metadata": {
        "id": "DoyMZlQp7q2n",
        "colab_type": "text"
      },
      "cell_type": "markdown",
      "source": [
        "***\n",
        "***\n",
        "__BONUS question__ Use the expert DQN from the previous question to generate some winning games. Train a model that mimicks its behavior. Compare the performances."
      ]
    },
    {
      "metadata": {
        "id": "ChH4K3f47q2o",
        "colab_type": "text"
      },
      "cell_type": "markdown",
      "source": [
        ""
      ]
    },
    {
      "metadata": {
        "id": "jAhwMIux7q2o",
        "colab_type": "text"
      },
      "cell_type": "markdown",
      "source": [
        "***"
      ]
    }
  ]
}