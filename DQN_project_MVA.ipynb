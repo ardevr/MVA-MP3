{
  "nbformat": 4,
  "nbformat_minor": 0,
  "metadata": {
    "colab": {
      "name": "DQN_project_MVA.ipynb",
      "version": "0.3.2",
      "provenance": [],
      "collapsed_sections": [],
      "toc_visible": true
    },
    "kernelspec": {
      "name": "python3",
      "display_name": "Python 3"
    },
    "accelerator": "GPU"
  },
  "cells": [
    {
      "metadata": {
        "id": "CMxYpLaS7q1g",
        "colab_type": "text"
      },
      "cell_type": "markdown",
      "source": [
        "**You may need to install [OpenCV](https://pypi.python.org/pypi/opencv-python) and [scikit-video](http://www.scikit-video.org/stable/).**"
      ]
    },
    {
      "metadata": {
        "id": "muI-AlyI70UZ",
        "colab_type": "code",
        "outputId": "7d41a044-54cc-489c-9466-6ede375fda5a",
        "colab": {
          "base_uri": "https://localhost:8080/",
          "height": 188
        }
      },
      "cell_type": "code",
      "source": [
        "!pip install scikit-video"
      ],
      "execution_count": 0,
      "outputs": [
        {
          "output_type": "stream",
          "text": [
            "Collecting scikit-video\n",
            "\u001b[?25l  Downloading https://files.pythonhosted.org/packages/b1/a6/c69cad508139a342810ae46e946ebb3256aa6e42f690d901bb68f50582e3/scikit_video-1.1.11-py2.py3-none-any.whl (2.3MB)\n",
            "\u001b[K    100% |████████████████████████████████| 2.3MB 11.5MB/s \n",
            "\u001b[?25hRequirement already satisfied: numpy in /usr/local/lib/python3.6/dist-packages (from scikit-video) (1.14.6)\n",
            "Requirement already satisfied: scipy in /usr/local/lib/python3.6/dist-packages (from scikit-video) (1.1.0)\n",
            "Requirement already satisfied: pillow in /usr/local/lib/python3.6/dist-packages (from scikit-video) (4.0.0)\n",
            "Requirement already satisfied: olefile in /usr/local/lib/python3.6/dist-packages (from pillow->scikit-video) (0.46)\n",
            "Installing collected packages: scikit-video\n",
            "Successfully installed scikit-video-1.1.11\n"
          ],
          "name": "stdout"
        }
      ]
    },
    {
      "metadata": {
        "id": "aL4CdAoe7q1h",
        "colab_type": "code",
        "colab": {}
      },
      "cell_type": "code",
      "source": [
        "import keras\n",
        "import numpy as np\n",
        "import io\n",
        "import base64\n",
        "from IPython.display import HTML\n",
        "import skvideo.io\n",
        "import cv2\n",
        "import json\n",
        "\n",
        "\n",
        "from keras.models import Sequential,model_from_json\n",
        "from keras.layers.core import Dense\n",
        "from keras.optimizers import sgd\n",
        "from keras.layers import Conv2D, MaxPooling2D, Activation, AveragePooling2D,Reshape,BatchNormalization,Flatten, Dropout"
      ],
      "execution_count": 0,
      "outputs": []
    },
    {
      "metadata": {
        "id": "88W-70nZ7q1k",
        "colab_type": "text"
      },
      "cell_type": "markdown",
      "source": [
        "# MiniProject #3: Deep Reinforcement Learning"
      ]
    },
    {
      "metadata": {
        "id": "t3izNgiX7q1l",
        "colab_type": "text"
      },
      "cell_type": "markdown",
      "source": [
        "__Notations__: $E_p$ is the expectation under probability $p$. Please justify each of your answer and widely comment your code."
      ]
    },
    {
      "metadata": {
        "id": "8uFHeZKs7q1l",
        "colab_type": "text"
      },
      "cell_type": "markdown",
      "source": [
        "# Context"
      ]
    },
    {
      "metadata": {
        "id": "sggSbUBV7q1m",
        "colab_type": "text"
      },
      "cell_type": "markdown",
      "source": [
        "In a reinforcement learning algorithm, we modelize each step $t$ as an action $a_t$ obtained from a state $s_t$, i.e. $\\{(a_{t},s_{t})_{t\\leq T}\\}$ having the Markov property. We consider a discount factor $\\gamma \\in [0,1]$ that ensures convergence. The goal is to find among all the policies $\\pi$, one that maximizes the expected reward:\n",
        "\n",
        "\\begin{equation*}\n",
        "R(\\pi)=\\sum_{t\\leq T}E_{p^{\\pi}}[\\gamma^t r(s_{t},a_{t})] \\> ,\n",
        "\\end{equation*}\n",
        "\n",
        "where: \n",
        "\\begin{equation*}p^{\\pi}(a_{0},a_{1},s_{1},...,a_{T},s_{T})=p(a_{0})\\prod_{t=1}^{T}\\pi(a_{t}|s_{t})p(s_{t+1}|s_{t},a_{t}) \\> .\n",
        "\\end{equation*}\n",
        "\n",
        "We note the $Q$-function:\n",
        "\n",
        "\\begin{equation*}Q^\\pi(s,a)=E_{p^{\\pi}}[\\sum_{t\\leq T}\\gamma^{t}r(s_{t},a_{t})|s_{0}=s,a_{0}=a] \\> .\n",
        "\\end{equation*}\n",
        "\n",
        "Thus, the optimal Q function is:\n",
        "\\begin{equation*}\n",
        "Q^*(s,a)=\\max_{\\pi}Q^\\pi(s,a) \\> .\n",
        "\\end{equation*}\n",
        "\n",
        "In this project, we will apply the deep reinforcement learning techniques to a simple game: an agent will have to learn from scratch a policy that will permit it maximizing a reward."
      ]
    },
    {
      "metadata": {
        "id": "hYH6-vQ17q1n",
        "colab_type": "text"
      },
      "cell_type": "markdown",
      "source": [
        "## The environment, the agent and the game"
      ]
    },
    {
      "metadata": {
        "id": "FVB3e_aP7q1n",
        "colab_type": "text"
      },
      "cell_type": "markdown",
      "source": [
        "### The environment"
      ]
    },
    {
      "metadata": {
        "id": "rlDbAaZg7q1o",
        "colab_type": "text"
      },
      "cell_type": "markdown",
      "source": [
        "```Environment``` is an abstract class that represents the states, rewards, and actions to obtain the new state."
      ]
    },
    {
      "metadata": {
        "id": "DZSb8ebA7q1o",
        "colab_type": "code",
        "colab": {}
      },
      "cell_type": "code",
      "source": [
        "class Environment(object):\n",
        "    def __init__(self):\n",
        "        pass\n",
        "\n",
        "    def act(self, act):\n",
        "        \"\"\"\n",
        "        One can act on the environment and obtain its reaction:\n",
        "        - the new state\n",
        "        - the reward of the new state\n",
        "        - should we continue the game?\n",
        "\n",
        "        :return: state, reward, game_over\n",
        "        \"\"\"\n",
        "        pass\n",
        "\n",
        "\n",
        "    def reset(self):\n",
        "        \"\"\"\n",
        "        Reinitialize the environment to a random state and returns\n",
        "        the original state\n",
        "\n",
        "        :return: state\n",
        "        \"\"\"\n",
        "        pass\n",
        "    \n",
        "    def draw(self):\n",
        "        \"\"\"\n",
        "        Visualize in the console or graphically the current state\n",
        "        \"\"\"\n",
        "        pass"
      ],
      "execution_count": 0,
      "outputs": []
    },
    {
      "metadata": {
        "id": "vNsl_WZU7q1r",
        "colab_type": "text"
      },
      "cell_type": "markdown",
      "source": [
        "The method ```act``` allows to act on the environment at a given state $s_t$ (stored internally), via action $a_t$. The method will return the new state $s_{t+1}$, the reward $r(s_{t},a_{t})$ and determines if $t\\leq T$ (*game_over*).\n",
        "\n",
        "The method ```reset``` simply reinitializes the environment to a random state $s_0$.\n",
        "\n",
        "The method ```draw``` displays the current state $s_t$ (this is useful to check the behavior of the Agent).\n",
        "\n",
        "We modelize $s_t$ as a tensor, while $a_t$ is an integer."
      ]
    },
    {
      "metadata": {
        "id": "I4DeBybq7q1r",
        "colab_type": "text"
      },
      "cell_type": "markdown",
      "source": [
        "### The Agent"
      ]
    },
    {
      "metadata": {
        "id": "1vry5QBV7q1s",
        "colab_type": "text"
      },
      "cell_type": "markdown",
      "source": [
        "The goal of the ```Agent``` is to interact with the ```Environment``` by proposing actions $a_t$ obtained from a given state $s_t$ to attempt to maximize its __reward__ $r(s_t,a_t)$. We propose the following abstract class:"
      ]
    },
    {
      "metadata": {
        "id": "_-MYkE0G7q1s",
        "colab_type": "code",
        "colab": {}
      },
      "cell_type": "code",
      "source": [
        "class Agent(object):\n",
        "    def __init__(self, epsilon=0.1, n_action=4):\n",
        "        self.epsilon = epsilon\n",
        "        self.n_action = n_action\n",
        "    \n",
        "    def set_epsilon(self,e):\n",
        "        self.epsilon = e\n",
        "\n",
        "    def act(self,s,train=True):\n",
        "        \"\"\" This function should return the next action to do:\n",
        "        an integer between 0 and 4 (not included) with a random exploration of epsilon\"\"\"\n",
        "        if train:\n",
        "            if np.random.rand() <= self.epsilon:\n",
        "                a = np.random.randint(0, self.n_action, size=1)[0]\n",
        "            else:\n",
        "                a = self.learned_act(s)\n",
        "        else: # in some cases, this can improve the performance.. remove it if poor performances\n",
        "            a = self.learned_act(s)\n",
        "\n",
        "        return a\n",
        "\n",
        "    def learned_act(self,s):\n",
        "        \"\"\" Act via the policy of the agent, from a given state s\n",
        "        it proposes an action a\"\"\"\n",
        "        pass\n",
        "\n",
        "    def reinforce(self, s, n_s, a, r, game_over_):\n",
        "        \"\"\" This function is the core of the learning algorithm. \n",
        "        It takes as an input the current state s_, the next state n_s_\n",
        "        the action a_ used to move from s_ to n_s_ and the reward r_.\n",
        "        \n",
        "        Its goal is to learn a policy.\n",
        "        \"\"\"\n",
        "        pass\n",
        "\n",
        "    def save(self):\n",
        "        \"\"\" This function returns basic stats if applicable: the\n",
        "        loss and/or the model\"\"\"\n",
        "        pass\n",
        "\n",
        "    def load(self):\n",
        "        \"\"\" This function allows to restore a model\"\"\"\n",
        "        pass"
      ],
      "execution_count": 0,
      "outputs": []
    },
    {
      "metadata": {
        "id": "OCd0DD1N7q1v",
        "colab_type": "text"
      },
      "cell_type": "markdown",
      "source": [
        "***\n",
        "__Question 1__:\n",
        "Explain the function act. Why is ```epsilon``` essential?"
      ]
    },
    {
      "metadata": {
        "id": "dBvHS36a7q1w",
        "colab_type": "text"
      },
      "cell_type": "markdown",
      "source": [
        "The act function is used to select the next action taken by the agent. However, as the rewards obtained by the agent are correlated in time, always taking the action that maximizes the total reward until now may be suboptimal. The parameter $\\varepsilon$ insures that the agent still explores possible actions throughout the training and does not simply select the action with the highest estimated reward which can be suboptimal in reality.\n",
        "\n",
        "In short, $\\varepsilon$ is essential for exploration of the action space."
      ]
    },
    {
      "metadata": {
        "id": "IojrdLb47q1w",
        "colab_type": "text"
      },
      "cell_type": "markdown",
      "source": [
        "***\n",
        "### The Game"
      ]
    },
    {
      "metadata": {
        "id": "t6sRJjVk7q1x",
        "colab_type": "text"
      },
      "cell_type": "markdown",
      "source": [
        "The ```Agent``` and the ```Environment``` work in an interlaced way as in the following (take some time to understand this code as it is the core of the project)\n",
        "\n",
        "```python\n",
        "\n",
        "epoch = 300\n",
        "env = Environment()\n",
        "agent = Agent()\n",
        "\n",
        "\n",
        "# Number of won games\n",
        "score = 0\n",
        "loss = 0\n",
        "\n",
        "\n",
        "for e in range(epoch):\n",
        "    # At each epoch, we restart to a fresh game and get the initial state\n",
        "    state = env.reset()\n",
        "    # This assumes that the games will end\n",
        "    game_over = False\n",
        "\n",
        "    win = 0\n",
        "    lose = 0\n",
        "    \n",
        "    while not game_over:\n",
        "        # The agent performs an action\n",
        "        action = agent.act(state)\n",
        "\n",
        "        # Apply an action to the environment, get the next state, the reward\n",
        "        # and if the games end\n",
        "        prev_state = state\n",
        "        state, reward, game_over = env.act(action)\n",
        "\n",
        "        # Update the counters\n",
        "        if reward > 0:\n",
        "            win = win + reward\n",
        "        if reward < 0:\n",
        "            lose = lose -reward\n",
        "\n",
        "        # Apply the reinforcement strategy\n",
        "        loss = agent.reinforce(prev_state, state,  action, reward, game_over)\n",
        "\n",
        "    # Save as a mp4\n",
        "    if e % 10 == 0:\n",
        "        env.draw(e)\n",
        "\n",
        "    # Update stats\n",
        "    score += win-lose\n",
        "\n",
        "    print(\"Epoch {:03d}/{:03d} | Loss {:.4f} | Win/lose count {}/{} ({})\"\n",
        "          .format(e, epoch, loss, win, lose, win-lose))\n",
        "    agent.save()\n",
        "```"
      ]
    },
    {
      "metadata": {
        "id": "Iy-rq2qP7q1x",
        "colab_type": "text"
      },
      "cell_type": "markdown",
      "source": [
        "# The game, *eat cheese*"
      ]
    },
    {
      "metadata": {
        "id": "j9CsZA7M7q1y",
        "colab_type": "text"
      },
      "cell_type": "markdown",
      "source": [
        "A rat runs on an island and tries to eat as much as possible. The island is subdivided into $N\\times N$ cells, in which there are cheese (+0.5) and poisonous cells (-1). The rat has a visibility of 2 cells (thus it can see $5^2$ cells). The rat is given a time $T$ to accumulate as much food as possible. It can perform 4 actions: going up, down, left, right. \n",
        "\n",
        "The goal is to code an agent to solve this task that will learn by trial and error. We propose the following environment:"
      ]
    },
    {
      "metadata": {
        "id": "Dys0Xgqc7q10",
        "colab_type": "code",
        "colab": {}
      },
      "cell_type": "code",
      "source": [
        "class Environment(object):\n",
        "  \n",
        "    def __init__(self, grid_size=10, max_time=500, temperature=0.1):\n",
        "        grid_size = grid_size+4\n",
        "        self.grid_size = grid_size\n",
        "        self.max_time = max_time\n",
        "        self.temperature = temperature\n",
        "\n",
        "        #board on which one plays\n",
        "        self.board = np.zeros((grid_size,grid_size))\n",
        "        self.position = np.zeros((grid_size,grid_size))\n",
        "\n",
        "        # coordinate of the cat\n",
        "        self.x = 0\n",
        "        self.y = 1\n",
        "\n",
        "        # self time\n",
        "        self.t = 0\n",
        "\n",
        "        self.scale=16\n",
        "\n",
        "        self.to_draw = np.zeros((max_time+2, grid_size*self.scale, grid_size*self.scale, 3))\n",
        "\n",
        "\n",
        "    def draw(self,e):\n",
        "        skvideo.io.vwrite(str(e) + '.mp4', self.to_draw)\n",
        "\n",
        "    def get_frame(self,t):\n",
        "        b = np.zeros((self.grid_size,self.grid_size,3))+128\n",
        "        b[self.board>0,0] = 256\n",
        "        b[self.board < 0, 2] = 256\n",
        "        b[self.x,self.y,:]=256\n",
        "        b[-2:,:,:]=0\n",
        "        b[:,-2:,:]=0\n",
        "        b[:2,:,:]=0\n",
        "        b[:,:2,:]=0\n",
        "        \n",
        "        b =  cv2.resize(b, None, fx=self.scale, fy=self.scale, interpolation=cv2.INTER_NEAREST)\n",
        "\n",
        "        self.to_draw[t,:,:,:]=b\n",
        "\n",
        "\n",
        "    def act(self, action):\n",
        "        \"\"\"This function returns the new state, reward and decides if the\n",
        "        game ends.\"\"\"\n",
        "\n",
        "        self.get_frame(int(self.t))\n",
        "\n",
        "        self.position = np.zeros((self.grid_size, self.grid_size))\n",
        "\n",
        "        self.position[0:2,:]= -1\n",
        "        self.position[:,0:2] = -1\n",
        "        self.position[-2:, :] = -1\n",
        "        self.position[:, -2:] = -1\n",
        "\n",
        "        self.position[self.x, self.y] = 1\n",
        "        if action == 0:\n",
        "            if self.x == self.grid_size-3:\n",
        "                self.x = self.x-1\n",
        "            else:\n",
        "                self.x = self.x + 1\n",
        "        elif action == 1:\n",
        "            if self.x == 2:\n",
        "                self.x = self.x+1\n",
        "            else:\n",
        "                self.x = self.x-1\n",
        "        elif action == 2:\n",
        "            if self.y == self.grid_size - 3:\n",
        "                self.y = self.y - 1\n",
        "            else:\n",
        "                self.y = self.y + 1\n",
        "        elif action == 3:\n",
        "            if self.y == 2:\n",
        "                self.y = self.y + 1\n",
        "            else:\n",
        "                self.y = self.y - 1\n",
        "        else:\n",
        "            RuntimeError('Error: action not recognized')\n",
        "\n",
        "        self.t = self.t + 1\n",
        "        reward = self.board[self.x, self.y]\n",
        "        self.board[self.x, self.y] = 0\n",
        "        game_over = self.t > self.max_time\n",
        "        state = np.concatenate((self.board.reshape(self.grid_size, self.grid_size,1),\n",
        "                        self.position.reshape(self.grid_size, self.grid_size,1)),axis=2)\n",
        "        state = state[self.x-2:self.x+3,self.y-2:self.y+3,:]\n",
        "\n",
        "        return state, reward, game_over\n",
        "\n",
        "    def reset(self):\n",
        "        \"\"\"This function resets the game and returns the initial state\"\"\"\n",
        "\n",
        "        self.x = np.random.randint(3, self.grid_size-3, size=1)[0]\n",
        "        self.y = np.random.randint(3, self.grid_size-3, size=1)[0]\n",
        "\n",
        "\n",
        "        bonus = 0.5*np.random.binomial(1,self.temperature,size=self.grid_size**2)\n",
        "        bonus = bonus.reshape(self.grid_size,self.grid_size)\n",
        "\n",
        "        malus = -1.0*np.random.binomial(1,self.temperature,size=self.grid_size**2)\n",
        "        malus = malus.reshape(self.grid_size, self.grid_size)\n",
        "\n",
        "        self.to_draw = np.zeros((self.max_time+2, self.grid_size*self.scale, self.grid_size*self.scale, 3))\n",
        "\n",
        "\n",
        "        malus[bonus>0]=0\n",
        "\n",
        "        self.board = bonus + malus\n",
        "\n",
        "        self.position = np.zeros((self.grid_size, self.grid_size))\n",
        "        self.position[0:2,:]= -1\n",
        "        self.position[:,0:2] = -1\n",
        "        self.position[-2:, :] = -1\n",
        "        self.position[:, -2:] = -1\n",
        "        self.board[self.x,self.y] = 0\n",
        "        self.t = 0\n",
        "\n",
        "        state = np.concatenate((\n",
        "                               self.board.reshape(self.grid_size, self.grid_size,1),\n",
        "                        self.position.reshape(self.grid_size, self.grid_size,1)),axis=2)\n",
        "\n",
        "        state = state[self.x - 2:self.x + 3, self.y - 2:self.y + 3, :]\n",
        "        return state"
      ],
      "execution_count": 0,
      "outputs": []
    },
    {
      "metadata": {
        "id": "wi5_4TcE7q11",
        "colab_type": "text"
      },
      "cell_type": "markdown",
      "source": [
        "The following elements are important because they correspond to the hyper parameters for this project:"
      ]
    },
    {
      "metadata": {
        "id": "zcgD8lsa7q12",
        "colab_type": "code",
        "colab": {}
      },
      "cell_type": "code",
      "source": [
        "# parameters\n",
        "size = 13\n",
        "T=200\n",
        "temperature=0.3\n",
        "epochs_train=200 # set small when debugging\n",
        "epochs_test=20 # set small when debugging\n",
        "\n",
        "# display videos\n",
        "def display_videos(name):\n",
        "    video = io.open(name, 'r+b').read()\n",
        "    encoded = base64.b64encode(video)\n",
        "    return '''<video alt=\"test\" controls>\n",
        "                <source src=\"data:video/mp4;base64,{0}\" type=\"video/mp4\" />\n",
        "             </video>'''.format(encoded.decode('ascii'))"
      ],
      "execution_count": 0,
      "outputs": []
    },
    {
      "metadata": {
        "id": "jUWX_o5X7q15",
        "colab_type": "text"
      },
      "cell_type": "markdown",
      "source": [
        "__Question 2__ Explain the use of the arrays ```position``` and ```board```."
      ]
    },
    {
      "metadata": {
        "id": "Uyw5Dd-R7q17",
        "colab_type": "text"
      },
      "cell_type": "markdown",
      "source": [
        "The array ```board``` represents the different malus and bonus on the discretized island. When the mouse visit a cell, it eats the bonus or malus and cell's value is set to $0$.\n",
        "\n",
        "The array  ```position```  is used to track the position of the mouse on the board, as after each action the previous position of the mouse will be marked by a $1$ and all other cells will be at $0$."
      ]
    },
    {
      "metadata": {
        "id": "IVp87lpf7q17",
        "colab_type": "text"
      },
      "cell_type": "markdown",
      "source": [
        "## Random Agent"
      ]
    },
    {
      "metadata": {
        "id": "_CoovCXz7q17",
        "colab_type": "text"
      },
      "cell_type": "markdown",
      "source": [
        "***\n",
        "__Question 3__ Implement a random Agent (only ```learned_act``` needs to be implemented):"
      ]
    },
    {
      "metadata": {
        "id": "QkbEAUou7q18",
        "colab_type": "code",
        "colab": {}
      },
      "cell_type": "code",
      "source": [
        "class RandomAgent(Agent):\n",
        "    def __init__(self):\n",
        "        super(RandomAgent, self).__init__()\n",
        "        \n",
        "\n",
        "    def learned_act(self, s):\n",
        "        return np.random.randint(0,self.n_action)"
      ],
      "execution_count": 0,
      "outputs": []
    },
    {
      "metadata": {
        "id": "aGH2CWmE7q1-",
        "colab_type": "text"
      },
      "cell_type": "markdown",
      "source": [
        "***\n",
        "***\n",
        "__Question 4__ Visualize the game moves. You need to fill in the following function for the evaluation:"
      ]
    },
    {
      "metadata": {
        "id": "9Mus6J8j7q1_",
        "colab_type": "code",
        "colab": {}
      },
      "cell_type": "code",
      "source": [
        "def test(agent,env,epochs,prefix=''):\n",
        "    # Number of won games\n",
        "    score = 0\n",
        "        \n",
        "    for e in range(epochs):\n",
        "      \n",
        "      state = env.reset()\n",
        "      game_over = False\n",
        "      win = 0\n",
        "      lose = 0\n",
        "      \n",
        "      while not game_over:\n",
        "        \n",
        "        # Play while the agent has not encountered a terminal state\n",
        "        action = agent.learned_act(state)\n",
        "        prev_state = state\n",
        "        state, reward, game_over = env.act(action)\n",
        "\n",
        "        if reward > 0:\n",
        "          win = win + reward\n",
        "        if reward < 0:\n",
        "          lose = lose - reward\n",
        "          \n",
        "      # Save as a mp4\n",
        "      env.draw(prefix+str(e))\n",
        "\n",
        "      # Update stats\n",
        "      score = score + win-lose\n",
        "\n",
        "      print(\"Win/lose count {}/{}. Average score ({})\".format(win, lose, score/(1+e)))\n",
        "    print('Final score: '+str(score/epochs))"
      ],
      "execution_count": 0,
      "outputs": []
    },
    {
      "metadata": {
        "id": "4aUpE9xH7q2B",
        "colab_type": "code",
        "outputId": "112b595c-2825-4bf7-dda6-900c67f98e52",
        "colab": {
          "base_uri": "https://localhost:8080/",
          "height": 646
        }
      },
      "cell_type": "code",
      "source": [
        "# Initialize the game\n",
        "env = Environment(grid_size=size, max_time=T,temperature=temperature)\n",
        "\n",
        "# Initialize the agent!\n",
        "agent = RandomAgent()\n",
        "\n",
        "test(agent,env,epochs_test,prefix='random')\n",
        "HTML(display_videos('random19.mp4'))"
      ],
      "execution_count": 0,
      "outputs": [
        {
          "output_type": "stream",
          "text": [
            "Win/lose count 8.5/15.0. Average score (-6.5)\n",
            "Win/lose count 10.0/17.0. Average score (-6.75)\n",
            "Win/lose count 5.0/8.0. Average score (-5.5)\n",
            "Win/lose count 14.5/11.0. Average score (-3.25)\n",
            "Win/lose count 11.0/14.0. Average score (-3.2)\n",
            "Win/lose count 7.0/18.0. Average score (-4.5)\n",
            "Win/lose count 9.5/16.0. Average score (-4.785714285714286)\n",
            "Win/lose count 11.0/22.0. Average score (-5.5625)\n",
            "Win/lose count 12.0/18.0. Average score (-5.611111111111111)\n",
            "Win/lose count 12.0/9.0. Average score (-4.75)\n",
            "Win/lose count 17.0/19.0. Average score (-4.5)\n",
            "Win/lose count 12.0/13.0. Average score (-4.208333333333333)\n",
            "Win/lose count 10.5/14.0. Average score (-4.153846153846154)\n",
            "Win/lose count 8.5/13.0. Average score (-4.178571428571429)\n",
            "Win/lose count 11.5/18.0. Average score (-4.333333333333333)\n",
            "Win/lose count 14.5/16.0. Average score (-4.15625)\n",
            "Win/lose count 7.5/7.0. Average score (-3.8823529411764706)\n",
            "Win/lose count 9.5/15.0. Average score (-3.9722222222222223)\n",
            "Win/lose count 14.0/25.0. Average score (-4.342105263157895)\n",
            "Win/lose count 13.5/17.0. Average score (-4.3)\n",
            "Final score: -4.3\n"
          ],
          "name": "stdout"
        },
        {
          "output_type": "execute_result",
          "data": {
            "text/html": [
              "<video alt=\"test\" controls>\n",
              "                <source src=\"data:video/mp4;base64,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\" type=\"video/mp4\" />\n",
              "             </video>"
            ],
            "text/plain": [
              "<IPython.core.display.HTML object>"
            ]
          },
          "metadata": {
            "tags": []
          },
          "execution_count": 10
        }
      ]
    },
    {
      "metadata": {
        "id": "KvXA3ea77q2E",
        "colab_type": "text"
      },
      "cell_type": "markdown",
      "source": [
        "***\n",
        "## DQN"
      ]
    },
    {
      "metadata": {
        "id": "8E7c5YLp7q2E",
        "colab_type": "text"
      },
      "cell_type": "markdown",
      "source": [
        "Let us assume here that $T=\\infty$.\n",
        "\n",
        "***\n",
        "__Question 5__ Let $\\pi$ be a policy, show that:\n",
        "\n",
        "\\begin{equation*}\n",
        "Q^{\\pi}(s,a)=E_{(s',a')\\sim p(.|s,a)}[r(s,a)+\\gamma Q^{\\pi}(s',a')]\n",
        "\\end{equation*}\n",
        "\n",
        "Then, show that for the optimal policy $\\pi^*$ (we assume its existence), the following holds: \n",
        "\n",
        "\\begin{equation*}\n",
        "Q^{*}(s,a)=E_{s'\\sim \\pi^*(.|s,a)}[r(s,a)+\\gamma\\max_{a'}Q^{*}(s',a')].\n",
        "\\end{equation*}\n",
        "Finally, deduce that a plausible objective is:\n",
        "\n",
        "\\begin{equation*}\n",
        "\\mathcal{L}(\\theta)=E_{s' \\sim \\pi^*(.|s,a)}\\Vert r+\\gamma\\max_{a'}Q(s',a',\\theta)-Q(s,a,\\theta)\\Vert^{2}.\n",
        "\\end{equation*}\n",
        "\n",
        "\n"
      ]
    },
    {
      "metadata": {
        "id": "GhuYPFHv7q2F",
        "colab_type": "text"
      },
      "cell_type": "markdown",
      "source": [
        "For a policy $\\pi$, a state $s$ and an action $a$  :\n",
        "\n",
        "\\begin{align*}\n",
        "Q^{\\pi}(s,a) &= E_{p^{\\pi}}\\left[\\sum_{t\\leq T}\\gamma^{t}r(s_{t},a_{t})|s_{0}=s,a_{0}=a\\right]  \\\\\n",
        "&= r(s,a) + \\gamma \\sum_{s'}E_{p^{\\pi}}\\left[\\sum_{t= 1}^{T}\\gamma^{t-1}r(s_{t},a_{t})\\mathbb{1}_{\\{s_{1} = s'\\}}|s_{0}=s,a_{0}=a\\right] \\\\\n",
        "&=  r(s,a) + \\gamma \\sum_{s'}\\mathbb{P}(s'|s,a)E_{p^{\\pi}}\\left[\\sum_{t= 1}^{T}\\gamma^{t-1}r(s_{t},a_{t}) | s_{1}=s'\\right] \\\\\n",
        " & = r(s,a) + \\gamma \\sum_{s',a'}\\mathbb{P}(s'|s,a)\\pi(a'|s')E_{p^{\\pi}}\\left[\\sum_{t= 1}^{T}\\gamma^{t-1}r(s_{t},a_{t}) | s_{1}=s',a_{1}=a'\\right] \\\\\n",
        "&=  r(s,a) + \\gamma \\mathbb{E}_{(s',a')\\sim (\\mathbb{P}(.|s,a),\\pi(.|s'))}(Q^{\\pi}(s',a')) \\\\\n",
        "\\end{align*}\n",
        "\n",
        "where $\\mathbb{P}(.|s,a)$ is the model probability when taking action $a$ in state $s$ and all equalities are justified by the fact that a sufficient statistics for the next state $s_{t+1}$ is the current state $s_{t}$ and the action $a_{t}$. \n",
        "\n",
        "For a policy $\\pi$, let's note $\\pi = (a_{0},\\pi')$ (i.e the first action is $a_{0}$ and then the action are distributed according to $\\pi'$) then the optimal $Q$-function satisifes :\n",
        "\n",
        "\\begin{align*}\n",
        "Q^{\\star}(s,a) &= \\max_{\\pi} Q^{\\pi}(s,a) \\\\\n",
        "&= r(s,a)  + \\gamma\\max_{a_{0},\\pi'} \\mathbb{E}_{(s',a')\\sim (\\mathbb{P}(.|s,a),\\pi(.|s'))}(Q^{\\pi}(s',a')) \\\\\n",
        "&= r(s,a)  + \\gamma\\max_{a_{0}} \\mathbb{E}_{s'\\sim \\mathbb{P}(.|s,a)}(Q^{\\star}(s',a_{0})) \\\\\n",
        "&= r(s,a)  + \\gamma\\mathbb{E}_{s'\\sim \\mathbb{P}(.|s,a)}(\\max_{a_{0}} Q^{\\star}(s',a_{0})) \\\\\n",
        "\\end{align*}\n",
        "\n",
        "In that case the model state distribution is deterministic so the objective $\\mathcal{L}$ is such that $\\mathcal{L}(\\theta) = || r(s,a) + \\gamma \\max_{a'} Q(s',a',\\theta) - Q(s,a,\\theta)||^{2} $\n",
        "where $s'$ is the state of the agent after taking action $a$ in state $s$. It is a sensible objective because it means we are fitting a network to represent a function that satisfy the equality characterising the optimal $Q$-function. Thus, as there is a unique function that satisfy this equality (as this can be seen as a fix point of a contraction operator) is the network converges it will be toward the optimal $Q$-function. Finally, extracting the optimal policy is not diffuclt as $\\pi^{\\star}(.|s) = \\arg\\max_{a} Q^{\\star}(s,a)$.\n",
        "\n",
        "\n"
      ]
    },
    {
      "metadata": {
        "id": "c8myFNjP7q2F",
        "colab_type": "text"
      },
      "cell_type": "markdown",
      "source": [
        "***\n",
        "The DQN-learning algorithm relies on these derivations to train the parameters $\\theta$ of a Deep Neural Network:\n",
        "\n",
        "1. At the state $s_t$, select the action $a_t$ with best reward using $Q_t$ and store the results;\n",
        "\n",
        "2. Obtain the new state $s_{t+1}$ from the environment $p$;\n",
        "\n",
        "3. Store $(s_t,a_t,s_{t+1})$;\n",
        "\n",
        "4. Obtain $Q_{t+1}$ by minimizing  $\\mathcal{L}$ from a recovered batch from the previously stored results.\n",
        "\n",
        "***\n",
        "__Question 6__ Implement the class ```Memory``` that stores moves (in a replay buffer) via ```remember``` and provides a ```random_access``` to these. Specify a maximum memory size to avoid side effects. You can for example use a ```list()``` and set by default ```max_memory=100```."
      ]
    },
    {
      "metadata": {
        "id": "sNAYDkJn7q2G",
        "colab_type": "code",
        "colab": {}
      },
      "cell_type": "code",
      "source": [
        "class Memory(object):\n",
        "    def __init__(self, max_memory=100):\n",
        "      self.max_memory = max_memory\n",
        "      self.memory = list()\n",
        "\n",
        "    def remember(self, m):\n",
        "      len_memory = len(self.memory)\n",
        "      #Check is the buffer is full\n",
        "      if len_memory >= self.max_memory :\n",
        "        #if full delete the first element\n",
        "        self.memory = self.memory[1::]\n",
        "      self.memory.append(m)\n",
        "        \n",
        "    def random_access(self):\n",
        "      #Draws a uniform random index of the memory list\n",
        "      random_index = np.random.randint(0,len(self.memory))\n",
        "      return self.memory[random_index]"
      ],
      "execution_count": 0,
      "outputs": []
    },
    {
      "metadata": {
        "id": "KwWey-cG7q2J",
        "colab_type": "text"
      },
      "cell_type": "markdown",
      "source": [
        "***\n",
        "The pipeline we will use for training is given below:"
      ]
    },
    {
      "metadata": {
        "id": "EdJYkRD87q2K",
        "colab_type": "code",
        "colab": {}
      },
      "cell_type": "code",
      "source": [
        "def train(agent,env,epoch,prefix=''):\n",
        "    # Number of won games\n",
        "    score = 0\n",
        "    loss = 0\n",
        "\n",
        "    for e in range(epoch):\n",
        "        # At each epoch, we restart to a fresh game and get the initial state\n",
        "        state = env.reset()\n",
        "        # This assumes that the games will terminate\n",
        "        game_over = False\n",
        "\n",
        "        win = 0\n",
        "        lose = 0\n",
        "\n",
        "        while not game_over:\n",
        "            # The agent performs an action\n",
        "            action = agent.act(state)\n",
        "\n",
        "            # Apply an action to the environment, get the next state, the reward\n",
        "            # and if the games end\n",
        "            prev_state = state\n",
        "            state, reward, game_over = env.act(action)\n",
        "\n",
        "            # Update the counters\n",
        "            if reward > 0:\n",
        "                win = win + reward\n",
        "            if reward < 0:\n",
        "                lose = lose -reward\n",
        "\n",
        "            # Apply the reinforcement strategy\n",
        "            loss = agent.reinforce(prev_state, state,  action, reward, game_over)\n",
        "\n",
        "        # Save as a mp4\n",
        "        if e % 1 == 0:\n",
        "            env.draw(prefix+str(e+1))\n",
        "\n",
        "        # Update stats\n",
        "        score += win-lose\n",
        "\n",
        "        print(\"Epoch {:03d}/{:03d} | Loss {:.4f} | Win/lose count {:.2f}/{:.2f} ({:.2f})\"\n",
        "              .format(e+1, epoch, loss, win, lose, win-lose))\n",
        "        agent.save(name_weights=prefix+'model.h5',name_model=prefix+'model.json')"
      ],
      "execution_count": 0,
      "outputs": []
    },
    {
      "metadata": {
        "id": "rWGrCHtC7q2O",
        "colab_type": "text"
      },
      "cell_type": "markdown",
      "source": [
        "***\n",
        "__Question 7__ Implement the DQN training algorithm using a cascade of fully connected layers. You can use different learning rate, batch size or memory size parameters. In particular, the loss might oscillate while the player will start to win the games. You have to find a good criterium."
      ]
    },
    {
      "metadata": {
        "id": "weFNuzrt7q2O",
        "colab_type": "code",
        "colab": {}
      },
      "cell_type": "code",
      "source": [
        "class DQN(Agent):\n",
        "    def __init__(self, grid_size,  epsilon = 0.1, memory_size=100, batch_size = 16,n_state=2):\n",
        "        super(DQN, self).__init__(epsilon = epsilon)\n",
        "\n",
        "        # Discount for Q learning\n",
        "        self.discount = 0.99\n",
        "        \n",
        "        self.grid_size = grid_size\n",
        "        \n",
        "        # number of state\n",
        "        self.n_state = n_state\n",
        "\n",
        "        # Memory\n",
        "        self.memory = Memory(memory_size)\n",
        "        \n",
        "        # Batch size when learning\n",
        "        self.batch_size = batch_size\n",
        "\n",
        "    def learned_act(self, s):\n",
        "      #Returns an action based on the greedy policy with respect to the learned Q-function\n",
        "        predicted_q = (self.model.predict(s[None,:]))[0]\n",
        "        max_action = np.argmax(predicted_q)\n",
        "        return max_action\n",
        "\n",
        "    def reinforce(self, s_, n_s_, a_, r_, game_over_):\n",
        "        # Two steps: first memorize the states, second learn from the pool\n",
        "        \n",
        "        self.memory.remember([s_, n_s_, a_, r_, game_over_])\n",
        "        \n",
        "        input_states = np.zeros((self.batch_size, 5,5,self.n_state))\n",
        "        target_q = np.zeros((self.batch_size, 4))\n",
        "        \n",
        "        for i in range(self.batch_size):\n",
        "            \n",
        "            s, n_s, a, r, game_over = self.memory.random_access()\n",
        "            target_q[i] = self.model.predict(s[None,:])\n",
        "            predicted_q = self.model.predict(n_s[None,:])[0]\n",
        "            \n",
        "            # Replace the value of the q-function only for the action played\n",
        "            # and set the value of the other actions to the value predicted by the network at the previous\n",
        "          \n",
        "            if game_over:\n",
        "                \n",
        "                target_q[i][a] = r\n",
        "                \n",
        "            else:\n",
        "                \n",
        "                target_q[i][a] = r + self.discount*max(predicted_q)\n",
        "            \n",
        "            \n",
        "            input_states[i,:] = s \n",
        "                \n",
        "        \n",
        "        # HINT: Clip the target to avoid exploiding gradients.. -- clipping is a bit tighter\n",
        "        target_q = np.clip(target_q, -2, 2)\n",
        "\n",
        "        l = self.model.train_on_batch(input_states, target_q)\n",
        "\n",
        "        return l\n",
        "\n",
        "    def save(self,name_weights='model.h5',name_model='model.json'):\n",
        "        self.model.save_weights(name_weights, overwrite=True)\n",
        "        with open(name_model, \"w\") as outfile:\n",
        "            json.dump(self.model.to_json(), outfile)\n",
        "            \n",
        "    def load(self,name_weights='model.h5',name_model='model.json'):\n",
        "        with open(name_model, \"r\") as jfile:\n",
        "            model = model_from_json(json.load(jfile))\n",
        "        model.load_weights(name_weights)\n",
        "        model.compile(\"sgd\", \"mse\")\n",
        "        self.model = model\n",
        "\n",
        "            \n",
        "class DQN_FC(DQN):\n",
        "    def __init__(self, *args, lr=0.1,**kwargs):\n",
        "        super(DQN_FC, self).__init__( *args,**kwargs)\n",
        "                \n",
        "        # NN Model\n",
        "       \n",
        "        model = Sequential()\n",
        "        model.add(Flatten(input_shape = (5,5,self.n_state)))\n",
        "        model.add(Dense(32,activation  = 'relu'))\n",
        "        model.add(Dense(4,activation = 'linear'))\n",
        "        \n",
        "        model.compile(sgd(lr=lr, decay=1e-7, momentum=0), \"mse\")\n",
        "        self.model = model\n",
        "        "
      ],
      "execution_count": 0,
      "outputs": []
    },
    {
      "metadata": {
        "id": "IIrDWKgw7q2Q",
        "colab_type": "code",
        "outputId": "74730d30-80e1-4e40-d14c-7c9106133da5",
        "colab": {
          "base_uri": "https://localhost:8080/",
          "height": 3774
        }
      },
      "cell_type": "code",
      "source": [
        "env = Environment(grid_size=size, max_time=T, temperature=0.3)\n",
        "agent = DQN_FC(size, lr=.11, epsilon = 0.1, memory_size=200, batch_size = 32)\n",
        "train(agent, env, epochs_train, prefix='fc_train')\n",
        "HTML(display_videos('fc_train90.mp4'))"
      ],
      "execution_count": 0,
      "outputs": [
        {
          "output_type": "stream",
          "text": [
            "WARNING:tensorflow:From /usr/local/lib/python3.6/dist-packages/tensorflow/python/framework/op_def_library.py:263: colocate_with (from tensorflow.python.framework.ops) is deprecated and will be removed in a future version.\n",
            "Instructions for updating:\n",
            "Colocations handled automatically by placer.\n",
            "WARNING:tensorflow:From /usr/local/lib/python3.6/dist-packages/tensorflow/python/ops/math_ops.py:3066: to_int32 (from tensorflow.python.ops.math_ops) is deprecated and will be removed in a future version.\n",
            "Instructions for updating:\n",
            "Use tf.cast instead.\n",
            "Epoch 001/200 | Loss 0.0067 | Win/lose count 5.00/5.00 (0.00)\n",
            "Epoch 002/200 | Loss 0.0023 | Win/lose count 2.00/2.00 (0.00)\n",
            "Epoch 003/200 | Loss 0.0116 | Win/lose count 5.00/2.00 (3.00)\n",
            "Epoch 004/200 | Loss 0.0050 | Win/lose count 0.50/1.00 (-0.50)\n",
            "Epoch 005/200 | Loss 0.0076 | Win/lose count 1.00/2.00 (-1.00)\n",
            "Epoch 006/200 | Loss 0.0032 | Win/lose count 4.50/1.00 (3.50)\n",
            "Epoch 007/200 | Loss 0.0272 | Win/lose count 1.50/3.00 (-1.50)\n",
            "Epoch 008/200 | Loss 0.0019 | Win/lose count 2.50/2.00 (0.50)\n",
            "Epoch 009/200 | Loss 0.0002 | Win/lose count 2.50/2.00 (0.50)\n",
            "Epoch 010/200 | Loss 0.0427 | Win/lose count 6.50/2.00 (4.50)\n",
            "Epoch 011/200 | Loss 0.0023 | Win/lose count 3.00/2.00 (1.00)\n",
            "Epoch 012/200 | Loss 0.0016 | Win/lose count 2.50/1.00 (1.50)\n",
            "Epoch 013/200 | Loss 0.0103 | Win/lose count 5.50/3.00 (2.50)\n",
            "Epoch 014/200 | Loss 0.0024 | Win/lose count 2.00/4.00 (-2.00)\n",
            "Epoch 015/200 | Loss 0.0010 | Win/lose count 3.00/0.00 (3.00)\n",
            "Epoch 016/200 | Loss 0.0161 | Win/lose count 10.00/3.00 (7.00)\n",
            "Epoch 017/200 | Loss 0.0026 | Win/lose count 12.50/4.00 (8.50)\n",
            "Epoch 018/200 | Loss 0.0041 | Win/lose count 7.00/7.00 (0.00)\n",
            "Epoch 019/200 | Loss 0.0008 | Win/lose count 4.50/2.00 (2.50)\n",
            "Epoch 020/200 | Loss 0.0310 | Win/lose count 11.00/4.00 (7.00)\n",
            "Epoch 021/200 | Loss 0.0029 | Win/lose count 8.50/0.00 (8.50)\n",
            "Epoch 022/200 | Loss 0.0025 | Win/lose count 3.50/4.00 (-0.50)\n",
            "Epoch 023/200 | Loss 0.0021 | Win/lose count 9.00/2.00 (7.00)\n",
            "Epoch 024/200 | Loss 0.0333 | Win/lose count 9.50/3.00 (6.50)\n",
            "Epoch 025/200 | Loss 0.0014 | Win/lose count 11.50/3.00 (8.50)\n",
            "Epoch 026/200 | Loss 0.0058 | Win/lose count 7.50/2.00 (5.50)\n",
            "Epoch 027/200 | Loss 0.0240 | Win/lose count 3.50/2.00 (1.50)\n",
            "Epoch 028/200 | Loss 0.0030 | Win/lose count 7.00/3.00 (4.00)\n",
            "Epoch 029/200 | Loss 0.0022 | Win/lose count 13.00/5.00 (8.00)\n",
            "Epoch 030/200 | Loss 0.0162 | Win/lose count 4.00/4.00 (0.00)\n",
            "Epoch 031/200 | Loss 0.0036 | Win/lose count 2.00/4.00 (-2.00)\n",
            "Epoch 032/200 | Loss 0.0019 | Win/lose count 6.50/2.00 (4.50)\n",
            "Epoch 033/200 | Loss 0.0059 | Win/lose count 7.00/4.00 (3.00)\n",
            "Epoch 034/200 | Loss 0.0022 | Win/lose count 4.00/3.00 (1.00)\n",
            "Epoch 035/200 | Loss 0.0017 | Win/lose count 5.00/1.00 (4.00)\n",
            "Epoch 036/200 | Loss 0.0021 | Win/lose count 7.50/6.00 (1.50)\n",
            "Epoch 037/200 | Loss 0.0022 | Win/lose count 11.50/2.00 (9.50)\n",
            "Epoch 038/200 | Loss 0.0033 | Win/lose count 11.50/1.00 (10.50)\n",
            "Epoch 039/200 | Loss 0.0011 | Win/lose count 15.00/1.00 (14.00)\n",
            "Epoch 040/200 | Loss 0.0010 | Win/lose count 4.50/0.00 (4.50)\n",
            "Epoch 041/200 | Loss 0.0032 | Win/lose count 12.00/2.00 (10.00)\n",
            "Epoch 042/200 | Loss 0.0262 | Win/lose count 15.00/4.00 (11.00)\n",
            "Epoch 043/200 | Loss 0.0033 | Win/lose count 14.00/7.00 (7.00)\n",
            "Epoch 044/200 | Loss 0.0024 | Win/lose count 5.50/1.00 (4.50)\n",
            "Epoch 045/200 | Loss 0.0007 | Win/lose count 8.00/3.00 (5.00)\n",
            "Epoch 046/200 | Loss 0.0035 | Win/lose count 5.50/5.00 (0.50)\n",
            "Epoch 047/200 | Loss 0.0047 | Win/lose count 2.50/4.00 (-1.50)\n",
            "Epoch 048/200 | Loss 0.0250 | Win/lose count 12.50/5.00 (7.50)\n",
            "Epoch 049/200 | Loss 0.0008 | Win/lose count 3.50/3.00 (0.50)\n",
            "Epoch 050/200 | Loss 0.0004 | Win/lose count 1.00/0.00 (1.00)\n",
            "Epoch 051/200 | Loss 0.0019 | Win/lose count 6.50/3.00 (3.50)\n",
            "Epoch 052/200 | Loss 0.0005 | Win/lose count 7.00/1.00 (6.00)\n",
            "Epoch 053/200 | Loss 0.0005 | Win/lose count 5.00/1.00 (4.00)\n",
            "Epoch 054/200 | Loss 0.0242 | Win/lose count 6.00/1.00 (5.00)\n",
            "Epoch 055/200 | Loss 0.0091 | Win/lose count 8.00/2.00 (6.00)\n",
            "Epoch 056/200 | Loss 0.0029 | Win/lose count 13.50/2.00 (11.50)\n",
            "Epoch 057/200 | Loss 0.0017 | Win/lose count 13.50/3.00 (10.50)\n",
            "Epoch 058/200 | Loss 0.0032 | Win/lose count 4.00/4.00 (0.00)\n",
            "Epoch 059/200 | Loss 0.0025 | Win/lose count 12.00/3.00 (9.00)\n",
            "Epoch 060/200 | Loss 0.0015 | Win/lose count 9.00/3.00 (6.00)\n",
            "Epoch 061/200 | Loss 0.0010 | Win/lose count 11.00/0.00 (11.00)\n",
            "Epoch 062/200 | Loss 0.0015 | Win/lose count 7.00/3.00 (4.00)\n",
            "Epoch 063/200 | Loss 0.0222 | Win/lose count 12.50/2.00 (10.50)\n",
            "Epoch 064/200 | Loss 0.0010 | Win/lose count 9.50/1.00 (8.50)\n",
            "Epoch 065/200 | Loss 0.0006 | Win/lose count 6.00/2.00 (4.00)\n",
            "Epoch 066/200 | Loss 0.0355 | Win/lose count 17.00/5.00 (12.00)\n",
            "Epoch 067/200 | Loss 0.0006 | Win/lose count 11.00/4.00 (7.00)\n",
            "Epoch 068/200 | Loss 0.0237 | Win/lose count 7.50/3.00 (4.50)\n",
            "Epoch 069/200 | Loss 0.0012 | Win/lose count 13.00/4.00 (9.00)\n",
            "Epoch 070/200 | Loss 0.0024 | Win/lose count 10.50/2.00 (8.50)\n",
            "Epoch 071/200 | Loss 0.0013 | Win/lose count 7.00/4.00 (3.00)\n",
            "Epoch 072/200 | Loss 0.0020 | Win/lose count 10.00/3.00 (7.00)\n",
            "Epoch 073/200 | Loss 0.0010 | Win/lose count 10.00/3.00 (7.00)\n",
            "Epoch 074/200 | Loss 0.0245 | Win/lose count 8.00/1.00 (7.00)\n",
            "Epoch 075/200 | Loss 0.0010 | Win/lose count 14.00/0.00 (14.00)\n",
            "Epoch 076/200 | Loss 0.0012 | Win/lose count 11.50/3.00 (8.50)\n",
            "Epoch 077/200 | Loss 0.0035 | Win/lose count 8.50/2.00 (6.50)\n",
            "Epoch 078/200 | Loss 0.0018 | Win/lose count 8.50/2.00 (6.50)\n",
            "Epoch 079/200 | Loss 0.0016 | Win/lose count 10.00/1.00 (9.00)\n",
            "Epoch 080/200 | Loss 0.0018 | Win/lose count 6.50/5.00 (1.50)\n",
            "Epoch 081/200 | Loss 0.0026 | Win/lose count 8.50/3.00 (5.50)\n",
            "Epoch 082/200 | Loss 0.0011 | Win/lose count 15.00/1.00 (14.00)\n",
            "Epoch 083/200 | Loss 0.0018 | Win/lose count 8.50/1.00 (7.50)\n",
            "Epoch 084/200 | Loss 0.0023 | Win/lose count 11.00/2.00 (9.00)\n",
            "Epoch 085/200 | Loss 0.0049 | Win/lose count 15.00/2.00 (13.00)\n",
            "Epoch 086/200 | Loss 0.0011 | Win/lose count 15.50/2.00 (13.50)\n",
            "Epoch 087/200 | Loss 0.0017 | Win/lose count 11.50/2.00 (9.50)\n",
            "Epoch 088/200 | Loss 0.0006 | Win/lose count 9.50/1.00 (8.50)\n",
            "Epoch 089/200 | Loss 0.0011 | Win/lose count 14.50/2.00 (12.50)\n",
            "Epoch 090/200 | Loss 0.0007 | Win/lose count 6.00/6.00 (0.00)\n",
            "Epoch 091/200 | Loss 0.0026 | Win/lose count 13.00/3.00 (10.00)\n",
            "Epoch 092/200 | Loss 0.0021 | Win/lose count 12.50/2.00 (10.50)\n",
            "Epoch 093/200 | Loss 0.0011 | Win/lose count 8.00/3.00 (5.00)\n",
            "Epoch 094/200 | Loss 0.0016 | Win/lose count 12.00/2.00 (10.00)\n",
            "Epoch 095/200 | Loss 0.0015 | Win/lose count 10.00/2.00 (8.00)\n",
            "Epoch 096/200 | Loss 0.0086 | Win/lose count 20.50/5.00 (15.50)\n",
            "Epoch 097/200 | Loss 0.0021 | Win/lose count 4.00/6.00 (-2.00)\n",
            "Epoch 098/200 | Loss 0.0004 | Win/lose count 3.00/1.00 (2.00)\n",
            "Epoch 099/200 | Loss 0.0015 | Win/lose count 6.50/0.00 (6.50)\n",
            "Epoch 100/200 | Loss 0.0014 | Win/lose count 5.50/3.00 (2.50)\n",
            "Epoch 101/200 | Loss 0.0026 | Win/lose count 17.00/4.00 (13.00)\n",
            "Epoch 102/200 | Loss 0.0004 | Win/lose count 6.50/3.00 (3.50)\n",
            "Epoch 103/200 | Loss 0.0015 | Win/lose count 15.50/2.00 (13.50)\n",
            "Epoch 104/200 | Loss 0.0031 | Win/lose count 3.00/1.00 (2.00)\n",
            "Epoch 105/200 | Loss 0.0021 | Win/lose count 12.00/1.00 (11.00)\n",
            "Epoch 106/200 | Loss 0.0028 | Win/lose count 14.50/7.00 (7.50)\n",
            "Epoch 107/200 | Loss 0.0040 | Win/lose count 13.00/7.00 (6.00)\n",
            "Epoch 108/200 | Loss 0.0003 | Win/lose count 12.00/1.00 (11.00)\n",
            "Epoch 109/200 | Loss 0.0013 | Win/lose count 10.00/3.00 (7.00)\n",
            "Epoch 110/200 | Loss 0.0008 | Win/lose count 7.00/2.00 (5.00)\n",
            "Epoch 111/200 | Loss 0.0255 | Win/lose count 17.00/3.00 (14.00)\n",
            "Epoch 112/200 | Loss 0.0006 | Win/lose count 8.50/1.00 (7.50)\n",
            "Epoch 113/200 | Loss 0.0012 | Win/lose count 11.50/3.00 (8.50)\n",
            "Epoch 114/200 | Loss 0.0011 | Win/lose count 9.00/1.00 (8.00)\n",
            "Epoch 115/200 | Loss 0.0015 | Win/lose count 3.00/2.00 (1.00)\n",
            "Epoch 116/200 | Loss 0.0261 | Win/lose count 8.00/3.00 (5.00)\n",
            "Epoch 117/200 | Loss 0.0008 | Win/lose count 6.00/2.00 (4.00)\n",
            "Epoch 118/200 | Loss 0.0020 | Win/lose count 12.50/3.00 (9.50)\n",
            "Epoch 119/200 | Loss 0.0007 | Win/lose count 9.50/4.00 (5.50)\n",
            "Epoch 120/200 | Loss 0.0204 | Win/lose count 8.50/0.00 (8.50)\n",
            "Epoch 121/200 | Loss 0.0270 | Win/lose count 10.00/1.00 (9.00)\n",
            "Epoch 122/200 | Loss 0.0006 | Win/lose count 3.50/1.00 (2.50)\n",
            "Epoch 123/200 | Loss 0.0003 | Win/lose count 2.50/0.00 (2.50)\n",
            "Epoch 124/200 | Loss 0.0232 | Win/lose count 10.50/2.00 (8.50)\n",
            "Epoch 125/200 | Loss 0.0015 | Win/lose count 17.50/1.00 (16.50)\n",
            "Epoch 126/200 | Loss 0.0242 | Win/lose count 9.50/1.00 (8.50)\n",
            "Epoch 127/200 | Loss 0.0004 | Win/lose count 3.00/0.00 (3.00)\n",
            "Epoch 128/200 | Loss 0.0015 | Win/lose count 7.50/2.00 (5.50)\n",
            "Epoch 129/200 | Loss 0.0075 | Win/lose count 6.50/4.00 (2.50)\n",
            "Epoch 130/200 | Loss 0.0008 | Win/lose count 3.00/3.00 (0.00)\n",
            "Epoch 131/200 | Loss 0.0253 | Win/lose count 6.00/7.00 (-1.00)\n",
            "Epoch 132/200 | Loss 0.0018 | Win/lose count 16.00/4.00 (12.00)\n",
            "Epoch 133/200 | Loss 0.0004 | Win/lose count 3.00/0.00 (3.00)\n",
            "Epoch 134/200 | Loss 0.0024 | Win/lose count 17.50/3.00 (14.50)\n",
            "Epoch 135/200 | Loss 0.0013 | Win/lose count 5.00/4.00 (1.00)\n",
            "Epoch 136/200 | Loss 0.0006 | Win/lose count 8.50/1.00 (7.50)\n",
            "Epoch 137/200 | Loss 0.0004 | Win/lose count 7.00/3.00 (4.00)\n",
            "Epoch 138/200 | Loss 0.0013 | Win/lose count 9.00/1.00 (8.00)\n",
            "Epoch 139/200 | Loss 0.0006 | Win/lose count 4.00/1.00 (3.00)\n",
            "Epoch 140/200 | Loss 0.0182 | Win/lose count 17.00/1.00 (16.00)\n",
            "Epoch 141/200 | Loss 0.0251 | Win/lose count 14.50/5.00 (9.50)\n",
            "Epoch 142/200 | Loss 0.0009 | Win/lose count 6.50/2.00 (4.50)\n",
            "Epoch 143/200 | Loss 0.0316 | Win/lose count 8.50/4.00 (4.50)\n",
            "Epoch 144/200 | Loss 0.0016 | Win/lose count 5.00/1.00 (4.00)\n",
            "Epoch 145/200 | Loss 0.0262 | Win/lose count 13.50/4.00 (9.50)\n",
            "Epoch 146/200 | Loss 0.0030 | Win/lose count 8.50/4.00 (4.50)\n",
            "Epoch 147/200 | Loss 0.0011 | Win/lose count 14.00/1.00 (13.00)\n",
            "Epoch 148/200 | Loss 0.0012 | Win/lose count 17.50/8.00 (9.50)\n",
            "Epoch 149/200 | Loss 0.0492 | Win/lose count 12.50/4.00 (8.50)\n",
            "Epoch 150/200 | Loss 0.0490 | Win/lose count 16.50/3.00 (13.50)\n",
            "Epoch 151/200 | Loss 0.0013 | Win/lose count 13.00/3.00 (10.00)\n",
            "Epoch 152/200 | Loss 0.0007 | Win/lose count 8.50/1.00 (7.50)\n",
            "Epoch 153/200 | Loss 0.0013 | Win/lose count 16.00/1.00 (15.00)\n",
            "Epoch 154/200 | Loss 0.0007 | Win/lose count 6.00/4.00 (2.00)\n",
            "Epoch 155/200 | Loss 0.0257 | Win/lose count 14.50/2.00 (12.50)\n",
            "Epoch 156/200 | Loss 0.0018 | Win/lose count 12.00/1.00 (11.00)\n",
            "Epoch 157/200 | Loss 0.0251 | Win/lose count 11.00/2.00 (9.00)\n",
            "Epoch 158/200 | Loss 0.0015 | Win/lose count 6.50/2.00 (4.50)\n",
            "Epoch 159/200 | Loss 0.0034 | Win/lose count 13.00/3.00 (10.00)\n",
            "Epoch 160/200 | Loss 0.0038 | Win/lose count 16.50/3.00 (13.50)\n",
            "Epoch 161/200 | Loss 0.0059 | Win/lose count 11.00/0.00 (11.00)\n",
            "Epoch 162/200 | Loss 0.0017 | Win/lose count 12.50/4.00 (8.50)\n",
            "Epoch 163/200 | Loss 0.0278 | Win/lose count 9.50/2.00 (7.50)\n",
            "Epoch 164/200 | Loss 0.0012 | Win/lose count 12.50/4.00 (8.50)\n",
            "Epoch 165/200 | Loss 0.0238 | Win/lose count 8.50/1.00 (7.50)\n",
            "Epoch 166/200 | Loss 0.0011 | Win/lose count 12.50/3.00 (9.50)\n",
            "Epoch 167/200 | Loss 0.0263 | Win/lose count 11.00/2.00 (9.00)\n",
            "Epoch 168/200 | Loss 0.0241 | Win/lose count 6.50/2.00 (4.50)\n",
            "Epoch 169/200 | Loss 0.0008 | Win/lose count 8.00/4.00 (4.00)\n",
            "Epoch 170/200 | Loss 0.0014 | Win/lose count 7.50/3.00 (4.50)\n",
            "Epoch 171/200 | Loss 0.0015 | Win/lose count 5.50/2.00 (3.50)\n",
            "Epoch 172/200 | Loss 0.0233 | Win/lose count 3.00/0.00 (3.00)\n",
            "Epoch 173/200 | Loss 0.0019 | Win/lose count 15.00/4.00 (11.00)\n",
            "Epoch 174/200 | Loss 0.0020 | Win/lose count 15.50/2.00 (13.50)\n",
            "Epoch 175/200 | Loss 0.0010 | Win/lose count 19.50/4.00 (15.50)\n",
            "Epoch 176/200 | Loss 0.0010 | Win/lose count 16.50/2.00 (14.50)\n",
            "Epoch 177/200 | Loss 0.0014 | Win/lose count 10.00/4.00 (6.00)\n",
            "Epoch 178/200 | Loss 0.0021 | Win/lose count 8.50/2.00 (6.50)\n",
            "Epoch 179/200 | Loss 0.0016 | Win/lose count 13.00/5.00 (8.00)\n",
            "Epoch 180/200 | Loss 0.0007 | Win/lose count 20.50/3.00 (17.50)\n",
            "Epoch 181/200 | Loss 0.0014 | Win/lose count 6.00/1.00 (5.00)\n",
            "Epoch 182/200 | Loss 0.0278 | Win/lose count 13.50/3.00 (10.50)\n",
            "Epoch 183/200 | Loss 0.0013 | Win/lose count 3.00/2.00 (1.00)\n",
            "Epoch 184/200 | Loss 0.0012 | Win/lose count 10.50/6.00 (4.50)\n",
            "Epoch 185/200 | Loss 0.0018 | Win/lose count 8.50/2.00 (6.50)\n",
            "Epoch 186/200 | Loss 0.0013 | Win/lose count 11.50/4.00 (7.50)\n",
            "Epoch 187/200 | Loss 0.0018 | Win/lose count 15.50/4.00 (11.50)\n",
            "Epoch 188/200 | Loss 0.0275 | Win/lose count 15.50/2.00 (13.50)\n",
            "Epoch 189/200 | Loss 0.0014 | Win/lose count 20.50/5.00 (15.50)\n",
            "Epoch 190/200 | Loss 0.0016 | Win/lose count 15.00/2.00 (13.00)\n",
            "Epoch 191/200 | Loss 0.0033 | Win/lose count 11.00/3.00 (8.00)\n",
            "Epoch 192/200 | Loss 0.0013 | Win/lose count 11.50/2.00 (9.50)\n",
            "Epoch 193/200 | Loss 0.0009 | Win/lose count 6.00/1.00 (5.00)\n",
            "Epoch 194/200 | Loss 0.0259 | Win/lose count 8.00/3.00 (5.00)\n",
            "Epoch 195/200 | Loss 0.0222 | Win/lose count 12.50/0.00 (12.50)\n",
            "Epoch 196/200 | Loss 0.0010 | Win/lose count 8.00/2.00 (6.00)\n",
            "Epoch 197/200 | Loss 0.0255 | Win/lose count 17.00/2.00 (15.00)\n",
            "Epoch 198/200 | Loss 0.0006 | Win/lose count 13.50/3.00 (10.50)\n",
            "Epoch 199/200 | Loss 0.0016 | Win/lose count 17.50/4.00 (13.50)\n",
            "Epoch 200/200 | Loss 0.0005 | Win/lose count 14.00/4.00 (10.00)\n"
          ],
          "name": "stdout"
        },
        {
          "output_type": "execute_result",
          "data": {
            "text/html": [
              "<video alt=\"test\" controls>\n",
              "                <source src=\"data:video/mp4;base64,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\" type=\"video/mp4\" />\n",
              "             </video>"
            ],
            "text/plain": [
              "<IPython.core.display.HTML object>"
            ]
          },
          "metadata": {
            "tags": []
          },
          "execution_count": 14
        }
      ]
    },
    {
      "metadata": {
        "id": "NeDG_2JJ7q2S",
        "colab_type": "text"
      },
      "cell_type": "markdown",
      "source": [
        "***\n",
        "***\n",
        "__Question 8__ Implement the DQN training algorithm using a CNN (for example, 2 convolutional layers and one final fully connected layer)."
      ]
    },
    {
      "metadata": {
        "id": "8ivZibSL7q2S",
        "colab_type": "code",
        "colab": {}
      },
      "cell_type": "code",
      "source": [
        "class DQN_CNN(DQN):\n",
        "    def __init__(self, *args,lr=0.1,**kwargs):\n",
        "        super(DQN_CNN, self).__init__(*args,**kwargs)\n",
        "        \n",
        "        model = Sequential()\n",
        "        model.add(Conv2D(32,kernel_size = (2,2), activation = 'relu',input_shape = (5,5,self.n_state)))\n",
        "        model.add(Conv2D(32,kernel_size = (2,2), activation = 'relu'))\n",
        "        model.add(Dropout(0.1))\n",
        "        model.add(Flatten())\n",
        "        model.add(Dense(32,activation = 'relu'))\n",
        "        model.add(Dense(4,activation = 'linear'))\n",
        "        \n",
        "        model.compile(sgd(lr=lr, decay=1e-7, momentum=0), \"mse\")\n",
        "        self.model = model"
      ],
      "execution_count": 0,
      "outputs": []
    },
    {
      "metadata": {
        "id": "U6tw18CB7q2U",
        "colab_type": "code",
        "outputId": "ce257fd4-4809-4ee4-cc9a-e03ab4ac69eb",
        "colab": {
          "base_uri": "https://localhost:8080/",
          "height": 3653
        }
      },
      "cell_type": "code",
      "source": [
        "env = Environment(grid_size=size, max_time=T, temperature=0.3)\n",
        "agent = DQN_CNN(size, lr=.1, epsilon = 0.1, memory_size=200, batch_size = 32)\n",
        "train(agent,env,epochs_train,prefix='cnn_train')\n",
        "HTML(display_videos('cnn_train99.mp4'))"
      ],
      "execution_count": 29,
      "outputs": [
        {
          "output_type": "stream",
          "text": [
            "Epoch 001/200 | Loss 0.0052 | Win/lose count 2.50/3.00 (-0.50)\n",
            "Epoch 002/200 | Loss 0.0043 | Win/lose count 7.00/5.00 (2.00)\n",
            "Epoch 003/200 | Loss 0.0033 | Win/lose count 3.00/1.00 (2.00)\n",
            "Epoch 004/200 | Loss 0.0005 | Win/lose count 4.00/7.00 (-3.00)\n",
            "Epoch 005/200 | Loss 0.0017 | Win/lose count 2.00/2.00 (0.00)\n",
            "Epoch 006/200 | Loss 0.0121 | Win/lose count 6.50/8.00 (-1.50)\n",
            "Epoch 007/200 | Loss 0.0144 | Win/lose count 1.00/4.00 (-3.00)\n",
            "Epoch 008/200 | Loss 0.0072 | Win/lose count 2.00/2.00 (0.00)\n",
            "Epoch 009/200 | Loss 0.0031 | Win/lose count 5.00/6.00 (-1.00)\n",
            "Epoch 010/200 | Loss 0.0010 | Win/lose count 4.50/2.00 (2.50)\n",
            "Epoch 011/200 | Loss 0.0010 | Win/lose count 4.50/5.00 (-0.50)\n",
            "Epoch 012/200 | Loss 0.0177 | Win/lose count 5.50/4.00 (1.50)\n",
            "Epoch 013/200 | Loss 0.0119 | Win/lose count 4.00/4.00 (0.00)\n",
            "Epoch 014/200 | Loss 0.0016 | Win/lose count 6.50/3.00 (3.50)\n",
            "Epoch 015/200 | Loss 0.0039 | Win/lose count 12.50/6.00 (6.50)\n",
            "Epoch 016/200 | Loss 0.0124 | Win/lose count 8.50/5.00 (3.50)\n",
            "Epoch 017/200 | Loss 0.0051 | Win/lose count 5.50/1.00 (4.50)\n",
            "Epoch 018/200 | Loss 0.0031 | Win/lose count 7.00/2.00 (5.00)\n",
            "Epoch 019/200 | Loss 0.0034 | Win/lose count 8.00/4.00 (4.00)\n",
            "Epoch 020/200 | Loss 0.0130 | Win/lose count 5.00/8.00 (-3.00)\n",
            "Epoch 021/200 | Loss 0.0099 | Win/lose count 10.50/4.00 (6.50)\n",
            "Epoch 022/200 | Loss 0.0099 | Win/lose count 5.50/3.00 (2.50)\n",
            "Epoch 023/200 | Loss 0.0035 | Win/lose count 4.00/3.00 (1.00)\n",
            "Epoch 024/200 | Loss 0.0018 | Win/lose count 5.00/3.00 (2.00)\n",
            "Epoch 025/200 | Loss 0.0112 | Win/lose count 15.00/2.00 (13.00)\n",
            "Epoch 026/200 | Loss 0.0128 | Win/lose count 8.00/7.00 (1.00)\n",
            "Epoch 027/200 | Loss 0.0303 | Win/lose count 6.00/5.00 (1.00)\n",
            "Epoch 028/200 | Loss 0.0041 | Win/lose count 16.00/3.00 (13.00)\n",
            "Epoch 029/200 | Loss 0.0022 | Win/lose count 16.50/5.00 (11.50)\n",
            "Epoch 030/200 | Loss 0.0015 | Win/lose count 4.50/5.00 (-0.50)\n",
            "Epoch 031/200 | Loss 0.0024 | Win/lose count 8.00/1.00 (7.00)\n",
            "Epoch 032/200 | Loss 0.0020 | Win/lose count 12.50/2.00 (10.50)\n",
            "Epoch 033/200 | Loss 0.0020 | Win/lose count 12.00/3.00 (9.00)\n",
            "Epoch 034/200 | Loss 0.0013 | Win/lose count 3.00/0.00 (3.00)\n",
            "Epoch 035/200 | Loss 0.0019 | Win/lose count 14.50/3.00 (11.50)\n",
            "Epoch 036/200 | Loss 0.0057 | Win/lose count 11.00/2.00 (9.00)\n",
            "Epoch 037/200 | Loss 0.0066 | Win/lose count 6.50/3.00 (3.50)\n",
            "Epoch 038/200 | Loss 0.0035 | Win/lose count 18.00/3.00 (15.00)\n",
            "Epoch 039/200 | Loss 0.0093 | Win/lose count 12.00/3.00 (9.00)\n",
            "Epoch 040/200 | Loss 0.0031 | Win/lose count 10.50/3.00 (7.50)\n",
            "Epoch 041/200 | Loss 0.0229 | Win/lose count 9.00/4.00 (5.00)\n",
            "Epoch 042/200 | Loss 0.0015 | Win/lose count 7.50/1.00 (6.50)\n",
            "Epoch 043/200 | Loss 0.0013 | Win/lose count 7.50/3.00 (4.50)\n",
            "Epoch 044/200 | Loss 0.0013 | Win/lose count 12.00/1.00 (11.00)\n",
            "Epoch 045/200 | Loss 0.0029 | Win/lose count 18.00/2.00 (16.00)\n",
            "Epoch 046/200 | Loss 0.0064 | Win/lose count 12.00/3.00 (9.00)\n",
            "Epoch 047/200 | Loss 0.0069 | Win/lose count 13.50/3.00 (10.50)\n",
            "Epoch 048/200 | Loss 0.0025 | Win/lose count 22.00/1.00 (21.00)\n",
            "Epoch 049/200 | Loss 0.0024 | Win/lose count 12.00/4.00 (8.00)\n",
            "Epoch 050/200 | Loss 0.0027 | Win/lose count 9.50/1.00 (8.50)\n",
            "Epoch 051/200 | Loss 0.0018 | Win/lose count 9.50/2.00 (7.50)\n",
            "Epoch 052/200 | Loss 0.0051 | Win/lose count 12.50/3.00 (9.50)\n",
            "Epoch 053/200 | Loss 0.0081 | Win/lose count 14.50/6.00 (8.50)\n",
            "Epoch 054/200 | Loss 0.0183 | Win/lose count 16.50/2.00 (14.50)\n",
            "Epoch 055/200 | Loss 0.0018 | Win/lose count 15.00/1.00 (14.00)\n",
            "Epoch 056/200 | Loss 0.0020 | Win/lose count 18.50/5.00 (13.50)\n",
            "Epoch 057/200 | Loss 0.0006 | Win/lose count 6.50/1.00 (5.50)\n",
            "Epoch 058/200 | Loss 0.0069 | Win/lose count 12.50/1.00 (11.50)\n",
            "Epoch 059/200 | Loss 0.0008 | Win/lose count 9.50/1.00 (8.50)\n",
            "Epoch 060/200 | Loss 0.0024 | Win/lose count 17.50/3.00 (14.50)\n",
            "Epoch 061/200 | Loss 0.0011 | Win/lose count 11.50/0.00 (11.50)\n",
            "Epoch 062/200 | Loss 0.0249 | Win/lose count 20.00/4.00 (16.00)\n",
            "Epoch 063/200 | Loss 0.0060 | Win/lose count 9.50/1.00 (8.50)\n",
            "Epoch 064/200 | Loss 0.0016 | Win/lose count 20.00/3.00 (17.00)\n",
            "Epoch 065/200 | Loss 0.0060 | Win/lose count 19.50/4.00 (15.50)\n",
            "Epoch 066/200 | Loss 0.0014 | Win/lose count 7.00/2.00 (5.00)\n",
            "Epoch 067/200 | Loss 0.0031 | Win/lose count 19.50/1.00 (18.50)\n",
            "Epoch 068/200 | Loss 0.0098 | Win/lose count 18.50/4.00 (14.50)\n",
            "Epoch 069/200 | Loss 0.0016 | Win/lose count 16.00/3.00 (13.00)\n",
            "Epoch 070/200 | Loss 0.0020 | Win/lose count 15.50/5.00 (10.50)\n",
            "Epoch 071/200 | Loss 0.0029 | Win/lose count 20.50/2.00 (18.50)\n",
            "Epoch 072/200 | Loss 0.0022 | Win/lose count 16.50/5.00 (11.50)\n",
            "Epoch 073/200 | Loss 0.0027 | Win/lose count 17.00/2.00 (15.00)\n",
            "Epoch 074/200 | Loss 0.0083 | Win/lose count 18.50/6.00 (12.50)\n",
            "Epoch 075/200 | Loss 0.0255 | Win/lose count 10.50/3.00 (7.50)\n",
            "Epoch 076/200 | Loss 0.0020 | Win/lose count 9.50/4.00 (5.50)\n",
            "Epoch 077/200 | Loss 0.0035 | Win/lose count 9.50/4.00 (5.50)\n",
            "Epoch 078/200 | Loss 0.0269 | Win/lose count 21.00/1.00 (20.00)\n",
            "Epoch 079/200 | Loss 0.0010 | Win/lose count 14.50/3.00 (11.50)\n",
            "Epoch 080/200 | Loss 0.0265 | Win/lose count 15.50/4.00 (11.50)\n",
            "Epoch 081/200 | Loss 0.0015 | Win/lose count 17.00/3.00 (14.00)\n",
            "Epoch 082/200 | Loss 0.0250 | Win/lose count 12.00/0.00 (12.00)\n",
            "Epoch 083/200 | Loss 0.0028 | Win/lose count 12.50/1.00 (11.50)\n",
            "Epoch 084/200 | Loss 0.0016 | Win/lose count 12.00/3.00 (9.00)\n",
            "Epoch 085/200 | Loss 0.0040 | Win/lose count 23.00/4.00 (19.00)\n",
            "Epoch 086/200 | Loss 0.0024 | Win/lose count 9.50/3.00 (6.50)\n",
            "Epoch 087/200 | Loss 0.0020 | Win/lose count 4.50/5.00 (-0.50)\n",
            "Epoch 088/200 | Loss 0.0009 | Win/lose count 7.50/0.00 (7.50)\n",
            "Epoch 089/200 | Loss 0.0009 | Win/lose count 13.00/2.00 (11.00)\n",
            "Epoch 090/200 | Loss 0.0042 | Win/lose count 17.50/5.00 (12.50)\n",
            "Epoch 091/200 | Loss 0.0076 | Win/lose count 21.00/5.00 (16.00)\n",
            "Epoch 092/200 | Loss 0.0008 | Win/lose count 9.00/3.00 (6.00)\n",
            "Epoch 093/200 | Loss 0.0018 | Win/lose count 10.50/7.00 (3.50)\n",
            "Epoch 094/200 | Loss 0.0033 | Win/lose count 16.50/2.00 (14.50)\n",
            "Epoch 095/200 | Loss 0.0012 | Win/lose count 4.50/6.00 (-1.50)\n",
            "Epoch 096/200 | Loss 0.0019 | Win/lose count 4.50/3.00 (1.50)\n",
            "Epoch 097/200 | Loss 0.0067 | Win/lose count 21.50/3.00 (18.50)\n",
            "Epoch 098/200 | Loss 0.0021 | Win/lose count 18.00/3.00 (15.00)\n",
            "Epoch 099/200 | Loss 0.0101 | Win/lose count 20.50/6.00 (14.50)\n",
            "Epoch 100/200 | Loss 0.0046 | Win/lose count 12.00/4.00 (8.00)\n",
            "Epoch 101/200 | Loss 0.0017 | Win/lose count 21.00/3.00 (18.00)\n",
            "Epoch 102/200 | Loss 0.0022 | Win/lose count 18.50/4.00 (14.50)\n",
            "Epoch 103/200 | Loss 0.0026 | Win/lose count 15.00/2.00 (13.00)\n",
            "Epoch 104/200 | Loss 0.0011 | Win/lose count 19.00/3.00 (16.00)\n",
            "Epoch 105/200 | Loss 0.0020 | Win/lose count 15.00/1.00 (14.00)\n",
            "Epoch 106/200 | Loss 0.0102 | Win/lose count 15.50/3.00 (12.50)\n",
            "Epoch 107/200 | Loss 0.0075 | Win/lose count 5.00/4.00 (1.00)\n",
            "Epoch 108/200 | Loss 0.0221 | Win/lose count 9.50/5.00 (4.50)\n",
            "Epoch 109/200 | Loss 0.0059 | Win/lose count 17.50/5.00 (12.50)\n",
            "Epoch 110/200 | Loss 0.0023 | Win/lose count 14.00/4.00 (10.00)\n",
            "Epoch 111/200 | Loss 0.0022 | Win/lose count 6.00/3.00 (3.00)\n",
            "Epoch 112/200 | Loss 0.0067 | Win/lose count 16.00/5.00 (11.00)\n",
            "Epoch 113/200 | Loss 0.0012 | Win/lose count 7.00/1.00 (6.00)\n",
            "Epoch 114/200 | Loss 0.0030 | Win/lose count 14.00/4.00 (10.00)\n",
            "Epoch 115/200 | Loss 0.0023 | Win/lose count 19.50/4.00 (15.50)\n",
            "Epoch 116/200 | Loss 0.0021 | Win/lose count 12.50/2.00 (10.50)\n",
            "Epoch 117/200 | Loss 0.0022 | Win/lose count 17.00/2.00 (15.00)\n",
            "Epoch 118/200 | Loss 0.0253 | Win/lose count 14.50/3.00 (11.50)\n",
            "Epoch 119/200 | Loss 0.0017 | Win/lose count 16.00/2.00 (14.00)\n",
            "Epoch 120/200 | Loss 0.0246 | Win/lose count 8.00/1.00 (7.00)\n",
            "Epoch 121/200 | Loss 0.0015 | Win/lose count 17.00/2.00 (15.00)\n",
            "Epoch 122/200 | Loss 0.0023 | Win/lose count 15.50/3.00 (12.50)\n",
            "Epoch 123/200 | Loss 0.0031 | Win/lose count 21.50/5.00 (16.50)\n",
            "Epoch 124/200 | Loss 0.0035 | Win/lose count 11.50/1.00 (10.50)\n",
            "Epoch 125/200 | Loss 0.0036 | Win/lose count 25.00/2.00 (23.00)\n",
            "Epoch 126/200 | Loss 0.0023 | Win/lose count 26.50/1.00 (25.50)\n",
            "Epoch 127/200 | Loss 0.0044 | Win/lose count 13.50/2.00 (11.50)\n",
            "Epoch 128/200 | Loss 0.0024 | Win/lose count 24.00/4.00 (20.00)\n",
            "Epoch 129/200 | Loss 0.0015 | Win/lose count 7.50/3.00 (4.50)\n",
            "Epoch 130/200 | Loss 0.0038 | Win/lose count 14.50/6.00 (8.50)\n",
            "Epoch 131/200 | Loss 0.0021 | Win/lose count 9.00/1.00 (8.00)\n",
            "Epoch 132/200 | Loss 0.0064 | Win/lose count 11.50/3.00 (8.50)\n",
            "Epoch 133/200 | Loss 0.0023 | Win/lose count 15.50/3.00 (12.50)\n",
            "Epoch 134/200 | Loss 0.0043 | Win/lose count 12.50/1.00 (11.50)\n",
            "Epoch 135/200 | Loss 0.0031 | Win/lose count 24.00/3.00 (21.00)\n",
            "Epoch 136/200 | Loss 0.0010 | Win/lose count 11.50/3.00 (8.50)\n",
            "Epoch 137/200 | Loss 0.0014 | Win/lose count 8.00/3.00 (5.00)\n",
            "Epoch 138/200 | Loss 0.0014 | Win/lose count 8.00/3.00 (5.00)\n",
            "Epoch 139/200 | Loss 0.0319 | Win/lose count 14.50/1.00 (13.50)\n",
            "Epoch 140/200 | Loss 0.0051 | Win/lose count 12.50/6.00 (6.50)\n",
            "Epoch 141/200 | Loss 0.0023 | Win/lose count 15.50/1.00 (14.50)\n",
            "Epoch 142/200 | Loss 0.0010 | Win/lose count 20.50/4.00 (16.50)\n",
            "Epoch 143/200 | Loss 0.0016 | Win/lose count 9.00/0.00 (9.00)\n",
            "Epoch 144/200 | Loss 0.0013 | Win/lose count 18.00/3.00 (15.00)\n",
            "Epoch 145/200 | Loss 0.0013 | Win/lose count 13.00/2.00 (11.00)\n",
            "Epoch 146/200 | Loss 0.0012 | Win/lose count 5.00/2.00 (3.00)\n",
            "Epoch 147/200 | Loss 0.0207 | Win/lose count 9.50/2.00 (7.50)\n",
            "Epoch 148/200 | Loss 0.0039 | Win/lose count 15.50/0.00 (15.50)\n",
            "Epoch 149/200 | Loss 0.0077 | Win/lose count 12.50/5.00 (7.50)\n",
            "Epoch 150/200 | Loss 0.0020 | Win/lose count 23.00/4.00 (19.00)\n",
            "Epoch 151/200 | Loss 0.0045 | Win/lose count 15.50/4.00 (11.50)\n",
            "Epoch 152/200 | Loss 0.0045 | Win/lose count 23.50/5.00 (18.50)\n",
            "Epoch 153/200 | Loss 0.0216 | Win/lose count 20.50/4.00 (16.50)\n",
            "Epoch 154/200 | Loss 0.0019 | Win/lose count 17.00/2.00 (15.00)\n",
            "Epoch 155/200 | Loss 0.0064 | Win/lose count 5.50/1.00 (4.50)\n",
            "Epoch 156/200 | Loss 0.0023 | Win/lose count 22.00/3.00 (19.00)\n",
            "Epoch 157/200 | Loss 0.0026 | Win/lose count 25.50/4.00 (21.50)\n",
            "Epoch 158/200 | Loss 0.0040 | Win/lose count 28.00/5.00 (23.00)\n",
            "Epoch 159/200 | Loss 0.0018 | Win/lose count 17.00/6.00 (11.00)\n",
            "Epoch 160/200 | Loss 0.0013 | Win/lose count 5.50/4.00 (1.50)\n",
            "Epoch 161/200 | Loss 0.0027 | Win/lose count 15.00/5.00 (10.00)\n",
            "Epoch 162/200 | Loss 0.0031 | Win/lose count 13.50/4.00 (9.50)\n",
            "Epoch 163/200 | Loss 0.0031 | Win/lose count 19.00/6.00 (13.00)\n",
            "Epoch 164/200 | Loss 0.0022 | Win/lose count 24.00/2.00 (22.00)\n",
            "Epoch 165/200 | Loss 0.0015 | Win/lose count 16.50/3.00 (13.50)\n",
            "Epoch 166/200 | Loss 0.0016 | Win/lose count 7.50/4.00 (3.50)\n",
            "Epoch 167/200 | Loss 0.0246 | Win/lose count 14.50/1.00 (13.50)\n",
            "Epoch 168/200 | Loss 0.0230 | Win/lose count 11.50/1.00 (10.50)\n",
            "Epoch 169/200 | Loss 0.0214 | Win/lose count 15.50/2.00 (13.50)\n",
            "Epoch 170/200 | Loss 0.0017 | Win/lose count 6.50/3.00 (3.50)\n",
            "Epoch 171/200 | Loss 0.0014 | Win/lose count 18.50/0.00 (18.50)\n",
            "Epoch 172/200 | Loss 0.0240 | Win/lose count 12.00/4.00 (8.00)\n",
            "Epoch 173/200 | Loss 0.0024 | Win/lose count 22.00/2.00 (20.00)\n",
            "Epoch 174/200 | Loss 0.0017 | Win/lose count 10.50/3.00 (7.50)\n",
            "Epoch 175/200 | Loss 0.0022 | Win/lose count 19.00/4.00 (15.00)\n",
            "Epoch 176/200 | Loss 0.0233 | Win/lose count 13.00/2.00 (11.00)\n",
            "Epoch 177/200 | Loss 0.0072 | Win/lose count 11.50/4.00 (7.50)\n",
            "Epoch 178/200 | Loss 0.0246 | Win/lose count 22.00/1.00 (21.00)\n",
            "Epoch 179/200 | Loss 0.0029 | Win/lose count 25.50/3.00 (22.50)\n",
            "Epoch 180/200 | Loss 0.0048 | Win/lose count 23.00/8.00 (15.00)\n",
            "Epoch 181/200 | Loss 0.0018 | Win/lose count 10.50/2.00 (8.50)\n",
            "Epoch 182/200 | Loss 0.0029 | Win/lose count 23.50/4.00 (19.50)\n",
            "Epoch 183/200 | Loss 0.0018 | Win/lose count 11.00/2.00 (9.00)\n",
            "Epoch 184/200 | Loss 0.0013 | Win/lose count 6.00/1.00 (5.00)\n",
            "Epoch 185/200 | Loss 0.0022 | Win/lose count 19.50/6.00 (13.50)\n",
            "Epoch 186/200 | Loss 0.0012 | Win/lose count 18.50/4.00 (14.50)\n",
            "Epoch 187/200 | Loss 0.0024 | Win/lose count 27.50/5.00 (22.50)\n",
            "Epoch 188/200 | Loss 0.0033 | Win/lose count 26.50/3.00 (23.50)\n",
            "Epoch 189/200 | Loss 0.0237 | Win/lose count 25.50/1.00 (24.50)\n",
            "Epoch 190/200 | Loss 0.0017 | Win/lose count 8.50/1.00 (7.50)\n",
            "Epoch 191/200 | Loss 0.0011 | Win/lose count 8.00/3.00 (5.00)\n",
            "Epoch 192/200 | Loss 0.0014 | Win/lose count 6.00/3.00 (3.00)\n",
            "Epoch 193/200 | Loss 0.0019 | Win/lose count 18.00/2.00 (16.00)\n",
            "Epoch 194/200 | Loss 0.0028 | Win/lose count 14.50/2.00 (12.50)\n",
            "Epoch 195/200 | Loss 0.0007 | Win/lose count 10.50/1.00 (9.50)\n",
            "Epoch 196/200 | Loss 0.0020 | Win/lose count 10.00/1.00 (9.00)\n",
            "Epoch 197/200 | Loss 0.0029 | Win/lose count 13.50/2.00 (11.50)\n",
            "Epoch 198/200 | Loss 0.0020 | Win/lose count 16.50/1.00 (15.50)\n",
            "Epoch 199/200 | Loss 0.0030 | Win/lose count 6.00/5.00 (1.00)\n",
            "Epoch 200/200 | Loss 0.0040 | Win/lose count 17.00/3.00 (14.00)\n"
          ],
          "name": "stdout"
        },
        {
          "output_type": "execute_result",
          "data": {
            "text/html": [
              "<video alt=\"test\" controls>\n",
              "                <source src=\"data:video/mp4;base64,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\" type=\"video/mp4\" />\n",
              "             </video>"
            ],
            "text/plain": [
              "<IPython.core.display.HTML object>"
            ]
          },
          "metadata": {
            "tags": []
          },
          "execution_count": 29
        }
      ]
    },
    {
      "metadata": {
        "id": "7sRveaEA7q2X",
        "colab_type": "text"
      },
      "cell_type": "markdown",
      "source": [
        "***\n",
        "***\n",
        "__Question 9__ Test both algorithms and compare their performances. Which issue(s) do you observe? Observe also different behaviors by changing the temperature."
      ]
    },
    {
      "metadata": {
        "id": "X8q_-eku7q2Y",
        "colab_type": "code",
        "outputId": "d7900081-52b3-4d9f-c4f2-1e72bac6addd",
        "colab": {
          "base_uri": "https://localhost:8080/",
          "height": 756
        }
      },
      "cell_type": "code",
      "source": [
        "env = Environment(grid_size=size, max_time=T,temperature=0.3)\n",
        "agent_cnn = DQN_CNN(size, lr=.09, epsilon = 0.1, memory_size=150, batch_size = 32)\n",
        "agent_cnn.load(name_weights='cnn_trainmodel.h5',name_model='cnn_trainmodel.json')\n",
        "\n",
        "agent_fc= DQN_FC(size, lr=.11, epsilon = 0.1, memory_size=150, batch_size = 32)\n",
        "agent_fc.load(name_weights='fc_trainmodel.h5',name_model='fc_trainmodel.json')\n",
        "print('Test of the CNN')\n",
        "test(agent_cnn,env,epochs_test,prefix='cnn_test_temp_0.3_')\n",
        "print('Test of the FC')\n",
        "test(agent_fc,env,epochs_test,prefix='fc_test_temp_0.3_')"
      ],
      "execution_count": 36,
      "outputs": [
        {
          "output_type": "stream",
          "text": [
            "Test of the CNN\n",
            "Win/lose count 3.5/0. Average score (3.5)\n",
            "Win/lose count 15.5/0. Average score (9.5)\n",
            "Win/lose count 3.5/0. Average score (7.5)\n",
            "Win/lose count 18.5/0. Average score (10.25)\n",
            "Win/lose count 11.0/0. Average score (10.4)\n",
            "Win/lose count 27.0/0. Average score (13.166666666666666)\n",
            "Win/lose count 13.0/0. Average score (13.142857142857142)\n",
            "Win/lose count 9.5/0. Average score (12.6875)\n",
            "Win/lose count 15.0/0. Average score (12.944444444444445)\n",
            "Win/lose count 7.0/0. Average score (12.35)\n",
            "Win/lose count 5.0/0. Average score (11.681818181818182)\n",
            "Win/lose count 6.5/0. Average score (11.25)\n",
            "Win/lose count 16.5/0. Average score (11.653846153846153)\n",
            "Win/lose count 4.5/0. Average score (11.142857142857142)\n",
            "Win/lose count 8.0/0. Average score (10.933333333333334)\n",
            "Win/lose count 5.0/0. Average score (10.5625)\n",
            "Win/lose count 21.0/0. Average score (11.176470588235293)\n",
            "Win/lose count 10.5/0. Average score (11.13888888888889)\n",
            "Win/lose count 21.0/0. Average score (11.657894736842104)\n",
            "Win/lose count 5.0/0. Average score (11.325)\n",
            "Final score: 11.325\n",
            "Test of the FC\n",
            "Win/lose count 4.0/0. Average score (4.0)\n",
            "Win/lose count 5.0/0. Average score (4.5)\n",
            "Win/lose count 5.5/0. Average score (4.833333333333333)\n",
            "Win/lose count 6.0/0. Average score (5.125)\n",
            "Win/lose count 2.0/0. Average score (4.5)\n",
            "Win/lose count 2.0/0. Average score (4.083333333333333)\n",
            "Win/lose count 11.5/0. Average score (5.142857142857143)\n",
            "Win/lose count 4.0/0. Average score (5.0)\n",
            "Win/lose count 1.5/0. Average score (4.611111111111111)\n",
            "Win/lose count 2.0/0. Average score (4.35)\n",
            "Win/lose count 0/0. Average score (3.9545454545454546)\n",
            "Win/lose count 6.0/0. Average score (4.125)\n",
            "Win/lose count 5.0/0. Average score (4.1923076923076925)\n",
            "Win/lose count 1.5/0. Average score (4.0)\n",
            "Win/lose count 1.5/0. Average score (3.8333333333333335)\n",
            "Win/lose count 2.5/0. Average score (3.75)\n",
            "Win/lose count 3.0/0. Average score (3.7058823529411766)\n",
            "Win/lose count 3.5/0. Average score (3.6944444444444446)\n",
            "Win/lose count 14.5/1.0. Average score (4.2105263157894735)\n",
            "Win/lose count 3.5/0. Average score (4.175)\n",
            "Final score: 4.175\n"
          ],
          "name": "stdout"
        }
      ]
    },
    {
      "metadata": {
        "id": "vFtxcqLX7q2a",
        "colab_type": "code",
        "outputId": "15b05a9f-518b-41ff-ff32-f9b6a8dbaf15",
        "colab": {
          "base_uri": "https://localhost:8080/",
          "height": 293
        }
      },
      "cell_type": "code",
      "source": [
        "HTML(display_videos('cnn_test_temp_0.3_18.mp4'))"
      ],
      "execution_count": 33,
      "outputs": [
        {
          "output_type": "execute_result",
          "data": {
            "text/html": [
              "<video alt=\"test\" controls>\n",
              "                <source src=\"data:video/mp4;base64,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\" type=\"video/mp4\" />\n",
              "             </video>"
            ],
            "text/plain": [
              "<IPython.core.display.HTML object>"
            ]
          },
          "metadata": {
            "tags": []
          },
          "execution_count": 33
        }
      ]
    },
    {
      "metadata": {
        "id": "_czWcuEd7q2e",
        "colab_type": "code",
        "outputId": "a8fa6fda-c5a7-45ab-a163-3f2162db8000",
        "colab": {
          "base_uri": "https://localhost:8080/",
          "height": 293
        }
      },
      "cell_type": "code",
      "source": [
        "HTML(display_videos('fc_test_temp_0.3_19.mp4'))"
      ],
      "execution_count": 0,
      "outputs": [
        {
          "output_type": "execute_result",
          "data": {
            "text/html": [
              "<video alt=\"test\" controls>\n",
              "                <source src=\"data:video/mp4;base64,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\" type=\"video/mp4\" />\n",
              "             </video>"
            ],
            "text/plain": [
              "<IPython.core.display.HTML object>"
            ]
          },
          "metadata": {
            "tags": []
          },
          "execution_count": 19
        }
      ]
    },
    {
      "metadata": {
        "id": "-lbpxjnE7q2g",
        "colab_type": "text"
      },
      "cell_type": "markdown",
      "source": [
        "The first observations is that the fully connected network overfits greatly but the convolutionnal network exhibits strong performance. However, in both cases the agent seems to be blocked in a local optima and is keep taking action with sub-optimal rewards. This may be caused by a lack of exploration in training where not enough state-action pairs are visited by the agent. \n",
        "\n",
        "When the temperature is increased the average reward goes up, as it should be because the number of states with a positive reward increase reaching an average reward of $20.05$ for the cnn and $6.6$ for the fully connected networks for a temperature of $0.5$. However the exploration problem is still present."
      ]
    },
    {
      "metadata": {
        "id": "0YXvWYQ47q2h",
        "colab_type": "text"
      },
      "cell_type": "markdown",
      "source": [
        "***\n",
        "\n",
        "The algorithm tends to not explore the map which can be an issue. We propose two ideas in order to encourage exploration:\n",
        "1. Incorporating a decreasing $\\epsilon$-greedy exploration. You can use the method ```set_epsilon```\n",
        "2. Append via the environment a new state that describes if a cell has been visited or not\n",
        "\n",
        "***\n",
        "__Question 10__ Design a new ```train_explore``` function and environment class ```EnvironmentExploring``` to tackle the issue of exploration.\n",
        "\n"
      ]
    },
    {
      "metadata": {
        "id": "l9gewNvM7q2h",
        "colab_type": "code",
        "colab": {}
      },
      "cell_type": "code",
      "source": [
        "def train_explore(agent,env,epoch,prefix=''):\n",
        "    score = 0\n",
        "    loss = 0\n",
        "\n",
        "    for e in range(epoch):\n",
        "      \n",
        "        state = env.reset()\n",
        "        game_over = False\n",
        "\n",
        "        win = 0\n",
        "        lose = 0\n",
        "        t = 0 \n",
        "        \n",
        "        # epsilon decreases linearly troughout the game\n",
        "        epsilon = np.linspace(agent.epsilon/100,agent.epsilon, env.max_time+1)[::-1]\n",
        "\n",
        "        while not game_over:\n",
        "            \n",
        "            agent.set_epsilon(epsilon[t])\n",
        "            action = agent.act(state,train = True)\n",
        "            prev_state = state\n",
        "            state, reward, game_over = env.act(action,train = True)\n",
        "\n",
        "            if reward > 0:\n",
        "                win = win + reward\n",
        "            if reward < 0:\n",
        "                lose = lose -reward\n",
        "\n",
        "            loss = agent.reinforce(prev_state, state,  action, reward, game_over)\n",
        "            \n",
        "            t +=1\n",
        "            \n",
        "        if e % 1 == 0:\n",
        "            env.draw(prefix+str(e+1))\n",
        "\n",
        "        score += win-lose\n",
        "\n",
        "        print(\"Epoch {:03d}/{:03d} | Loss {:.4f} | Win/lose count {:.2f}/{:.2f} ({:.2f})\"\n",
        "              .format(e+1, epoch, loss, win, lose, win-lose))\n",
        "        agent.save(name_weights=prefix+'model.h5',name_model=prefix+'model.json')\n",
        "    print('Average Score = ', score/epoch)"
      ],
      "execution_count": 0,
      "outputs": []
    },
    {
      "metadata": {
        "id": "TOrAreDd2LKN",
        "colab_type": "code",
        "colab": {}
      },
      "cell_type": "code",
      "source": [
        "class EnvironmentExploring(object):\n",
        "    def __init__(self, grid_size=10, max_time=500, temperature=0.1):\n",
        "        grid_size = grid_size+4\n",
        "        self.grid_size = grid_size\n",
        "        self.max_time = max_time\n",
        "        self.temperature = temperature\n",
        "\n",
        "        self.board = np.zeros((grid_size,grid_size))\n",
        "        self.position = np.zeros((grid_size,grid_size))\n",
        "        self.maalus_postion = 0*self.board\n",
        "\n",
        "        self.x = 0\n",
        "        self.y = 1\n",
        "\n",
        "        self.t = 0\n",
        "\n",
        "        self.scale=16\n",
        "\n",
        "        self.to_draw = np.zeros((max_time+2, grid_size*self.scale, grid_size*self.scale, 3))\n",
        "\n",
        "\n",
        "    def draw(self,e):\n",
        "        skvideo.io.vwrite(str(e) + '.mp4', self.to_draw)\n",
        "\n",
        "    def get_frame(self,t):\n",
        "        b = np.zeros((self.grid_size,self.grid_size,3))+128\n",
        "        b[self.board>0,0] = 256\n",
        "        b[self.board < 0, 2] = 256\n",
        "        b[self.x,self.y,:]=256\n",
        "        b[-2:,:,:]=0\n",
        "        b[:,-2:,:]=0\n",
        "        b[:2,:,:]=0\n",
        "        b[:,:2,:]=0\n",
        "        \n",
        "        b =  cv2.resize(b, None, fx=self.scale, fy=self.scale, interpolation=cv2.INTER_NEAREST)\n",
        "\n",
        "        self.to_draw[t,:,:,:]=b\n",
        "\n",
        "\n",
        "    def act(self, action,train = False):\n",
        "        \"\"\"This function returns the new state, reward and decides if the\n",
        "        game ends.\"\"\"\n",
        "\n",
        "        self.get_frame(int(self.t))\n",
        "\n",
        "        self.position = np.zeros((self.grid_size, self.grid_size))\n",
        "\n",
        "        self.position[0:2,:]= -1\n",
        "        self.position[:,0:2] = -1\n",
        "        self.position[-2:, :] = -1\n",
        "        self.position[:,-2:] = -1\n",
        "\n",
        "        self.position[self.x, self.y] = 1\n",
        "        if action == 0:\n",
        "            if self.x == self.grid_size-3:\n",
        "                self.x = self.x-1\n",
        "            else:\n",
        "                self.x = self.x + 1\n",
        "        elif action == 1:\n",
        "            if self.x == 2:\n",
        "                self.x = self.x+1\n",
        "            else:\n",
        "                self.x = self.x-1\n",
        "        elif action == 2:\n",
        "            if self.y == self.grid_size - 3:\n",
        "                self.y = self.y - 1\n",
        "            else:\n",
        "                self.y = self.y + 1\n",
        "        elif action == 3:\n",
        "            if self.y == 2:\n",
        "                self.y = self.y + 1\n",
        "            else:\n",
        "                self.y = self.y - 1\n",
        "        else:\n",
        "            RuntimeError('Error: action not recognized')\n",
        "\n",
        "        self.t = self.t + 1\n",
        "        reward = 0\n",
        "        if train:\n",
        "          reward = -self.malus_position[self.x, self.y]\n",
        "        self.malus_position[self.x, self.y] = 0.1\n",
        "        reward = reward + self.board[self.x, self.y]\n",
        "        self.board[self.x, self.y] = 0\n",
        "        game_over = self.t > self.max_time\n",
        "        state = np.concatenate((self.malus_position.reshape(self.grid_size, self.grid_size,1),\n",
        "                                self.board.reshape(self.grid_size, self.grid_size,1),\n",
        "                        self.position.reshape(self.grid_size, self.grid_size,1)),axis=2)\n",
        "        state = state[self.x-2:self.x+3,self.y-2:self.y+3,:]\n",
        "\n",
        "        return state, reward, game_over\n",
        "\n",
        "    def reset(self):\n",
        "        \"\"\"This function resets the game and returns the initial state\"\"\"\n",
        "\n",
        "        self.x = np.random.randint(3, self.grid_size-3, size=1)[0]\n",
        "        self.y = np.random.randint(3, self.grid_size-3, size=1)[0]\n",
        "\n",
        "\n",
        "        bonus = 0.5*np.random.binomial(1,self.temperature,size=self.grid_size**2)\n",
        "        bonus = bonus.reshape(self.grid_size,self.grid_size)\n",
        "\n",
        "        malus = -1.0*np.random.binomial(1,self.temperature,size=self.grid_size**2)\n",
        "        malus = malus.reshape(self.grid_size, self.grid_size)\n",
        "\n",
        "        self.to_draw = np.zeros((self.max_time+2, self.grid_size*self.scale, self.grid_size*self.scale, 3))\n",
        "\n",
        "\n",
        "        malus[bonus>0]=0\n",
        "\n",
        "        self.board = bonus + malus\n",
        "        self.malus_position = 0*self.board\n",
        "\n",
        "        self.position = np.zeros((self.grid_size, self.grid_size))\n",
        "        self.position[0:2,:]= -1\n",
        "        self.position[:,0:2] = -1\n",
        "        self.position[-2:, :] = -1\n",
        "        self.position[:, -2:] = -1\n",
        "        self.board[self.x,self.y] = 0\n",
        "        self.t = 0\n",
        "\n",
        "        state = np.concatenate((self.malus_position.reshape(self.grid_size, self.grid_size,1),\n",
        "                                self.board.reshape(self.grid_size, self.grid_size,1),\n",
        "                        self.position.reshape(self.grid_size, self.grid_size,1)),axis=2)\n",
        "       \n",
        "        \n",
        "        state = state[self.x - 2:self.x + 3, self.y - 2:self.y + 3, :]\n",
        "        return state    "
      ],
      "execution_count": 0,
      "outputs": []
    },
    {
      "metadata": {
        "id": "N8W38aUY7q2k",
        "colab_type": "code",
        "outputId": "588e3e33-eecc-4094-e250-99cac67ad5b5",
        "colab": {
          "base_uri": "https://localhost:8080/",
          "height": 3670
        }
      },
      "cell_type": "code",
      "source": [
        "# Training\n",
        "env = EnvironmentExploring(grid_size=size, max_time=T, temperature=0.3)\n",
        "agent = DQN_CNN(size, lr=.09, epsilon = 1, memory_size=100, batch_size = 32,n_state=3)\n",
        "train_explore(agent, env, epochs_train, prefix='cnn_train_explore')\n",
        "HTML(display_videos('cnn_train_explore100.mp4'))"
      ],
      "execution_count": 0,
      "outputs": [
        {
          "output_type": "stream",
          "text": [
            "Epoch 001/200 | Loss 0.0201 | Win/lose count 10.00/22.00 (-12.00)\n",
            "Epoch 002/200 | Loss 0.0111 | Win/lose count 5.00/18.40 (-13.40)\n",
            "Epoch 003/200 | Loss 0.0033 | Win/lose count 6.00/18.60 (-12.60)\n",
            "Epoch 004/200 | Loss 0.0123 | Win/lose count 4.50/22.50 (-18.00)\n",
            "Epoch 005/200 | Loss 0.0066 | Win/lose count 9.50/17.80 (-8.30)\n",
            "Epoch 006/200 | Loss 0.0186 | Win/lose count 8.50/20.30 (-11.80)\n",
            "Epoch 007/200 | Loss 0.0160 | Win/lose count 4.00/21.80 (-17.80)\n",
            "Epoch 008/200 | Loss 0.0056 | Win/lose count 6.50/18.20 (-11.70)\n",
            "Epoch 009/200 | Loss 0.0025 | Win/lose count 9.00/15.60 (-6.60)\n",
            "Epoch 010/200 | Loss 0.0067 | Win/lose count 10.00/18.60 (-8.60)\n",
            "Epoch 011/200 | Loss 0.0065 | Win/lose count 15.00/16.10 (-1.10)\n",
            "Epoch 012/200 | Loss 0.0053 | Win/lose count 8.50/15.60 (-7.10)\n",
            "Epoch 013/200 | Loss 0.0172 | Win/lose count 13.00/16.30 (-3.30)\n",
            "Epoch 014/200 | Loss 0.0084 | Win/lose count 8.50/16.70 (-8.20)\n",
            "Epoch 015/200 | Loss 0.0119 | Win/lose count 17.50/15.00 (2.50)\n",
            "Epoch 016/200 | Loss 0.0148 | Win/lose count 12.50/14.50 (-2.00)\n",
            "Epoch 017/200 | Loss 0.0149 | Win/lose count 15.50/18.90 (-3.40)\n",
            "Epoch 018/200 | Loss 0.0138 | Win/lose count 11.00/15.00 (-4.00)\n",
            "Epoch 019/200 | Loss 0.0098 | Win/lose count 11.00/14.90 (-3.90)\n",
            "Epoch 020/200 | Loss 0.0112 | Win/lose count 20.00/16.30 (3.70)\n",
            "Epoch 021/200 | Loss 0.0061 | Win/lose count 19.50/14.10 (5.40)\n",
            "Epoch 022/200 | Loss 0.0105 | Win/lose count 23.00/13.00 (10.00)\n",
            "Epoch 023/200 | Loss 0.0141 | Win/lose count 11.00/15.60 (-4.60)\n",
            "Epoch 024/200 | Loss 0.0039 | Win/lose count 19.00/14.20 (4.80)\n",
            "Epoch 025/200 | Loss 0.0045 | Win/lose count 19.00/13.40 (5.60)\n",
            "Epoch 026/200 | Loss 0.0047 | Win/lose count 17.00/14.30 (2.70)\n",
            "Epoch 027/200 | Loss 0.0085 | Win/lose count 21.00/14.20 (6.80)\n",
            "Epoch 028/200 | Loss 0.0067 | Win/lose count 20.00/10.00 (10.00)\n",
            "Epoch 029/200 | Loss 0.0230 | Win/lose count 17.00/15.30 (1.70)\n",
            "Epoch 030/200 | Loss 0.0063 | Win/lose count 18.00/12.10 (5.90)\n",
            "Epoch 031/200 | Loss 0.0059 | Win/lose count 19.50/13.50 (6.00)\n",
            "Epoch 032/200 | Loss 0.0099 | Win/lose count 26.50/10.80 (15.70)\n",
            "Epoch 033/200 | Loss 0.0099 | Win/lose count 22.50/12.70 (9.80)\n",
            "Epoch 034/200 | Loss 0.0127 | Win/lose count 12.50/17.80 (-5.30)\n",
            "Epoch 035/200 | Loss 0.0171 | Win/lose count 21.00/18.80 (2.20)\n",
            "Epoch 036/200 | Loss 0.0125 | Win/lose count 19.50/16.20 (3.30)\n",
            "Epoch 037/200 | Loss 0.0116 | Win/lose count 20.00/17.60 (2.40)\n",
            "Epoch 038/200 | Loss 0.0078 | Win/lose count 22.50/14.20 (8.30)\n",
            "Epoch 039/200 | Loss 0.0075 | Win/lose count 28.50/11.50 (17.00)\n",
            "Epoch 040/200 | Loss 0.0106 | Win/lose count 25.50/18.60 (6.90)\n",
            "Epoch 041/200 | Loss 0.0082 | Win/lose count 26.00/11.80 (14.20)\n",
            "Epoch 042/200 | Loss 0.0276 | Win/lose count 21.50/13.60 (7.90)\n",
            "Epoch 043/200 | Loss 0.0092 | Win/lose count 21.00/15.20 (5.80)\n",
            "Epoch 044/200 | Loss 0.0145 | Win/lose count 15.00/13.30 (1.70)\n",
            "Epoch 045/200 | Loss 0.0235 | Win/lose count 25.00/13.10 (11.90)\n",
            "Epoch 046/200 | Loss 0.0162 | Win/lose count 18.00/15.10 (2.90)\n",
            "Epoch 047/200 | Loss 0.0163 | Win/lose count 25.50/16.70 (8.80)\n",
            "Epoch 048/200 | Loss 0.0119 | Win/lose count 21.50/15.70 (5.80)\n",
            "Epoch 049/200 | Loss 0.0080 | Win/lose count 25.00/16.00 (9.00)\n",
            "Epoch 050/200 | Loss 0.0096 | Win/lose count 23.50/15.50 (8.00)\n",
            "Epoch 051/200 | Loss 0.0159 | Win/lose count 23.00/15.00 (8.00)\n",
            "Epoch 052/200 | Loss 0.0223 | Win/lose count 25.00/13.70 (11.30)\n",
            "Epoch 053/200 | Loss 0.0194 | Win/lose count 26.50/13.30 (13.20)\n",
            "Epoch 054/200 | Loss 0.0162 | Win/lose count 20.50/14.80 (5.70)\n",
            "Epoch 055/200 | Loss 0.0083 | Win/lose count 27.00/10.80 (16.20)\n",
            "Epoch 056/200 | Loss 0.0074 | Win/lose count 20.50/15.10 (5.40)\n",
            "Epoch 057/200 | Loss 0.0079 | Win/lose count 21.50/16.70 (4.80)\n",
            "Epoch 058/200 | Loss 0.0098 | Win/lose count 21.50/14.80 (6.70)\n",
            "Epoch 059/200 | Loss 0.0065 | Win/lose count 19.00/13.00 (6.00)\n",
            "Epoch 060/200 | Loss 0.0123 | Win/lose count 24.00/13.10 (10.90)\n",
            "Epoch 061/200 | Loss 0.0105 | Win/lose count 24.00/12.00 (12.00)\n",
            "Epoch 062/200 | Loss 0.0189 | Win/lose count 28.00/12.80 (15.20)\n",
            "Epoch 063/200 | Loss 0.0106 | Win/lose count 26.00/14.30 (11.70)\n",
            "Epoch 064/200 | Loss 0.0139 | Win/lose count 20.50/12.40 (8.10)\n",
            "Epoch 065/200 | Loss 0.0109 | Win/lose count 17.50/13.10 (4.40)\n",
            "Epoch 066/200 | Loss 0.0248 | Win/lose count 20.00/11.40 (8.60)\n",
            "Epoch 067/200 | Loss 0.0139 | Win/lose count 23.00/16.80 (6.20)\n",
            "Epoch 068/200 | Loss 0.0074 | Win/lose count 18.00/13.60 (4.40)\n",
            "Epoch 069/200 | Loss 0.0100 | Win/lose count 25.50/14.90 (10.60)\n",
            "Epoch 070/200 | Loss 0.0206 | Win/lose count 21.50/12.50 (9.00)\n",
            "Epoch 071/200 | Loss 0.0149 | Win/lose count 22.00/13.90 (8.10)\n",
            "Epoch 072/200 | Loss 0.0049 | Win/lose count 25.00/15.90 (9.10)\n",
            "Epoch 073/200 | Loss 0.0143 | Win/lose count 25.00/10.90 (14.10)\n",
            "Epoch 074/200 | Loss 0.0042 | Win/lose count 22.00/14.80 (7.20)\n",
            "Epoch 075/200 | Loss 0.0161 | Win/lose count 24.50/15.80 (8.70)\n",
            "Epoch 076/200 | Loss 0.0102 | Win/lose count 23.00/12.40 (10.60)\n",
            "Epoch 077/200 | Loss 0.0033 | Win/lose count 28.00/10.90 (17.10)\n",
            "Epoch 078/200 | Loss 0.0446 | Win/lose count 18.50/13.80 (4.70)\n",
            "Epoch 079/200 | Loss 0.0200 | Win/lose count 22.00/15.20 (6.80)\n",
            "Epoch 080/200 | Loss 0.0218 | Win/lose count 25.50/15.80 (9.70)\n",
            "Epoch 081/200 | Loss 0.0122 | Win/lose count 20.00/14.20 (5.80)\n",
            "Epoch 082/200 | Loss 0.0042 | Win/lose count 18.50/16.40 (2.10)\n",
            "Epoch 083/200 | Loss 0.0161 | Win/lose count 27.50/7.90 (19.60)\n",
            "Epoch 084/200 | Loss 0.0134 | Win/lose count 21.50/14.70 (6.80)\n",
            "Epoch 085/200 | Loss 0.0113 | Win/lose count 24.50/13.60 (10.90)\n",
            "Epoch 086/200 | Loss 0.0089 | Win/lose count 24.50/11.80 (12.70)\n",
            "Epoch 087/200 | Loss 0.0096 | Win/lose count 19.50/14.40 (5.10)\n",
            "Epoch 088/200 | Loss 0.0131 | Win/lose count 21.00/17.00 (4.00)\n",
            "Epoch 089/200 | Loss 0.0134 | Win/lose count 15.50/19.40 (-3.90)\n",
            "Epoch 090/200 | Loss 0.0154 | Win/lose count 20.50/12.80 (7.70)\n",
            "Epoch 091/200 | Loss 0.0077 | Win/lose count 18.00/13.80 (4.20)\n",
            "Epoch 092/200 | Loss 0.0064 | Win/lose count 29.00/11.80 (17.20)\n",
            "Epoch 093/200 | Loss 0.0153 | Win/lose count 25.00/12.80 (12.20)\n",
            "Epoch 094/200 | Loss 0.0143 | Win/lose count 29.50/9.90 (19.60)\n",
            "Epoch 095/200 | Loss 0.0197 | Win/lose count 24.00/12.30 (11.70)\n",
            "Epoch 096/200 | Loss 0.0057 | Win/lose count 19.00/13.60 (5.40)\n",
            "Epoch 097/200 | Loss 0.0100 | Win/lose count 21.00/13.50 (7.50)\n",
            "Epoch 098/200 | Loss 0.0356 | Win/lose count 18.50/13.30 (5.20)\n",
            "Epoch 099/200 | Loss 0.0103 | Win/lose count 27.00/16.40 (10.60)\n",
            "Epoch 100/200 | Loss 0.0215 | Win/lose count 20.50/15.10 (5.40)\n",
            "Epoch 101/200 | Loss 0.0097 | Win/lose count 28.00/12.30 (15.70)\n",
            "Epoch 102/200 | Loss 0.0043 | Win/lose count 26.00/9.50 (16.50)\n",
            "Epoch 103/200 | Loss 0.0061 | Win/lose count 19.50/13.60 (5.90)\n",
            "Epoch 104/200 | Loss 0.0092 | Win/lose count 26.50/11.60 (14.90)\n",
            "Epoch 105/200 | Loss 0.0048 | Win/lose count 25.00/10.70 (14.30)\n",
            "Epoch 106/200 | Loss 0.0123 | Win/lose count 20.50/16.00 (4.50)\n",
            "Epoch 107/200 | Loss 0.0044 | Win/lose count 24.50/14.80 (9.70)\n",
            "Epoch 108/200 | Loss 0.0268 | Win/lose count 25.00/14.60 (10.40)\n",
            "Epoch 109/200 | Loss 0.0074 | Win/lose count 14.50/13.40 (1.10)\n",
            "Epoch 110/200 | Loss 0.0109 | Win/lose count 25.00/16.60 (8.40)\n",
            "Epoch 111/200 | Loss 0.0077 | Win/lose count 25.50/14.80 (10.70)\n",
            "Epoch 112/200 | Loss 0.0154 | Win/lose count 27.00/13.40 (13.60)\n",
            "Epoch 113/200 | Loss 0.0068 | Win/lose count 28.00/12.60 (15.40)\n",
            "Epoch 114/200 | Loss 0.0095 | Win/lose count 18.50/18.10 (0.40)\n",
            "Epoch 115/200 | Loss 0.0089 | Win/lose count 24.00/11.70 (12.30)\n",
            "Epoch 116/200 | Loss 0.0046 | Win/lose count 23.50/9.50 (14.00)\n",
            "Epoch 117/200 | Loss 0.0158 | Win/lose count 21.00/13.00 (8.00)\n",
            "Epoch 118/200 | Loss 0.0216 | Win/lose count 25.50/14.90 (10.60)\n",
            "Epoch 119/200 | Loss 0.0111 | Win/lose count 23.50/14.30 (9.20)\n",
            "Epoch 120/200 | Loss 0.0090 | Win/lose count 26.50/9.00 (17.50)\n",
            "Epoch 121/200 | Loss 0.0111 | Win/lose count 24.50/11.90 (12.60)\n",
            "Epoch 122/200 | Loss 0.0085 | Win/lose count 24.00/14.60 (9.40)\n",
            "Epoch 123/200 | Loss 0.0171 | Win/lose count 23.00/15.10 (7.90)\n",
            "Epoch 124/200 | Loss 0.0094 | Win/lose count 21.00/12.20 (8.80)\n",
            "Epoch 125/200 | Loss 0.0052 | Win/lose count 19.50/11.70 (7.80)\n",
            "Epoch 126/200 | Loss 0.0136 | Win/lose count 21.00/14.40 (6.60)\n",
            "Epoch 127/200 | Loss 0.0098 | Win/lose count 28.00/10.00 (18.00)\n",
            "Epoch 128/200 | Loss 0.0134 | Win/lose count 18.00/16.20 (1.80)\n",
            "Epoch 129/200 | Loss 0.0037 | Win/lose count 22.00/15.30 (6.70)\n",
            "Epoch 130/200 | Loss 0.0061 | Win/lose count 20.00/17.20 (2.80)\n",
            "Epoch 131/200 | Loss 0.0138 | Win/lose count 23.50/11.50 (12.00)\n",
            "Epoch 132/200 | Loss 0.0119 | Win/lose count 18.00/12.40 (5.60)\n",
            "Epoch 133/200 | Loss 0.0246 | Win/lose count 28.00/11.30 (16.70)\n",
            "Epoch 134/200 | Loss 0.0122 | Win/lose count 21.00/15.40 (5.60)\n",
            "Epoch 135/200 | Loss 0.0040 | Win/lose count 21.00/20.20 (0.80)\n",
            "Epoch 136/200 | Loss 0.0031 | Win/lose count 23.50/17.20 (6.30)\n",
            "Epoch 137/200 | Loss 0.0095 | Win/lose count 14.50/17.60 (-3.10)\n",
            "Epoch 138/200 | Loss 0.0349 | Win/lose count 21.50/15.00 (6.50)\n",
            "Epoch 139/200 | Loss 0.0096 | Win/lose count 25.00/10.00 (15.00)\n",
            "Epoch 140/200 | Loss 0.0170 | Win/lose count 25.50/11.70 (13.80)\n",
            "Epoch 141/200 | Loss 0.0055 | Win/lose count 18.00/14.00 (4.00)\n",
            "Epoch 142/200 | Loss 0.0209 | Win/lose count 21.50/14.30 (7.20)\n",
            "Epoch 143/200 | Loss 0.0288 | Win/lose count 18.00/15.80 (2.20)\n",
            "Epoch 144/200 | Loss 0.0100 | Win/lose count 23.00/13.60 (9.40)\n",
            "Epoch 145/200 | Loss 0.0074 | Win/lose count 21.50/16.20 (5.30)\n",
            "Epoch 146/200 | Loss 0.0030 | Win/lose count 27.00/13.40 (13.60)\n",
            "Epoch 147/200 | Loss 0.0073 | Win/lose count 24.00/12.70 (11.30)\n",
            "Epoch 148/200 | Loss 0.0253 | Win/lose count 21.50/17.60 (3.90)\n",
            "Epoch 149/200 | Loss 0.0147 | Win/lose count 16.00/18.40 (-2.40)\n",
            "Epoch 150/200 | Loss 0.0171 | Win/lose count 25.00/16.80 (8.20)\n",
            "Epoch 151/200 | Loss 0.0247 | Win/lose count 13.50/18.50 (-5.00)\n",
            "Epoch 152/200 | Loss 0.0093 | Win/lose count 26.00/10.20 (15.80)\n",
            "Epoch 153/200 | Loss 0.0092 | Win/lose count 19.00/15.40 (3.60)\n",
            "Epoch 154/200 | Loss 0.0062 | Win/lose count 16.50/14.10 (2.40)\n",
            "Epoch 155/200 | Loss 0.0049 | Win/lose count 17.50/15.30 (2.20)\n",
            "Epoch 156/200 | Loss 0.0079 | Win/lose count 24.00/15.00 (9.00)\n",
            "Epoch 157/200 | Loss 0.0186 | Win/lose count 22.00/15.30 (6.70)\n",
            "Epoch 158/200 | Loss 0.0063 | Win/lose count 27.00/15.00 (12.00)\n",
            "Epoch 159/200 | Loss 0.0224 | Win/lose count 30.50/12.20 (18.30)\n",
            "Epoch 160/200 | Loss 0.0166 | Win/lose count 20.50/13.20 (7.30)\n",
            "Epoch 161/200 | Loss 0.0119 | Win/lose count 21.50/10.60 (10.90)\n",
            "Epoch 162/200 | Loss 0.0292 | Win/lose count 20.50/15.00 (5.50)\n",
            "Epoch 163/200 | Loss 0.0056 | Win/lose count 20.00/14.10 (5.90)\n",
            "Epoch 164/200 | Loss 0.0158 | Win/lose count 22.00/17.60 (4.40)\n",
            "Epoch 165/200 | Loss 0.0313 | Win/lose count 20.00/15.40 (4.60)\n",
            "Epoch 166/200 | Loss 0.0306 | Win/lose count 21.50/12.60 (8.90)\n",
            "Epoch 167/200 | Loss 0.0133 | Win/lose count 21.00/15.90 (5.10)\n",
            "Epoch 168/200 | Loss 0.0055 | Win/lose count 21.00/13.90 (7.10)\n",
            "Epoch 169/200 | Loss 0.0205 | Win/lose count 21.00/9.80 (11.20)\n",
            "Epoch 170/200 | Loss 0.0051 | Win/lose count 18.00/12.70 (5.30)\n",
            "Epoch 171/200 | Loss 0.0083 | Win/lose count 22.50/10.10 (12.40)\n",
            "Epoch 172/200 | Loss 0.0343 | Win/lose count 30.00/11.00 (19.00)\n",
            "Epoch 173/200 | Loss 0.0209 | Win/lose count 20.00/13.60 (6.40)\n",
            "Epoch 174/200 | Loss 0.0082 | Win/lose count 20.00/13.50 (6.50)\n",
            "Epoch 175/200 | Loss 0.0082 | Win/lose count 19.00/16.50 (2.50)\n",
            "Epoch 176/200 | Loss 0.0295 | Win/lose count 17.50/20.20 (-2.70)\n",
            "Epoch 177/200 | Loss 0.0298 | Win/lose count 29.00/21.20 (7.80)\n",
            "Epoch 178/200 | Loss 0.0200 | Win/lose count 24.00/12.90 (11.10)\n",
            "Epoch 179/200 | Loss 0.0044 | Win/lose count 28.00/12.00 (16.00)\n",
            "Epoch 180/200 | Loss 0.0075 | Win/lose count 21.50/16.40 (5.10)\n",
            "Epoch 181/200 | Loss 0.0053 | Win/lose count 16.00/16.40 (-0.40)\n",
            "Epoch 182/200 | Loss 0.0251 | Win/lose count 20.00/15.30 (4.70)\n",
            "Epoch 183/200 | Loss 0.0127 | Win/lose count 24.00/12.90 (11.10)\n",
            "Epoch 184/200 | Loss 0.0083 | Win/lose count 22.50/14.60 (7.90)\n",
            "Epoch 185/200 | Loss 0.0139 | Win/lose count 20.50/14.30 (6.20)\n",
            "Epoch 186/200 | Loss 0.0041 | Win/lose count 19.00/12.50 (6.50)\n",
            "Epoch 187/200 | Loss 0.0123 | Win/lose count 25.00/23.10 (1.90)\n",
            "Epoch 188/200 | Loss 0.0028 | Win/lose count 15.50/14.10 (1.40)\n",
            "Epoch 189/200 | Loss 0.0403 | Win/lose count 20.50/16.40 (4.10)\n",
            "Epoch 190/200 | Loss 0.0245 | Win/lose count 22.50/14.90 (7.60)\n",
            "Epoch 191/200 | Loss 0.0059 | Win/lose count 19.50/14.30 (5.20)\n",
            "Epoch 192/200 | Loss 0.0176 | Win/lose count 22.00/15.60 (6.40)\n",
            "Epoch 193/200 | Loss 0.0052 | Win/lose count 21.50/18.60 (2.90)\n",
            "Epoch 194/200 | Loss 0.0230 | Win/lose count 17.00/14.70 (2.30)\n",
            "Epoch 195/200 | Loss 0.0076 | Win/lose count 27.50/9.90 (17.60)\n",
            "Epoch 196/200 | Loss 0.0154 | Win/lose count 20.00/14.30 (5.70)\n",
            "Epoch 197/200 | Loss 0.0117 | Win/lose count 26.50/16.70 (9.80)\n",
            "Epoch 198/200 | Loss 0.0186 | Win/lose count 23.50/11.70 (11.80)\n",
            "Epoch 199/200 | Loss 0.0088 | Win/lose count 28.00/11.40 (16.60)\n",
            "Epoch 200/200 | Loss 0.0114 | Win/lose count 21.50/13.90 (7.60)\n",
            "Average Score =  6.434500000000022\n"
          ],
          "name": "stdout"
        },
        {
          "output_type": "execute_result",
          "data": {
            "text/html": [
              "<video alt=\"test\" controls>\n",
              "                <source src=\"data:video/mp4;base64,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\" type=\"video/mp4\" />\n",
              "             </video>"
            ],
            "text/plain": [
              "<IPython.core.display.HTML object>"
            ]
          },
          "metadata": {
            "tags": []
          },
          "execution_count": 22
        }
      ]
    },
    {
      "metadata": {
        "id": "G2WabZsNqmkf",
        "colab_type": "code",
        "outputId": "67e3267d-983c-42f9-c8f2-339cb83cebd2",
        "colab": {
          "base_uri": "https://localhost:8080/",
          "height": 293
        }
      },
      "cell_type": "code",
      "source": [
        "HTML(display_videos('cnn_train_explore97.mp4'))"
      ],
      "execution_count": 0,
      "outputs": [
        {
          "output_type": "execute_result",
          "data": {
            "text/html": [
              "<video alt=\"test\" controls>\n",
              "                <source src=\"data:video/mp4;base64,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\" type=\"video/mp4\" />\n",
              "             </video>"
            ],
            "text/plain": [
              "<IPython.core.display.HTML object>"
            ]
          },
          "metadata": {
            "tags": []
          },
          "execution_count": 23
        }
      ]
    },
    {
      "metadata": {
        "id": "sYyd_myA7q2l",
        "colab_type": "code",
        "outputId": "40d2cac9-0a6f-4107-80f0-25b73633358f",
        "colab": {
          "base_uri": "https://localhost:8080/",
          "height": 646
        }
      },
      "cell_type": "code",
      "source": [
        "# Evaluation\n",
        "test(agent,env,epochs_test,prefix='cnn_test_explore')\n",
        "HTML(display_videos('cnn_test_explore19.mp4'))"
      ],
      "execution_count": 0,
      "outputs": [
        {
          "output_type": "stream",
          "text": [
            "Win/lose count 15.0/1.0. Average score (14.0)\n",
            "Win/lose count 17.0/1.0. Average score (15.0)\n",
            "Win/lose count 19.0/1.0. Average score (16.0)\n",
            "Win/lose count 10.5/1.0. Average score (14.375)\n",
            "Win/lose count 10.5/0. Average score (13.6)\n",
            "Win/lose count 20.5/3.0. Average score (14.25)\n",
            "Win/lose count 7.5/0. Average score (13.285714285714286)\n",
            "Win/lose count 11.0/1.0. Average score (12.875)\n",
            "Win/lose count 19.5/0. Average score (13.61111111111111)\n",
            "Win/lose count 5.5/0. Average score (12.8)\n",
            "Win/lose count 21.5/0. Average score (13.590909090909092)\n",
            "Win/lose count 21.5/2.0. Average score (14.083333333333334)\n",
            "Win/lose count 20.0/3.0. Average score (14.307692307692308)\n",
            "Win/lose count 14.5/2.0. Average score (14.178571428571429)\n",
            "Win/lose count 5.5/0. Average score (13.6)\n",
            "Win/lose count 13.0/1.0. Average score (13.5)\n",
            "Win/lose count 18.5/2.0. Average score (13.676470588235293)\n",
            "Win/lose count 16.5/3.0. Average score (13.666666666666666)\n",
            "Win/lose count 18.0/5.0. Average score (13.631578947368421)\n",
            "Win/lose count 21.0/3.0. Average score (13.85)\n",
            "Final score: 13.85\n"
          ],
          "name": "stdout"
        },
        {
          "output_type": "execute_result",
          "data": {
            "text/html": [
              "<video alt=\"test\" controls>\n",
              "                <source src=\"data:video/mp4;base64,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\" type=\"video/mp4\" />\n",
              "             </video>"
            ],
            "text/plain": [
              "<IPython.core.display.HTML object>"
            ]
          },
          "metadata": {
            "tags": []
          },
          "execution_count": 25
        }
      ]
    },
    {
      "metadata": {
        "id": "DoyMZlQp7q2n",
        "colab_type": "text"
      },
      "cell_type": "markdown",
      "source": [
        "***\n",
        "***\n",
        "__BONUS question__ Use the expert DQN from the previous question to generate some winning games. Train a model that mimicks its behavior. Compare the performances."
      ]
    },
    {
      "metadata": {
        "id": "ChH4K3f47q2o",
        "colab_type": "text"
      },
      "cell_type": "markdown",
      "source": [
        ""
      ]
    },
    {
      "metadata": {
        "id": "jAhwMIux7q2o",
        "colab_type": "text"
      },
      "cell_type": "markdown",
      "source": [
        "***"
      ]
    }
  ]
}